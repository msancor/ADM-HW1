{
 "cells": [
  {
   "cell_type": "markdown",
   "metadata": {},
   "source": [
    "# Algorithmic Methods for Data Mining: Homework 1\n",
    "\n",
    "**Author:** Miguel Angel Sanchez Cortes\n",
    "\n",
    "*MSc. in Data Science, Sapienza University of Rome*"
   ]
  },
  {
   "cell_type": "markdown",
   "metadata": {},
   "source": [
    "## Problem 1\n",
    "\n",
    "The goal of the first assignment focuses on building up our skills on Python. The assignment was done electronically using the [HACKERRANK](https://www.hackerrank.com) online service. The Python challenges that were completed were the following:\n",
    "\n",
    "1. [Introduction](https://www.hackerrank.com/domains/python/py-introduction) (all – total: 7 - max points: 75)\n",
    "2. [Data types](https://www.hackerrank.com/domains/python/py-basic-data-types) (all – total: 6 - max points: 60)\n",
    "3. [Strings](https://www.hackerrank.com/domains/python/py-strings) (all – total: 14 - max points: 220)\n",
    "4. [Sets](https://www.hackerrank.com/domains/python/py-sets) (all – total: 13 - max points: 170)\n",
    "5. [Collections](https://www.hackerrank.com/domains/python/py-collections) (all – total: 8 - max points: 220)\n",
    "6. [Date and Time](https://www.hackerrank.com/domains/python/py-date-time) (all – total: 2 - max points: 40)\n",
    "7. [Exceptions](https://www.hackerrank.com/challenges/exceptions) (only one  - max points: 10)\n",
    "8. Built-ins (only 3: [zipped](https://www.hackerrank.com/challenges/zipped), [python-sort-sort](https://www.hackerrank.com/challenges/python-sort-sort), and [ginorts](https://www.hackerrank.com/challenges/ginorts) - max points: 80)\n",
    "9. [Python Functionals](https://www.hackerrank.com/challenges/map-and-lambda-expression) (only 1 - max points: 20)\n",
    "10. [Regex and Parsing challenges](https://www.hackerrank.com/domains/python/py-regex) (all – total: 17 - max points: 560)\n",
    "11. [XML](https://www.hackerrank.com/domains/python/xml) (all – total: 2 - max points: 40)\n",
    "12. [Closures and Decorations](https://www.hackerrank.com/domains/python/closures-and-decorators) (all – total: 2 - max points: 60)\n",
    "13. [Numpy](https://www.hackerrank.com/domains/python/numpy) (all – total: 15 - max points: 300)"
   ]
  },
  {
   "cell_type": "markdown",
   "metadata": {},
   "source": [
    "### Problem 1.1: [Introduction](https://www.hackerrank.com/domains/python/py-introduction)"
   ]
  },
  {
   "cell_type": "markdown",
   "metadata": {},
   "source": [
    "#### 1.1.1: [Say \"Hello, World!\" With Python](https://www.hackerrank.com/challenges/py-hello-world)\n",
    "\n",
    "**Task:**\n",
    "\n",
    "Here is a sample line of code that can be executed in Python:\n",
    "\n",
    "```python\n",
    "print(\"Hello, World!\")\n",
    "```\n",
    "\n",
    "The above code will print \"Hello, World!\" on your screen. Try it yourself in the editor below!"
   ]
  },
  {
   "cell_type": "code",
   "execution_count": 3,
   "metadata": {},
   "outputs": [
    {
     "name": "stdout",
     "output_type": "stream",
     "text": [
      "Hello, World!\n"
     ]
    }
   ],
   "source": [
    "#The print function is used to print the output of \"Hello, World!\".\n",
    "print(\"Hello, World!\")"
   ]
  },
  {
   "cell_type": "markdown",
   "metadata": {},
   "source": [
    "#### 1.1.2: [Python If-Else](https://www.hackerrank.com/challenges/py-if-else/problem?isFullScreen=true)\n",
    "\n",
    "**Task:**\n",
    "\n",
    "Given an integer, $n$, perform the following conditional actions:\n",
    "\n",
    "- If $n$ is odd, print \"Weird\"\n",
    "- If $n$ is even and in the inclusive range of 2 to 5, print \"Not Weird\"\n",
    "- If $n$ is even and in the inclusive range of 6 to 20, print \"Weird\"\n",
    "- If $n$ is even and greater than 20, print \"Not Weird\""
   ]
  },
  {
   "cell_type": "code",
   "execution_count": 6,
   "metadata": {},
   "outputs": [
    {
     "name": "stdout",
     "output_type": "stream",
     "text": [
      "Not Weird\n"
     ]
    }
   ],
   "source": [
    "#Here, the input function is used to take the input from the user. \n",
    "#The strip() method is used to remove the whitespaces from the input.\n",
    "n = int(input().strip())\n",
    "\n",
    "#In this if-else conditional statement, we check if the number is even or odd.\n",
    "if n % 2 == 0:\n",
    "    #If the number is even, we check if the number is between 2 and 5, 6 and 20, or greater than 20.\n",
    "    #Based on the condition, we print the output.\n",
    "    if n>=2 and n<=5:\n",
    "        print(\"Not Weird\")\n",
    "    elif n>=6 and n<=20:\n",
    "        print(\"Weird\")\n",
    "    elif n>20:\n",
    "        print(\"Not Weird\")\n",
    "else:\n",
    "    print(\"Weird\")"
   ]
  },
  {
   "cell_type": "markdown",
   "metadata": {},
   "source": [
    "#### 1.1.3: [Arithmetic Operators](https://www.hackerrank.com/challenges/python-arithmetic-operators/problem?isFullScreen=true)\n",
    "\n",
    "**Task:**\n",
    "\n",
    "Given two integers, $a$ and $b$. Add code to print three lines where:\n",
    "\n",
    "- The first line contains the sum of the two numbers.\n",
    "- The second line contains the difference of the two numbers (first - second).\n",
    "- The third line contains the product of the two numbers."
   ]
  },
  {
   "cell_type": "code",
   "execution_count": 11,
   "metadata": {},
   "outputs": [
    {
     "name": "stdout",
     "output_type": "stream",
     "text": [
      "8\n",
      "-2\n",
      "15\n"
     ]
    }
   ],
   "source": [
    "#Here, we take two inputs from the user and store them in variables a and b.\n",
    "a = int(input().strip())\n",
    "b = int(input().strip())\n",
    "\n",
    "#We print the sum, difference, and product of the two numbers.\n",
    "print(a+b)\n",
    "print(a-b)\n",
    "print(a*b)"
   ]
  },
  {
   "cell_type": "markdown",
   "metadata": {},
   "source": [
    "#### 1.1.4: [Python: Division](https://www.hackerrank.com/challenges/python-division/problem?isFullScreen=true)\n",
    "\n",
    "**Task:**\n",
    "\n",
    "Given two integers, $a$ and $b$. Add logic to print two lines. The first line should contain the result of integer division, $a//b$. The second line should contain the result of float division, $a/b$.\n",
    "\n",
    "No rounding or formatting is necessary."
   ]
  },
  {
   "cell_type": "code",
   "execution_count": 13,
   "metadata": {},
   "outputs": [
    {
     "name": "stdout",
     "output_type": "stream",
     "text": [
      "0\n",
      "0.6\n"
     ]
    }
   ],
   "source": [
    "#Here, we take two inputs from the user and store them in variables a and b.\n",
    "a = int(input().strip())\n",
    "b = int(input().strip())\n",
    "\n",
    "#Here we print the integer division and float division of the two numbers.\n",
    "print(a//b)\n",
    "print(a/b)"
   ]
  },
  {
   "cell_type": "markdown",
   "metadata": {},
   "source": [
    "#### 1.1.5: [Loops](https://www.hackerrank.com/challenges/python-loops/problem?isFullScreen=true)\n",
    "\n",
    "**Task:**\n",
    "\n",
    "Given an integer $n$, for all non-negative integers $i<n$, print $i^2$."
   ]
  },
  {
   "cell_type": "code",
   "execution_count": 14,
   "metadata": {},
   "outputs": [
    {
     "name": "stdout",
     "output_type": "stream",
     "text": [
      "0\n",
      "1\n",
      "4\n"
     ]
    }
   ],
   "source": [
    "#Here, we take an input from the user and store it in variable n.\n",
    "n = int(input().strip())\n",
    "\n",
    "#Here, we loop through the numbers from 0 to n-1 and print the square of each number.\n",
    "for i in range(n):\n",
    "    print(i**2)"
   ]
  },
  {
   "cell_type": "markdown",
   "metadata": {},
   "source": [
    "#### 1.1.6: [Write a Function](https://www.hackerrank.com/challenges/write-a-function/problem?isFullScreen=true)\n",
    "\n",
    "An extra day is added to the calendar almost every four years as February 29, and the day is called a leap day. It corrects the calendar for the fact that our planet takes approximately 365.25 days to orbit the sun. A leap year contains a leap day.\n",
    "In the Gregorian calendar, three conditions are used to identify leap years:\n",
    "\n",
    "- The year can be evenly divided by 4, is a leap year, unless:\n",
    "\n",
    "  * The year can be evenly divided by 100, it is NOT a leap year, unless:\n",
    "\n",
    "    * The year is also evenly divisible by 400. Then it is a leap year.\n",
    "    \n",
    "This means that in the Gregorian calendar, the years 2000 and 2400 are leap years, while 1800, 1900, 2100, 2200, 2300 and 2500 are NOT leap years\n",
    "\n",
    "**Task:**\n",
    "\n",
    "Given a year, determine whether it is a leap year. If it is a leap year, return the Boolean True, otherwise return False.\n",
    "\n",
    "\n",
    "The code stub provided reads from STDIN and passes arguments to an *is_leap* function. It was only necessary to complete the *is_leap* function."
   ]
  },
  {
   "cell_type": "code",
   "execution_count": 15,
   "metadata": {},
   "outputs": [
    {
     "name": "stdout",
     "output_type": "stream",
     "text": [
      "False\n"
     ]
    }
   ],
   "source": [
    "#Here we define a function is_leap() that takes a year as input and returns True if the year is a leap year, and False if it is not.\n",
    "def is_leap(year):\n",
    "    \"\"\"\n",
    "    Prints if a year is a leap year or not.\n",
    "\n",
    "    Args:\n",
    "        year (int): Year to be checked.\n",
    "\n",
    "    Returns:\n",
    "        leap (bool): True if the year is a leap year, False if it is not.\n",
    "    \"\"\"\n",
    "    #Here we initialize the variable leap to False.\n",
    "    leap = False\n",
    "\n",
    "    #Here we check if the year is divisible by 4, 100, and 400.\n",
    "    if year%4 == 0:\n",
    "        if year%100 == 0:\n",
    "            if year%400 == 0:\n",
    "                leap = True\n",
    "            else:\n",
    "                pass\n",
    "        else:\n",
    "            leap = True\n",
    "    else:\n",
    "        pass\n",
    "    \n",
    "    #Here we return the value of leap.\n",
    "    return leap\n",
    "\n",
    "#Finally, we take an input from the user and store it in variable year.\n",
    "year = int(input().strip())\n",
    "#Here, we call the function is_leap() and print the output.\n",
    "print(is_leap(year))"
   ]
  },
  {
   "cell_type": "markdown",
   "metadata": {},
   "source": [
    "#### 1.1.7: [Print Function](https://www.hackerrank.com/challenges/python-print/problem?isFullScreen=true)\n",
    "\n",
    "**Task:**\n",
    "\n",
    "Given an integer $n$, without using any string methods, try to print the following: $123 \\cdots n$.\n",
    "\n",
    "Note that \"$\\cdots$\" represents the consecutive values in between.\n",
    "\n",
    ">**NOTE:** To solve this exercise, I consulted the possible arguments that could be used for the \"print()\" function. In particular, I consulted this [tutorial](https://www.datacamp.com/tutorial/python-print-function) where the functionality of the \"*end*\" argument is explained. Citing from the source:\n",
    "> * \"*end*: It is a string appended after the last value, defaults to a newline. It allows the programmer to define a custom ending character for each print call other than the default newline or \\n.\""
   ]
  },
  {
   "cell_type": "code",
   "execution_count": 24,
   "metadata": {},
   "outputs": [
    {
     "name": "stdout",
     "output_type": "stream",
     "text": [
      "1234"
     ]
    }
   ],
   "source": [
    "#Here, we take an input from the user and store it in variable n.\n",
    "n = int(input().strip())\n",
    "\n",
    "#Here we loop through the numbers from 1 to n and print them. The end=\"\" argument is used to print the numbers in the same line.\n",
    "for i in range(1,n+1):\n",
    "    print(i, end=\"\")"
   ]
  },
  {
   "cell_type": "markdown",
   "metadata": {},
   "source": [
    "### Problem 1.2: [Data Types](https://www.hackerrank.com/domains/python/py-basic-data-types)"
   ]
  },
  {
   "cell_type": "markdown",
   "metadata": {},
   "source": [
    "#### 1.2.1: [List Comprehensions](https://www.hackerrank.com/challenges/list-comprehensions/problem?isFullScreen=true)\n",
    "\n",
    "**Task:**\n",
    "\n",
    "You are given three integers $x$, $y$ and $z$ representing the dimensions of a cuboid along with an integer $n$. Print a list of all possible coordinates given by $(i, j, k)$ on a 3D grid where the sum of $i+j+k$ is not equal to $n$. Here, $0 \\leq i \\leq x$; $0 \\leq j \\leq y$; $0 \\leq k \\leq z$. \n",
    "\n",
    "Please use list comprehensions rather than multiple loops, as a learning exercise."
   ]
  },
  {
   "cell_type": "code",
   "execution_count": 27,
   "metadata": {},
   "outputs": [],
   "source": [
    "#Here we take as inputs the dimensions of the cuboid and the number n.\n",
    "x = int(input().strip())\n",
    "y = int(input().strip())\n",
    "z = int(input().strip())\n",
    "n = int(input().strip())\n",
    "\n",
    "#Using list comprehension, we create a list of all possible coordinates of the cuboid such that the sum of the coordinates is not equal to n.\n",
    "possible_coordinates = [[i, j, k] for i in range(x+1) for j in range(y+1) for k in range(z+1) if (i+j+k)!=n]\n",
    "\n",
    "#Here we print the list of possible coordinates.\n",
    "print(possible_coordinates)"
   ]
  },
  {
   "cell_type": "markdown",
   "metadata": {},
   "source": [
    "#### 1.2.2: [Find the Runner-Up Score!](https://www.hackerrank.com/challenges/find-second-maximum-number-in-a-list/problem?isFullScreen=true)\n",
    "\n",
    "**Task:**\n",
    "\n",
    "Given the participants' score sheet for your University Sports Day, you are required to find the runner-up score. You are given  scores. Store them in a list and find the score of the runner-up."
   ]
  },
  {
   "cell_type": "code",
   "execution_count": 44,
   "metadata": {},
   "outputs": [
    {
     "name": "stdout",
     "output_type": "stream",
     "text": [
      "1\n"
     ]
    }
   ],
   "source": [
    "#Here we take the number of elements in the list as input from the user and store it in variable n.\n",
    "n = int(input())\n",
    "#For the array, we take the elements as input from the user and store them in a list. \n",
    "#The map() function is used to convert the input to integers and the strip() and split() methods are used to remove the whitespaces and split the input in order to store it in a list.\n",
    "arr = list(map(int, input().strip().split()))\n",
    "\n",
    "#Here we sort the list in descending order (from largest to smallest).\n",
    "arr.sort(reverse=True)\n",
    "\n",
    "#Here we loop through every element in the list and check if it is not equal to the first element in the list (which is the largest element).\n",
    "#If the element is not equal to the first element, we print it and break the loop since that is the second largest element.\n",
    "for element in arr:\n",
    "    if element!=arr[0]:\n",
    "        print(element)\n",
    "        break"
   ]
  },
  {
   "cell_type": "markdown",
   "metadata": {},
   "source": [
    "#### 1.2.3: [Nested Lists](https://www.hackerrank.com/challenges/nested-list/problem?isFullScreen=true)\n",
    "**Task:**\n",
    "\n",
    "Given the names and grades for each student in a class of $N$ students, store them in a nested list and print the name(s) of any student(s) having the second lowest grade.\n",
    "\n",
    "**Note:** If there are multiple students with the second lowest grade, order their names alphabetically and print each name on a new line. Also, the first input line contains an integer, $N$, the number of students. The $2N$ subsequent lines describe each student over $2$ lines:\n",
    "\n",
    "- The first line contains a student's name. \n",
    "- The second line contains their grade."
   ]
  },
  {
   "cell_type": "code",
   "execution_count": 50,
   "metadata": {},
   "outputs": [
    {
     "name": "stdout",
     "output_type": "stream",
     "text": [
      "Iker\n",
      "Juan\n"
     ]
    }
   ],
   "source": [
    "#Here we create an empty list to store the names and scores of the students.\n",
    "students = []\n",
    "#Here we take the number of students as input from the user and store it in variable n.\n",
    "n = int(input().strip())\n",
    "#Here we loop through the number of students and take the name and score of each student as input from the user.\n",
    "for student in range(n):\n",
    "        name = input().strip()\n",
    "        score = float(input().strip())\n",
    "        #Here we append the name and score of each student to the list students.\n",
    "        students.append([name, score])\n",
    "\n",
    "#Here we create a list of all the scores of the students. We use the set() function to remove the duplicate scores and the list() function to convert the set to a list.\n",
    "grades_list = list(set([score for name, score in students]))\n",
    "#Here we sort the list of scores in ascending order (from smallest to largest).\n",
    "grades_list.sort()\n",
    "\n",
    "#Here we find the second lowest grade (it will simply be the second element of the grades_list) and store it in variable second_lowest_grade.\n",
    "second_lowest_grade = grades_list[1]\n",
    "\n",
    "#Here we create a list of all the students whose score is equal to the second lowest grade using list comprehension.\n",
    "second_lowest_students = [name for name, score in students if score == second_lowest_grade]\n",
    "#Here we sort the list of students in alphabetical order.\n",
    "second_lowest_students.sort()\n",
    "\n",
    "#Finally, we loop through the list of students whose score is equal to the second lowest grade and print the name of each student.\n",
    "for name in second_lowest_students:\n",
    "        print(name)"
   ]
  },
  {
   "cell_type": "markdown",
   "metadata": {},
   "source": [
    "#### 1.2.4: [Find the Percentage](https://www.hackerrank.com/challenges/finding-the-percentage/problem?isFullScreen=true)\n",
    "**Task:**\n",
    "\n",
    "Given the provided code stub that reads in a dictionary containing key/value pairs of name:[marks] for a list of students. Print the average of the marks array for the student name provided, showing 2 places after the decimal.\n",
    "\n",
    "For the input, the first line contains the integer $n$, the number of students' records. The next $n$ lines contain the names and marks obtained by a student, each value separated by a space. The final line contains query_name, the name of a student to query.\n",
    "\n",
    "> **NOTE:** The code stub that reads the input and puts it in a dictionary was provided by Hackerrank and not developed by me. Nevertheless, there were a few modifications explained in the comments.\n",
    "\n",
    "> **ANOTHER NOTE:** In order to find out how to print the mean showing 2 places after the decimal, I consulted the [Python docs](https://docs.python.org/3/tutorial/floatingpoint.html)."
   ]
  },
  {
   "cell_type": "code",
   "execution_count": 57,
   "metadata": {},
   "outputs": [
    {
     "name": "stdout",
     "output_type": "stream",
     "text": [
      "26.50\n"
     ]
    }
   ],
   "source": [
    "#Here we import the mean() function from the statistics module.\n",
    "from statistics import mean\n",
    "\n",
    "#Here we take the number of students as input from the user and store it in variable n.\n",
    "n = int(input().strip())\n",
    "#Here we create an empty dictionary to store the name and scores of the students.\n",
    "student_marks = {}\n",
    "\n",
    "#Here we loop through the number of students and take the name and score of each student as input from the user.\n",
    "for students in range(n):\n",
    "    #The split() method is used to split the input in order to store the name and scores in separate variables. \n",
    "    # The *line argument is used to store the rest of the input in the variable line.\n",
    "    name, *line = input().split()\n",
    "    #Here we convert the scores from strings to floats and store them in a list.\n",
    "    scores = list(map(float, line))\n",
    "    #Finally, we store the name and scores of each student in the dictionary student_marks.\n",
    "    student_marks[name] = scores\n",
    "\n",
    "#Here we take the name of the student whose average score is to be calculated as input from the user and store it in variable query_name.\n",
    "query_name = input().strip()\n",
    "\n",
    "#Here we print the average score of the student whose name is query_name. \n",
    "#The format() function is used to round the average score to 2 decimal places.\n",
    "print(format(mean(student_marks[query_name]), '.2f'))"
   ]
  },
  {
   "cell_type": "markdown",
   "metadata": {},
   "source": [
    "#### 1.2.5: [Lists](https://www.hackerrank.com/challenges/python-lists/problem?isFullScreen=true)\n",
    "**Task:**\n",
    "\n",
    "Consider a list (list = []). You can perform the following commands:\n",
    "\n",
    "\n",
    "- insert i e: Insert integer $e$ at position $i$.\n",
    "- print: Print the list.\n",
    "- remove e: Delete the first occurrence of integer $e$.\n",
    "- append e: Insert integer $e$ at the end of the list.\n",
    "- sort: Sort the list.\n",
    "- pop: Pop the last element from the list.\n",
    "- reverse: Reverse the list.\n",
    "\n",
    "\n",
    "Initialize your list and read in the value of $n$ followed by $n$ lines of commands where each command will be of the $7$ types listed above. Iterate through each command in order and perform the corresponding operation on your list.\n",
    "\n",
    "> **NOTE:** In order to find out the functioning of all the list methods, I consulted the [Python docs](https://docs.python.org/3/tutorial/datastructures.html)."
   ]
  },
  {
   "cell_type": "code",
   "execution_count": 60,
   "metadata": {},
   "outputs": [
    {
     "name": "stdout",
     "output_type": "stream",
     "text": [
      "[6, 5, 10]\n",
      "[1, 5, 9, 10]\n",
      "[9, 5, 1]\n"
     ]
    }
   ],
   "source": [
    "#Here we initialize the list.\n",
    "list = []\n",
    "#Here we take the number of commands as input from the user and store it in variable n.\n",
    "n = int(input().strip())\n",
    "\n",
    "#Here we loop through the number of commands and take the command and its arguments as input from the user.\n",
    "for i in range(n):\n",
    "    #The strip() and split() methods are used to remove the whitespaces and split the input.\n",
    "    command = input().strip().split()\n",
    "    #If the command is insert, we insert the specified element at the specified index.\n",
    "    if command[0] == 'insert':\n",
    "        list.insert(int(command[1]), int(command[2]))\n",
    "    #If the command is print, we print the list.\n",
    "    elif command[0] == 'print':\n",
    "        print(list)\n",
    "    #If the command is remove, we remove the specified element from the list.\n",
    "    elif command[0] == 'remove':\n",
    "        list.remove(int(command[1]))\n",
    "    #If the command is append, we append the specified element to the list.\n",
    "    elif command[0] == 'append':\n",
    "        list.append(int(command[1]))\n",
    "    #If the command is sort, we sort the list.\n",
    "    elif command[0] == 'sort':\n",
    "        list.sort()\n",
    "    #If the command is pop, we pop the last element from the list.\n",
    "    elif command[0] == 'pop':\n",
    "        list.pop()\n",
    "    #If the command is reverse, we reverse the list.\n",
    "    elif command[0] == 'reverse':\n",
    "        list.reverse()"
   ]
  },
  {
   "cell_type": "markdown",
   "metadata": {},
   "source": [
    "#### 1.2.6: [Tuples](https://www.hackerrank.com/challenges/python-tuples/problem?isFullScreen=true)\n",
    "**Task:**\n",
    "\n",
    "Given an integer, $n$, and $n$ space-separated integers as input, create a tuple, $t$, of those $n$ integers. Then compute and print the result of $hash(t)$."
   ]
  },
  {
   "cell_type": "code",
   "execution_count": 61,
   "metadata": {},
   "outputs": [
    {
     "name": "stdout",
     "output_type": "stream",
     "text": [
      "529344067295497451\n"
     ]
    }
   ],
   "source": [
    "#Here we take the number of integers as input from the user and store it in variable n.\n",
    "n = int(input().strip())\n",
    "\n",
    "#Here we take the integers as input from the user and store them in a list.\n",
    "integer_list = map(int, input().strip().split())\n",
    "#Here we convert the list to a tuple.\n",
    "integer_tuple = tuple(integer_list)\n",
    "\n",
    "#Here we print the hash of the tuple.\n",
    "print(hash(integer_tuple))"
   ]
  },
  {
   "cell_type": "markdown",
   "metadata": {},
   "source": [
    "### Problem 1.3: [Strings](https://www.hackerrank.com/domains/python/py-strings)"
   ]
  },
  {
   "cell_type": "markdown",
   "metadata": {},
   "source": [
    "#### 1.3.1: [sWAP cASE](https://www.hackerrank.com/challenges/swap-case/problem?isFullScreen=true)\n",
    "**Task:**\n",
    "\n",
    "You are given a string and your task is to swap cases. In other words, convert all lowercase letters to uppercase letters and vice versa.\n",
    "\n",
    "> **NOTE:** In order to find out the functioning of all the string methods, I consulted the [Python docs](https://docs.python.org/3/library/stdtypes.html#string-methods)."
   ]
  },
  {
   "cell_type": "code",
   "execution_count": 67,
   "metadata": {},
   "outputs": [
    {
     "name": "stdout",
     "output_type": "stream",
     "text": [
      "hOLA\n"
     ]
    }
   ],
   "source": [
    "#Here we define a function swap_case() that takes a string as input and returns the string with swapped cases.\n",
    "def swap_case(old_string):\n",
    "    \"\"\"\n",
    "    Swaps the cases of the characters in a string.\n",
    "\n",
    "    Args:\n",
    "        s (str): String to be modified.\n",
    "    \n",
    "    Returns:\n",
    "        s (str): String with swapped cases.\n",
    "    \"\"\"\n",
    "    #Here we swap the cases of the characters in the string using the swapcase() method.\n",
    "    new_string = old_string.swapcase()\n",
    "\n",
    "    return new_string\n",
    "\n",
    "#Here we take a string as input from the user and store it in variable input_string.\n",
    "input_string = input().strip()\n",
    "\n",
    "#Here we call the function swap_case() and print the output.\n",
    "result = swap_case(input_string)\n",
    "print(result)"
   ]
  },
  {
   "cell_type": "markdown",
   "metadata": {},
   "source": []
  }
 ],
 "metadata": {
  "kernelspec": {
   "display_name": "adm",
   "language": "python",
   "name": "python3"
  },
  "language_info": {
   "codemirror_mode": {
    "name": "ipython",
    "version": 3
   },
   "file_extension": ".py",
   "mimetype": "text/x-python",
   "name": "python",
   "nbconvert_exporter": "python",
   "pygments_lexer": "ipython3",
   "version": "3.11.5"
  },
  "orig_nbformat": 4
 },
 "nbformat": 4,
 "nbformat_minor": 2
}
