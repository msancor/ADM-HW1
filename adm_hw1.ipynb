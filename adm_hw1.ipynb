{
 "cells": [
  {
   "cell_type": "markdown",
   "metadata": {},
   "source": [
    "# Algorithmic Methods for Data Mining: Homework 1\n",
    "\n",
    "**Author:** Miguel Angel Sanchez Cortes\n",
    "\n",
    "*MSc. in Data Science, Sapienza University of Rome*"
   ]
  },
  {
   "cell_type": "markdown",
   "metadata": {},
   "source": [
    "## Problem 1\n",
    "\n",
    "The goal of the first assignment focuses on building up our skills on Python. The assignment was done electronically using the [HACKERRANK](https://www.hackerrank.com) online service. The Python challenges that were completed were the following:\n",
    "\n",
    "1. [Introduction](https://www.hackerrank.com/domains/python/py-introduction) (all – total: 7 - max points: 75)\n",
    "2. [Data types](https://www.hackerrank.com/domains/python/py-basic-data-types) (all – total: 6 - max points: 60)\n",
    "3. [Strings](https://www.hackerrank.com/domains/python/py-strings) (all – total: 14 - max points: 220)\n",
    "4. [Sets](https://www.hackerrank.com/domains/python/py-sets) (all – total: 13 - max points: 170)\n",
    "5. [Collections](https://www.hackerrank.com/domains/python/py-collections) (all – total: 8 - max points: 220)\n",
    "6. [Date and Time](https://www.hackerrank.com/domains/python/py-date-time) (all – total: 2 - max points: 40)\n",
    "7. [Exceptions](https://www.hackerrank.com/challenges/exceptions) (only one  - max points: 10)\n",
    "8. [Built-ins](https://www.hackerrank.com/domains/python/py-built-ins) (only 3: [Zipped!](https://www.hackerrank.com/challenges/zipped), [Athlete Sort](https://www.hackerrank.com/challenges/python-sort-sort), and [ginortS](https://www.hackerrank.com/challenges/ginorts) - max points: 80)\n",
    "9. [Python Functionals](https://www.hackerrank.com/challenges/map-and-lambda-expression) (only 1 - max points: 20)\n",
    "10. [Regex and Parsing challenges](https://www.hackerrank.com/domains/python/py-regex) (all – total: 17 - max points: 560)\n",
    "11. [XML](https://www.hackerrank.com/domains/python/xml) (all – total: 2 - max points: 40)\n",
    "12. [Closures and Decorations](https://www.hackerrank.com/domains/python/closures-and-decorators) (all – total: 2 - max points: 60)\n",
    "13. [Numpy](https://www.hackerrank.com/domains/python/numpy) (all – total: 15 - max points: 300)"
   ]
  },
  {
   "cell_type": "markdown",
   "metadata": {},
   "source": [
    "### Problem 1.1: [Introduction](https://www.hackerrank.com/domains/python/py-introduction)"
   ]
  },
  {
   "cell_type": "markdown",
   "metadata": {},
   "source": [
    "#### 1.1.1: [Say \"Hello, World!\" With Python](https://www.hackerrank.com/challenges/py-hello-world)\n",
    "\n",
    "**Task:**\n",
    "\n",
    "Here is a sample line of code that can be executed in Python:\n",
    "\n",
    "```python\n",
    "print(\"Hello, World!\")\n",
    "```\n",
    "\n",
    "The above code will print \"Hello, World!\" on your screen. Try it yourself in the editor below!"
   ]
  },
  {
   "cell_type": "code",
   "execution_count": 3,
   "metadata": {},
   "outputs": [
    {
     "name": "stdout",
     "output_type": "stream",
     "text": [
      "Hello, World!\n"
     ]
    }
   ],
   "source": [
    "#The print function is used to print the output of \"Hello, World!\".\n",
    "print(\"Hello, World!\")\n"
   ]
  },
  {
   "cell_type": "markdown",
   "metadata": {},
   "source": [
    "#### 1.1.2: [Python If-Else](https://www.hackerrank.com/challenges/py-if-else/problem?isFullScreen=true)\n",
    "\n",
    "**Task:**\n",
    "\n",
    "Given an integer, $n$, perform the following conditional actions:\n",
    "\n",
    "- If $n$ is odd, print \"Weird\"\n",
    "- If $n$ is even and in the inclusive range of 2 to 5, print \"Not Weird\"\n",
    "- If $n$ is even and in the inclusive range of 6 to 20, print \"Weird\"\n",
    "- If $n$ is even and greater than 20, print \"Not Weird\""
   ]
  },
  {
   "cell_type": "code",
   "execution_count": 6,
   "metadata": {},
   "outputs": [
    {
     "name": "stdout",
     "output_type": "stream",
     "text": [
      "Not Weird\n"
     ]
    }
   ],
   "source": [
    "#Here, the input function is used to take the input from the user. \n",
    "#The strip() method is used to remove the whitespaces from the input.\n",
    "n = int(input().strip())\n",
    "\n",
    "#In this if-else conditional statement, we check if the number is even or odd.\n",
    "if n % 2 == 0:\n",
    "    #If the number is even, we check if the number is between 2 and 5, 6 and 20, or greater than 20.\n",
    "    #Based on the condition, we print the output.\n",
    "    if n>=2 and n<=5:\n",
    "        print(\"Not Weird\")\n",
    "    elif n>=6 and n<=20:\n",
    "        print(\"Weird\")\n",
    "    elif n>20:\n",
    "        print(\"Not Weird\")\n",
    "else:\n",
    "    print(\"Weird\")\n"
   ]
  },
  {
   "cell_type": "markdown",
   "metadata": {},
   "source": [
    "#### 1.1.3: [Arithmetic Operators](https://www.hackerrank.com/challenges/python-arithmetic-operators/problem?isFullScreen=true)\n",
    "\n",
    "**Task:**\n",
    "\n",
    "Given two integers, $a$ and $b$. Add code to print three lines where:\n",
    "\n",
    "- The first line contains the sum of the two numbers.\n",
    "- The second line contains the difference of the two numbers (first - second).\n",
    "- The third line contains the product of the two numbers."
   ]
  },
  {
   "cell_type": "code",
   "execution_count": 11,
   "metadata": {},
   "outputs": [
    {
     "name": "stdout",
     "output_type": "stream",
     "text": [
      "8\n",
      "-2\n",
      "15\n"
     ]
    }
   ],
   "source": [
    "#Here, we take two inputs from the user and store them in variables a and b.\n",
    "a = int(input().strip())\n",
    "b = int(input().strip())\n",
    "\n",
    "#We print the sum, difference, and product of the two numbers.\n",
    "print(a+b)\n",
    "print(a-b)\n",
    "print(a*b)\n"
   ]
  },
  {
   "cell_type": "markdown",
   "metadata": {},
   "source": [
    "#### 1.1.4: [Python: Division](https://www.hackerrank.com/challenges/python-division/problem?isFullScreen=true)\n",
    "\n",
    "**Task:**\n",
    "\n",
    "Given two integers, $a$ and $b$. Add logic to print two lines. The first line should contain the result of integer division, $a//b$. The second line should contain the result of float division, $a/b$.\n",
    "\n",
    "No rounding or formatting is necessary."
   ]
  },
  {
   "cell_type": "code",
   "execution_count": 13,
   "metadata": {},
   "outputs": [
    {
     "name": "stdout",
     "output_type": "stream",
     "text": [
      "0\n",
      "0.6\n"
     ]
    }
   ],
   "source": [
    "#Here, we take two inputs from the user and store them in variables a and b.\n",
    "a = int(input().strip())\n",
    "b = int(input().strip())\n",
    "\n",
    "#Here we print the integer division and float division of the two numbers.\n",
    "print(a//b)\n",
    "print(a/b)\n"
   ]
  },
  {
   "cell_type": "markdown",
   "metadata": {},
   "source": [
    "#### 1.1.5: [Loops](https://www.hackerrank.com/challenges/python-loops/problem?isFullScreen=true)\n",
    "\n",
    "**Task:**\n",
    "\n",
    "Given an integer $n$, for all non-negative integers $i<n$, print $i^2$."
   ]
  },
  {
   "cell_type": "code",
   "execution_count": 14,
   "metadata": {},
   "outputs": [
    {
     "name": "stdout",
     "output_type": "stream",
     "text": [
      "0\n",
      "1\n",
      "4\n"
     ]
    }
   ],
   "source": [
    "#Here, we take an input from the user and store it in variable n.\n",
    "n = int(input().strip())\n",
    "\n",
    "#Here, we loop through the numbers from 0 to n-1 and print the square of each number.\n",
    "for i in range(n):\n",
    "    print(i**2)\n"
   ]
  },
  {
   "cell_type": "markdown",
   "metadata": {},
   "source": [
    "#### 1.1.6: [Write a Function](https://www.hackerrank.com/challenges/write-a-function/problem?isFullScreen=true)\n",
    "\n",
    "An extra day is added to the calendar almost every four years as February 29, and the day is called a leap day. It corrects the calendar for the fact that our planet takes approximately 365.25 days to orbit the sun. A leap year contains a leap day.\n",
    "In the Gregorian calendar, three conditions are used to identify leap years:\n",
    "\n",
    "- The year can be evenly divided by 4, is a leap year, unless:\n",
    "\n",
    "  * The year can be evenly divided by 100, it is NOT a leap year, unless:\n",
    "\n",
    "    * The year is also evenly divisible by 400. Then it is a leap year.\n",
    "    \n",
    "This means that in the Gregorian calendar, the years 2000 and 2400 are leap years, while 1800, 1900, 2100, 2200, 2300 and 2500 are NOT leap years\n",
    "\n",
    "**Task:**\n",
    "\n",
    "Given a year, determine whether it is a leap year. If it is a leap year, return the Boolean True, otherwise return False.\n",
    "\n",
    "\n",
    "The code stub provided reads from STDIN and passes arguments to an *is_leap* function. It was only necessary to complete the *is_leap* function."
   ]
  },
  {
   "cell_type": "code",
   "execution_count": 15,
   "metadata": {},
   "outputs": [
    {
     "name": "stdout",
     "output_type": "stream",
     "text": [
      "False\n"
     ]
    }
   ],
   "source": [
    "#Here we define a function is_leap() that takes a year as input and returns True if the year is a leap year, and False if it is not.\n",
    "def is_leap(year):\n",
    "    \"\"\"\n",
    "    Prints if a year is a leap year or not.\n",
    "\n",
    "    Args:\n",
    "        year (int): Year to be checked.\n",
    "\n",
    "    Returns:\n",
    "        leap (bool): True if the year is a leap year, False if it is not.\n",
    "    \"\"\"\n",
    "    #Here we initialize the variable leap to False.\n",
    "    leap = False\n",
    "\n",
    "    #Here we check if the year is divisible by 4, 100, and 400.\n",
    "    if year%4 == 0:\n",
    "        if year%100 == 0:\n",
    "            if year%400 == 0:\n",
    "                leap = True\n",
    "            else:\n",
    "                pass\n",
    "        else:\n",
    "            leap = True\n",
    "    else:\n",
    "        pass\n",
    "    \n",
    "    #Here we return the value of leap.\n",
    "    return leap\n",
    "\n",
    "#Finally, we take an input from the user and store it in variable year.\n",
    "year = int(input().strip())\n",
    "#Here, we call the function is_leap() and print the output.\n",
    "print(is_leap(year))\n"
   ]
  },
  {
   "cell_type": "markdown",
   "metadata": {},
   "source": [
    "#### 1.1.7: [Print Function](https://www.hackerrank.com/challenges/python-print/problem?isFullScreen=true)\n",
    "\n",
    "**Task:**\n",
    "\n",
    "Given an integer $n$, without using any string methods, try to print the following: $123 \\cdots n$.\n",
    "\n",
    "Note that \"$\\cdots$\" represents the consecutive values in between.\n",
    "\n",
    ">**NOTE:** To solve this exercise, I consulted the possible arguments that could be used for the \"print()\" function. In particular, I consulted this [tutorial](https://www.datacamp.com/tutorial/python-print-function) where the functionality of the \"*end*\" argument is explained. Citing from the source:\n",
    "> * \"*end*: It is a string appended after the last value, defaults to a newline. It allows the programmer to define a custom ending character for each print call other than the default newline or \\n.\""
   ]
  },
  {
   "cell_type": "code",
   "execution_count": 24,
   "metadata": {},
   "outputs": [
    {
     "name": "stdout",
     "output_type": "stream",
     "text": [
      "1234"
     ]
    }
   ],
   "source": [
    "#Here, we take an input from the user and store it in variable n.\n",
    "n = int(input().strip())\n",
    "\n",
    "#Here we loop through the numbers from 1 to n and print them. The end=\"\" argument is used to print the numbers in the same line.\n",
    "for i in range(1,n+1):\n",
    "    print(i, end=\"\")\n"
   ]
  },
  {
   "cell_type": "markdown",
   "metadata": {},
   "source": [
    "### Problem 1.2: [Data Types](https://www.hackerrank.com/domains/python/py-basic-data-types)"
   ]
  },
  {
   "cell_type": "markdown",
   "metadata": {},
   "source": [
    "#### 1.2.1: [List Comprehensions](https://www.hackerrank.com/challenges/list-comprehensions/problem?isFullScreen=true)\n",
    "\n",
    "**Task:**\n",
    "\n",
    "You are given three integers $x$, $y$ and $z$ representing the dimensions of a cuboid along with an integer $n$. Print a list of all possible coordinates given by $(i, j, k)$ on a 3D grid where the sum of $i+j+k$ is not equal to $n$. Here, $0 \\leq i \\leq x$; $0 \\leq j \\leq y$; $0 \\leq k \\leq z$. \n",
    "\n",
    "Please use list comprehensions rather than multiple loops, as a learning exercise."
   ]
  },
  {
   "cell_type": "code",
   "execution_count": 27,
   "metadata": {},
   "outputs": [],
   "source": [
    "#Here we take as inputs the dimensions of the cuboid and the number n.\n",
    "x = int(input().strip())\n",
    "y = int(input().strip())\n",
    "z = int(input().strip())\n",
    "n = int(input().strip())\n",
    "\n",
    "#Using list comprehension, we create a list of all possible coordinates of the cuboid such that the sum of the coordinates is not equal to n.\n",
    "possible_coordinates = [[i, j, k] for i in range(x+1) for j in range(y+1) for k in range(z+1) if (i+j+k)!=n]\n",
    "\n",
    "#Here we print the list of possible coordinates.\n",
    "print(possible_coordinates)\n"
   ]
  },
  {
   "cell_type": "markdown",
   "metadata": {},
   "source": [
    "#### 1.2.2: [Find the Runner-Up Score!](https://www.hackerrank.com/challenges/find-second-maximum-number-in-a-list/problem?isFullScreen=true)\n",
    "\n",
    "**Task:**\n",
    "\n",
    "Given the participants' score sheet for your University Sports Day, you are required to find the runner-up score. You are given  scores. Store them in a list and find the score of the runner-up."
   ]
  },
  {
   "cell_type": "code",
   "execution_count": 44,
   "metadata": {},
   "outputs": [
    {
     "name": "stdout",
     "output_type": "stream",
     "text": [
      "1\n"
     ]
    }
   ],
   "source": [
    "#Here we take the number of elements in the list as input from the user and store it in variable n.\n",
    "n = int(input())\n",
    "#For the array, we take the elements as input from the user and store them in a list. \n",
    "#The map() function is used to convert the input to integers and the strip() and split() methods are used to remove the whitespaces and split the input in order to store it in a list.\n",
    "arr = list(map(int, input().strip().split()))\n",
    "\n",
    "#Here we sort the list in descending order (from largest to smallest).\n",
    "arr.sort(reverse=True)\n",
    "\n",
    "#Here we loop through every element in the list and check if it is not equal to the first element in the list (which is the largest element).\n",
    "#If the element is not equal to the first element, we print it and break the loop since that is the second largest element.\n",
    "for element in arr:\n",
    "    if element!=arr[0]:\n",
    "        print(element)\n",
    "        break\n"
   ]
  },
  {
   "cell_type": "markdown",
   "metadata": {},
   "source": [
    "#### 1.2.3: [Nested Lists](https://www.hackerrank.com/challenges/nested-list/problem?isFullScreen=true)\n",
    "**Task:**\n",
    "\n",
    "Given the names and grades for each student in a class of $N$ students, store them in a nested list and print the name(s) of any student(s) having the second lowest grade.\n",
    "\n",
    "**Note:** If there are multiple students with the second lowest grade, order their names alphabetically and print each name on a new line. Also, the first input line contains an integer, $N$, the number of students. The $2N$ subsequent lines describe each student over $2$ lines:\n",
    "\n",
    "- The first line contains a student's name. \n",
    "- The second line contains their grade."
   ]
  },
  {
   "cell_type": "code",
   "execution_count": 50,
   "metadata": {},
   "outputs": [
    {
     "name": "stdout",
     "output_type": "stream",
     "text": [
      "Iker\n",
      "Juan\n"
     ]
    }
   ],
   "source": [
    "#Here we create an empty list to store the names and scores of the students.\n",
    "students = []\n",
    "#Here we take the number of students as input from the user and store it in variable n.\n",
    "n = int(input().strip())\n",
    "#Here we loop through the number of students and take the name and score of each student as input from the user.\n",
    "for student in range(n):\n",
    "        name = input().strip()\n",
    "        score = float(input().strip())\n",
    "        #Here we append the name and score of each student to the list students.\n",
    "        students.append([name, score])\n",
    "\n",
    "#Here we create a list of all the scores of the students. We use the set() function to remove the duplicate scores and the list() function to convert the set to a list.\n",
    "grades_list = list(set([score for name, score in students]))\n",
    "#Here we sort the list of scores in ascending order (from smallest to largest).\n",
    "grades_list.sort()\n",
    "\n",
    "#Here we find the second lowest grade (it will simply be the second element of the grades_list) and store it in variable second_lowest_grade.\n",
    "second_lowest_grade = grades_list[1]\n",
    "\n",
    "#Here we create a list of all the students whose score is equal to the second lowest grade using list comprehension.\n",
    "second_lowest_students = [name for name, score in students if score == second_lowest_grade]\n",
    "#Here we sort the list of students in alphabetical order.\n",
    "second_lowest_students.sort()\n",
    "\n",
    "#Finally, we loop through the list of students whose score is equal to the second lowest grade and print the name of each student.\n",
    "for name in second_lowest_students:\n",
    "        print(name)\n"
   ]
  },
  {
   "cell_type": "markdown",
   "metadata": {},
   "source": [
    "#### 1.2.4: [Find the Percentage](https://www.hackerrank.com/challenges/finding-the-percentage/problem?isFullScreen=true)\n",
    "**Task:**\n",
    "\n",
    "Given the provided code stub that reads in a dictionary containing key/value pairs of name:[marks] for a list of students. Print the average of the marks array for the student name provided, showing 2 places after the decimal.\n",
    "\n",
    "For the input, the first line contains the integer $n$, the number of students' records. The next $n$ lines contain the names and marks obtained by a student, each value separated by a space. The final line contains query_name, the name of a student to query.\n",
    "\n",
    "> **NOTE:** The code stub that reads the input and puts it in a dictionary was provided by Hackerrank and not developed by me. Nevertheless, there were a few modifications explained in the comments.\n",
    "\n",
    "> **ANOTHER NOTE:** In order to find out how to print the mean showing 2 places after the decimal, I consulted the [Python docs](https://docs.python.org/3/tutorial/floatingpoint.html)."
   ]
  },
  {
   "cell_type": "code",
   "execution_count": 57,
   "metadata": {},
   "outputs": [
    {
     "name": "stdout",
     "output_type": "stream",
     "text": [
      "26.50\n"
     ]
    }
   ],
   "source": [
    "#Here we import the mean() function from the statistics module.\n",
    "from statistics import mean\n",
    "\n",
    "#Here we take the number of students as input from the user and store it in variable n.\n",
    "n = int(input().strip())\n",
    "#Here we create an empty dictionary to store the name and scores of the students.\n",
    "student_marks = {}\n",
    "\n",
    "#Here we loop through the number of students and take the name and score of each student as input from the user.\n",
    "for students in range(n):\n",
    "    #The split() method is used to split the input in order to store the name and scores in separate variables. \n",
    "    # The *line argument is used to store the rest of the input in the variable line.\n",
    "    name, *line = input().split()\n",
    "    #Here we convert the scores from strings to floats and store them in a list.\n",
    "    scores = list(map(float, line))\n",
    "    #Finally, we store the name and scores of each student in the dictionary student_marks.\n",
    "    student_marks[name] = scores\n",
    "\n",
    "#Here we take the name of the student whose average score is to be calculated as input from the user and store it in variable query_name.\n",
    "query_name = input().strip()\n",
    "\n",
    "#Here we print the average score of the student whose name is query_name. \n",
    "#The format() function is used to round the average score to 2 decimal places.\n",
    "print(format(mean(student_marks[query_name]), '.2f'))\n"
   ]
  },
  {
   "cell_type": "markdown",
   "metadata": {},
   "source": [
    "#### 1.2.5: [Lists](https://www.hackerrank.com/challenges/python-lists/problem?isFullScreen=true)\n",
    "**Task:**\n",
    "\n",
    "Consider a list (list = []). You can perform the following commands:\n",
    "\n",
    "\n",
    "- insert i e: Insert integer $e$ at position $i$.\n",
    "- print: Print the list.\n",
    "- remove e: Delete the first occurrence of integer $e$.\n",
    "- append e: Insert integer $e$ at the end of the list.\n",
    "- sort: Sort the list.\n",
    "- pop: Pop the last element from the list.\n",
    "- reverse: Reverse the list.\n",
    "\n",
    "\n",
    "Initialize your list and read in the value of $n$ followed by $n$ lines of commands where each command will be of the $7$ types listed above. Iterate through each command in order and perform the corresponding operation on your list.\n",
    "\n",
    "> **NOTE:** In order to find out the functioning of all the list methods, I consulted the [Python docs](https://docs.python.org/3/tutorial/datastructures.html)."
   ]
  },
  {
   "cell_type": "code",
   "execution_count": 9,
   "metadata": {},
   "outputs": [
    {
     "name": "stdout",
     "output_type": "stream",
     "text": [
      "[1]\n"
     ]
    }
   ],
   "source": [
    "#Here we initialize the list.\n",
    "variable_list = []\n",
    "#Here we take the number of commands as input from the user and store it in variable n.\n",
    "n = int(input().strip())\n",
    "\n",
    "#Here we loop through the number of commands and take the command and its arguments as input from the user.\n",
    "for i in range(n):\n",
    "    #The strip() and split() methods are used to remove the whitespaces and split the input.\n",
    "    command = input().strip().split()\n",
    "    #If the command is insert, we insert the specified element at the specified index.\n",
    "    if command[0] == 'insert':\n",
    "        variable_list.insert(int(command[1]), int(command[2]))\n",
    "    #If the command is print, we print the list.\n",
    "    elif command[0] == 'print':\n",
    "        print(variable_list)\n",
    "    #If the command is remove, we remove the specified element from the list.\n",
    "    elif command[0] == 'remove':\n",
    "        variable_list.remove(int(command[1]))\n",
    "    #If the command is append, we append the specified element to the list.\n",
    "    elif command[0] == 'append':\n",
    "        variable_list.append(int(command[1]))\n",
    "    #If the command is sort, we sort the list.\n",
    "    elif command[0] == 'sort':\n",
    "        variable_list.sort()\n",
    "    #If the command is pop, we pop the last element from the list.\n",
    "    elif command[0] == 'pop':\n",
    "        variable_list.pop()\n",
    "    #If the command is reverse, we reverse the list.\n",
    "    elif command[0] == 'reverse':\n",
    "        variable_list.reverse()\n"
   ]
  },
  {
   "cell_type": "markdown",
   "metadata": {},
   "source": [
    "#### 1.2.6: [Tuples](https://www.hackerrank.com/challenges/python-tuples/problem?isFullScreen=true)\n",
    "**Task:**\n",
    "\n",
    "Given an integer, $n$, and $n$ space-separated integers as input, create a tuple, $t$, of those $n$ integers. Then compute and print the result of $hash(t)$."
   ]
  },
  {
   "cell_type": "code",
   "execution_count": 61,
   "metadata": {},
   "outputs": [
    {
     "name": "stdout",
     "output_type": "stream",
     "text": [
      "529344067295497451\n"
     ]
    }
   ],
   "source": [
    "#Here we take the number of integers as input from the user and store it in variable n.\n",
    "n = int(input().strip())\n",
    "\n",
    "#Here we take the integers as input from the user and store them in a list.\n",
    "integer_list = map(int, input().strip().split())\n",
    "#Here we convert the list to a tuple.\n",
    "integer_tuple = tuple(integer_list)\n",
    "\n",
    "#Here we print the hash of the tuple.\n",
    "print(hash(integer_tuple))\n"
   ]
  },
  {
   "cell_type": "markdown",
   "metadata": {},
   "source": [
    "### Problem 1.3: [Strings](https://www.hackerrank.com/domains/python/py-strings)"
   ]
  },
  {
   "cell_type": "markdown",
   "metadata": {},
   "source": [
    "#### 1.3.1: [sWAP cASE](https://www.hackerrank.com/challenges/swap-case/problem?isFullScreen=true)\n",
    "**Task:**\n",
    "\n",
    "You are given a string and your task is to swap cases. In other words, convert all lowercase letters to uppercase letters and vice versa.\n",
    "\n",
    "> **NOTE:** In order to find out the functioning of the $swapcase()$ method, I consulted the [Python docs](https://docs.python.org/3/library/stdtypes.html#string-methods)."
   ]
  },
  {
   "cell_type": "code",
   "execution_count": 67,
   "metadata": {},
   "outputs": [
    {
     "name": "stdout",
     "output_type": "stream",
     "text": [
      "hOLA\n"
     ]
    }
   ],
   "source": [
    "#Here we define a function swap_case() that takes a string as input and returns the string with swapped cases.\n",
    "def swap_case(old_string):\n",
    "    \"\"\"\n",
    "    Swaps the cases of the characters in a string.\n",
    "\n",
    "    Args:\n",
    "        s (str): String to be modified.\n",
    "    \n",
    "    Returns:\n",
    "        s (str): String with swapped cases.\n",
    "    \"\"\"\n",
    "    #Here we swap the cases of the characters in the string using the swapcase() method.\n",
    "    new_string = old_string.swapcase()\n",
    "\n",
    "    return new_string\n",
    "\n",
    "#Here we take a string as input from the user and store it in variable input_string.\n",
    "input_string = input().strip()\n",
    "\n",
    "#Here we call the function swap_case() and print the output.\n",
    "result = swap_case(input_string)\n",
    "print(result)\n"
   ]
  },
  {
   "cell_type": "markdown",
   "metadata": {},
   "source": [
    "#### 1.3.2: [String Split and Join](https://www.hackerrank.com/challenges/python-string-split-and-join/problem?isFullScreen=true)\n",
    "\n",
    "In Python, a string can be split on a delimiter.\n",
    "\n",
    "**Example:**\n",
    "\n",
    "```python\n",
    "a = \"this is a string\"\n",
    "a = a.split(\" \") # a is converted to a list of strings.\n",
    "print(a)\n",
    "```\n",
    "returns ```['this', 'is', 'a', 'string']```\n",
    "\n",
    "Joining a string is simple:\n",
    "\n",
    "```python\n",
    "a = \"-\".join(a)\n",
    "print(a)\n",
    "```\n",
    "\n",
    "returns ``` this-is-a-string```\n",
    "\n",
    "\n",
    "**Task:**\n",
    "\n",
    "You are given a string. Split the string on a \" \" (space) delimiter and join using a - hyphen\n",
    "\n"
   ]
  },
  {
   "cell_type": "code",
   "execution_count": 4,
   "metadata": {},
   "outputs": [
    {
     "name": "stdout",
     "output_type": "stream",
     "text": [
      "this-is-a-string\n"
     ]
    }
   ],
   "source": [
    "#Here we create a function that splits a string with spaces in it and joins it with a hyphen.\n",
    "def split_and_join(line):\n",
    "    \"\"\"\n",
    "    Function that splits a string and re-unites it with a - hyphen.\n",
    "\n",
    "    Args:\n",
    "        line (str): String to be modified.\n",
    "    \n",
    "    Returns:\n",
    "        new_line (str): String re-united with hyphens.\n",
    "    \"\"\"\n",
    "    #Here we split the string using \" \" as a delimiter.\n",
    "    line = line.split(\" \")\n",
    "    #Here we re-join it with hyphens.\n",
    "    new_line = \"-\".join(line)\n",
    "    #Here we return the new string.\n",
    "    return new_line\n",
    "\n",
    "#Here we take the string to modify as an input from the user\n",
    "line = input().strip()\n",
    "#Here we apply the split_and_join() function\n",
    "result = split_and_join(line)\n",
    "#Here we print the result\n",
    "print(result)\n"
   ]
  },
  {
   "cell_type": "markdown",
   "metadata": {},
   "source": [
    "#### 1.3.3: [What's Your Name?](https://www.hackerrank.com/challenges/whats-your-name/problem?isFullScreen=true)\n",
    "\n",
    "**Task:**\n",
    "\n",
    "You are given the firstname and lastname of a person on two different lines. Your task is to read them and print the following:\n",
    "\n",
    "> ``` Hello firstname lastname! You just delved into python.```"
   ]
  },
  {
   "cell_type": "code",
   "execution_count": 5,
   "metadata": {},
   "outputs": [
    {
     "name": "stdout",
     "output_type": "stream",
     "text": [
      "Hello Miguel Sanchez! You just delved into python.\n"
     ]
    }
   ],
   "source": [
    "#Here we create a function that prints the full name of a person within a personalized string\n",
    "def print_full_name(first, last):\n",
    "    \"\"\"\n",
    "    Function that prints the name and last name of a person along with a greeting.\n",
    "\n",
    "    Args:\n",
    "        first (str): First name of the person.\n",
    "        last (str): Last name of the person.\n",
    "    \n",
    "    Returns:\n",
    "        None\n",
    "    \"\"\"\n",
    "    #Here we use the f\"\"\" to add variables and print them as strings in order to print the personalized greeting.\n",
    "    print(f\"Hello {first} {last}! You just delved into python.\")\n",
    "\n",
    "#Here we take the first name as an input\n",
    "first_name = input().strip()\n",
    "#Here we take the last name as an input\n",
    "last_name = input().strip()\n",
    "#Here we call the function\n",
    "print_full_name(first_name, last_name)\n"
   ]
  },
  {
   "cell_type": "markdown",
   "metadata": {},
   "source": [
    "#### 1.3.4: [Mutations](https://www.hackerrank.com/challenges/python-mutations/problem?isFullScreen=true)\n",
    "\n",
    "We have seen that lists are mutable (they can be changed), and tuples are immutable (they cannot be changed).\n",
    "\n",
    "Let's try to understand this with an example.\n",
    "You are given an immutable string, and you want to make changes to it. How would you approach this?\n",
    "\n",
    "- One solution is to convert the string to a list and then change the value.\n",
    "\n",
    "    ``` python\n",
    "    string = \"abracadabra\"\n",
    "    l = list(string)\n",
    "    l[5] = 'k'\n",
    "    string = ''.join(l)\n",
    "    print(string)\n",
    "    ```\n",
    "\n",
    "    returns ```abrackdabra```\n",
    "\n",
    "- Another approach is to slice the string and join it back.\n",
    "\n",
    "    ``` python\n",
    "    string = string[:5] + \"k\" + string[6:]\n",
    "    print(string)\n",
    "    ```\n",
    "\n",
    "    returns ```abrackdabra```\n",
    "\n",
    "\n",
    "**Task:**\n",
    "\n",
    "Read a given string, change the character at a given index and then print the modified string."
   ]
  },
  {
   "cell_type": "code",
   "execution_count": 6,
   "metadata": {},
   "outputs": [
    {
     "name": "stdout",
     "output_type": "stream",
     "text": [
      "abrackdabra\n"
     ]
    }
   ],
   "source": [
    "def mutate_string(string, position, character):\n",
    "    \"\"\"\n",
    "    Function that adds a character at a specified position in a string.\n",
    "\n",
    "    Args:\n",
    "        string (str): String to be modified.\n",
    "        position (int): Position at which the character is to be added.\n",
    "        character (str): Character to be added.\n",
    "    \n",
    "    Returns:\n",
    "        new_string (str): Modified string.\n",
    "    \"\"\"\n",
    "    #Here we add the character at the specified position in the string.\n",
    "    new_string = string[:position] + character + string[position+1:]\n",
    "    #Here we return the modified string.\n",
    "    return new_string\n",
    "\n",
    "#Here we take a string as input from the user and store it in variable string.\n",
    "string = input().strip()\n",
    "#Here we take the index at which the character is to be added as input from the user and store it in variable index.\n",
    "#In the same way, we take the character to be added as input from the user and store it in variable character.\n",
    "index, character = input().strip().split()\n",
    "\n",
    "#Here we call the function mutate_string() to add the character at the specified position in the string.    \n",
    "new_string = mutate_string(string, int(index), character)\n",
    "#Here we print the modified string.\n",
    "print(new_string)\n"
   ]
  },
  {
   "cell_type": "markdown",
   "metadata": {},
   "source": [
    "#### 1.3.5: [Find a String](https://www.hackerrank.com/challenges/find-a-string/problem?isFullScreen=true)\n",
    "\n",
    "**Task:**\n",
    "\n",
    "In this challenge, the user enters a string and a substring. You have to print the number of times that the substring occurs in the given string. String traversal will take place from left to right, not from right to left.\n",
    "\n",
    "**NOTE:** String letters are case-sensitive."
   ]
  },
  {
   "cell_type": "code",
   "execution_count": 38,
   "metadata": {},
   "outputs": [
    {
     "name": "stdout",
     "output_type": "stream",
     "text": [
      "2\n"
     ]
    }
   ],
   "source": [
    "def count_substring(string, sub_string):\n",
    "    \"\"\"\n",
    "    Function that counts the number of times a substring appears in a string.\n",
    "\n",
    "    Args:\n",
    "        string (str): String to be checked.\n",
    "        sub_string (str): Substring to be checked.\n",
    "    \n",
    "    Returns:\n",
    "        count (int): Number of times the substring appears in the string.\n",
    "    \"\"\"\n",
    "    #Here we initialize the count to 0.\n",
    "    count = 0\n",
    "    #Here we define the limit index, which is the maximum index of the string where the substring can be present.\n",
    "    #We calculate it by subtracting the length of the substring from the length of the string and adding 1 because the range() function is exclusive of the last index.\n",
    "    limit_index = len(string) - len(sub_string) + 1\n",
    "    #Here we loop through the string from 0 to the limit index in chunks of the length of the substring and check if the substring is present.\n",
    "    #If it is present, we increment the count by 1.\n",
    "    for i in range(limit_index):\n",
    "        if string[i:i+len(sub_string)] == sub_string:\n",
    "            count += 1\n",
    "    \n",
    "    #Here we return the count.\n",
    "    return count\n",
    "\n",
    "#Here we take a string as input from the user and store it in variable string.\n",
    "string = input().strip()\n",
    "#Here we take a substring as input from the user and store it in variable sub_string.\n",
    "sub_string = input().strip()\n",
    "\n",
    "#Here we call the function count_substring() to count the number of times the substring appears in the string.\n",
    "count = count_substring(string, sub_string)\n",
    "#Here we print the count.\n",
    "print(count)\n"
   ]
  },
  {
   "cell_type": "markdown",
   "metadata": {},
   "source": [
    "#### 1.3.6: [String Validators](https://www.hackerrank.com/challenges/string-validators/problem?isFullScreen=true)\n",
    "\n",
    "Python has built-in string validation methods for basic data. It can check if a string is composed of alphabetical characters, alphanumeric characters, digits, etc.\n",
    "\n",
    "- [str.isalnum()](https://docs.python.org/2/library/stdtypes.html#str.isalnum): This method checks if all the characters of a string are alphanumeric (a-z, A-Z and 0-9).\n",
    "\n",
    "    ```python\n",
    "    print('ab123'.isalnum())\n",
    "    True\n",
    "\n",
    "    print('ab123#'.isalnum())\n",
    "    False\n",
    "    ```\n",
    "- [str.isalpha()](https://docs.python.org/2/library/stdtypes.html#str.isalpha): This method checks if all the characters of a string are alphabetical (a-z and A-Z).\n",
    "\n",
    "    ```python\n",
    "    print('abcD'.isalpha())\n",
    "    True\n",
    "\n",
    "    print('abcd1'.isalpha())\n",
    "    False\n",
    "    ```\n",
    "- [str.isdigit()](https://docs.python.org/2/library/stdtypes.html#str.isdigit): This method checks if all the characters of a string are digits (0-9).\n",
    "\n",
    "    ```python\n",
    "    print('1234'.isdigit())\n",
    "    True\n",
    "\n",
    "    print('123edsd'.isdigit())\n",
    "    False\n",
    "    ```\n",
    "\n",
    "- [str.islower()](https://docs.python.org/2/library/stdtypes.html#str.islower): This method checks if all the characters of a string are lowercase characters (a-z).\n",
    "\n",
    "    ```python\n",
    "    print('abcd123#'.islower())\n",
    "    True\n",
    "\n",
    "    print('Abcd123#'.islower())\n",
    "    False\n",
    "    ```\n",
    "- [str.isupper()](https://docs.python.org/2/library/stdtypes.html#str.isupper): This method checks if all the characters of a string are uppercase characters (A-Z).\n",
    "\n",
    "    ```python\n",
    "    print('ABCD123#'.isupper())\n",
    "    True\n",
    "\n",
    "    print('Abcd123#'.isupper())\n",
    "    False\n",
    "    ```\n",
    "**Task:**\n",
    "\n",
    "You're given a string $S$. Your task is to find out if the string $S$ contains: alphanumeric characters, alphabetical characters, digits, lowercase and uppercase characters.\n",
    "\n",
    "> **NOTE:** I consulted the Python [docs](https://docs.python.org/3/library/functions.html#any) to find the built-in ```any()``` function. This function returns ```True``` if any element of an iterable is True."
   ]
  },
  {
   "cell_type": "code",
   "execution_count": 1,
   "metadata": {},
   "outputs": [
    {
     "name": "stdout",
     "output_type": "stream",
     "text": [
      "True\n",
      "True\n",
      "True\n",
      "True\n",
      "True\n"
     ]
    }
   ],
   "source": [
    "#Here we take a string as input from the user and store it in variable s.\n",
    "s = input().strip()\n",
    "\n",
    "#Here we create a list of booleans that check if the string contains alphanumeric characters, alphabetical characters, digits, lowercase characters, and uppercase characters.\n",
    "#We use the any() function to check if any of the characters in the string satisfy the condition.\n",
    "list = [any(character.isalnum() for character in s), any(character.isalpha() for character in s), any(character.isdigit() for character in s), any(character.islower() for character in s), any(character.isupper() for character in s)]\n",
    "\n",
    "#Here we loop through the list and print each element.\n",
    "for element in list:\n",
    "    print(element)\n"
   ]
  },
  {
   "cell_type": "markdown",
   "metadata": {},
   "source": [
    "#### 1.3.7: [Text Alignment](https://www.hackerrank.com/challenges/text-alignment/problem)\n",
    "\n",
    "In Python, a string of text can be aligned left, right and center.\n",
    "\n",
    "- ```.ljust(width)```: This method returns a left aligned string of length width.\n",
    "\n",
    "    ```python\n",
    "    width = 20\n",
    "    print 'HackerRank'.ljust(width,'-')\n",
    "    ```\n",
    "    prints ```HackerRank----------```\n",
    "\n",
    "- ```.center(width)```: This method returns a centered string of length width.\n",
    "\n",
    "    ```python\n",
    "    width = 20\n",
    "    print 'HackerRank'.center(width,'-')\n",
    "    ```\n",
    "    prints ```-----HackerRank-----```\n",
    "\n",
    "- ```.rjust(width)```: This method returns a right aligned string of length width.\n",
    "\n",
    "    ```python\n",
    "    width = 20\n",
    "    print 'HackerRank'.rjust(width,'-')\n",
    "    ```\n",
    "    prints ```----------HackerRank```\n",
    "\n",
    "**Task:**\n",
    "\n",
    "You are given a partial code that is used for generating the HackerRank Logo of variable thickness:\n",
    "\n",
    "```python\n",
    "#Replace all ______ with rjust, ljust or center. \n",
    "\n",
    "thickness = int(input()) #This must be an odd number\n",
    "c = 'H'\n",
    "\n",
    "#Top Cone\n",
    "for i in range(thickness):\n",
    "    print((c*i).______(thickness-1)+c+(c*i).______(thickness-1))\n",
    "\n",
    "#Top Pillars\n",
    "for i in range(thickness+1):\n",
    "    print((c*thickness).______(thickness*2)+(c*thickness).______(thickness*6))\n",
    "\n",
    "#Middle Belt\n",
    "for i in range((thickness+1)//2):\n",
    "    print((c*thickness*5).______(thickness*6))    \n",
    "\n",
    "#Bottom Pillars\n",
    "for i in range(thickness+1):\n",
    "    print((c*thickness).______(thickness*2)+(c*thickness).______(thickness*6))    \n",
    "\n",
    "#Bottom Cone\n",
    "for i in range(thickness):\n",
    "    print(((c*(thickness-i-1)).______(thickness)+c+(c*(thickness-i-1)).______(thickness)).______(thickness*6))\n",
    "```\n",
    "\n",
    "Your task is to replace the blank (______) with rjust, ljust or center."
   ]
  },
  {
   "cell_type": "code",
   "execution_count": 15,
   "metadata": {},
   "outputs": [
    {
     "name": "stdout",
     "output_type": "stream",
     "text": [
      "    H    \n",
      "   HHH   \n",
      "  HHHHH  \n",
      " HHHHHHH \n",
      "HHHHHHHHH\n",
      "  HHHHH               HHHHH             \n",
      "  HHHHH               HHHHH             \n",
      "  HHHHH               HHHHH             \n",
      "  HHHHH               HHHHH             \n",
      "  HHHHH               HHHHH             \n",
      "  HHHHH               HHHHH             \n",
      "  HHHHHHHHHHHHHHHHHHHHHHHHH   \n",
      "  HHHHHHHHHHHHHHHHHHHHHHHHH   \n",
      "  HHHHHHHHHHHHHHHHHHHHHHHHH   \n",
      "  HHHHH               HHHHH             \n",
      "  HHHHH               HHHHH             \n",
      "  HHHHH               HHHHH             \n",
      "  HHHHH               HHHHH             \n",
      "  HHHHH               HHHHH             \n",
      "  HHHHH               HHHHH             \n",
      "                    HHHHHHHHH \n",
      "                     HHHHHHH  \n",
      "                      HHHHH   \n",
      "                       HHH    \n",
      "                        H     \n"
     ]
    }
   ],
   "source": [
    "#Here we take as input the thickness of the logo as an odd number from the user and store it in variable thickness.\n",
    "thickness = int(input())\n",
    "#Here we define the character to be used to print the logo.\n",
    "c = 'H'\n",
    "\n",
    "#Here we print the top cone. The rjust() and ljust() methods are used to right and left justify the string.\n",
    "for i in range(thickness):\n",
    "    print((c*i).rjust(thickness-1)+c+(c*i).ljust(thickness-1))\n",
    "\n",
    "#Here we print the top pillars. The center() method is used to center the characters.\n",
    "for i in range(thickness+1):\n",
    "    print((c*thickness).center(thickness*2)+(c*thickness).center(thickness*6))\n",
    "\n",
    "#Here we print the middle belt. The center() method is used to center the characters.\n",
    "for i in range((thickness+1)//2):\n",
    "    print((c*thickness*5).center(thickness*6))\n",
    "\n",
    "#Here we print the bottom pillars. The center() method is used to center the characters as in the previous case.\n",
    "for i in range(thickness+1):\n",
    "    print((c*thickness).center(thickness*2)+(c*thickness).center(thickness*6))\n",
    "\n",
    "#Here we print the bottom cone. The rjust() and ljust() methods are used to right and left justify the string as in the previous case.\n",
    "for i in range(thickness):\n",
    "    print(((c*(thickness-i-1)).rjust(thickness)+c+(c*(thickness-i-1)).ljust(thickness)).rjust(thickness*6))\n"
   ]
  },
  {
   "cell_type": "markdown",
   "metadata": {},
   "source": [
    "#### 1.3.8: [Text Wrap](https://www.hackerrank.com/challenges/text-wrap/problem?isFullScreen=true)\n",
    "\n",
    "**Task:**\n",
    "\n",
    "You are given a string $S$ and width $w$. Your task is to wrap the string into a paragraph of width $w$.\n",
    "\n",
    "> **NOTE:** The code provided suggest us to use the Python ```textwrap``` package. Within this package, I found the ```wrap(s,w)``` method that converts a string $s$ into a list where each element is a part of the string with maximum width $w$. Also, the $.join()$ method, that joins a string with another wrapped string."
   ]
  },
  {
   "cell_type": "code",
   "execution_count": null,
   "metadata": {},
   "outputs": [],
   "source": [
    "#Here we import the textwrap module. This module is used to wrap the string to a specified width.\n",
    "import textwrap\n",
    "\n",
    "#Here we define a function wrap() that takes a string and a maximum width as input and returns the wrapped string.\n",
    "def wrap(string, max_width):\n",
    "    \"\"\"\n",
    "    Function that wraps a string to a specified width.\n",
    "\n",
    "    Args:\n",
    "        string (str): String to be wrapped.\n",
    "        max_width (int): Maximum width of the string.\n",
    "    \n",
    "    Returns:\n",
    "        wrapped_string (str): Wrapped string.\n",
    "    \"\"\"\n",
    "    #Here we use the wrap() method to wrap the string to the specified width. The wrap() method returns a list of strings with each string having a maximum width of max_width.\n",
    "    #The join() method is used to join the strings in the list with a newline character.\n",
    "    wrapped_string = \"\\n\".join(textwrap.wrap(string, max_width))\n",
    "\n",
    "    #Here we return the wrapped string.\n",
    "    return wrapped_string\n",
    "\n",
    "#Here we take a string and a maximum width as input from the user and store them in variables string and max_width.\n",
    "string, max_width = input().strip(), int(input().strip())\n",
    "\n",
    "#Here we call the function wrap() to wrap the string to the specified width.\n",
    "result = wrap(string, max_width)\n",
    "#Here we print the wrapped string.\n",
    "print(result)\n"
   ]
  },
  {
   "cell_type": "markdown",
   "metadata": {},
   "source": [
    "#### 1.3.9: [Door Mat](https://www.hackerrank.com/challenges/designer-door-mat/problem?isFullScreen=true)\n",
    "\n",
    "Mr. Vincent works in a door mat manufacturing company. One day, he designed a new door mat with the following specifications:\n",
    "\n",
    "- Mat size must be $N \\times M$. ($N$ is an odd natural number, and $M$ is $3$ times $N$.)\n",
    "- The design should have 'WELCOME' written in the center.\n",
    "- The design pattern should only use ```|```, ```.``` and ```-``` characters.\n",
    "\n",
    "**Task:**\n",
    "\n",
    "Output the design pattern."
   ]
  },
  {
   "cell_type": "code",
   "execution_count": 38,
   "metadata": {},
   "outputs": [
    {
     "name": "stdout",
     "output_type": "stream",
     "text": [
      "------------.|.------------\n",
      "---------.|..|..|.---------\n",
      "------.|..|..|..|..|.------\n",
      "---.|..|..|..|..|..|..|.---\n",
      "----------WELCOME----------\n",
      "---.|..|..|..|..|..|..|.---\n",
      "------.|..|..|..|..|.------\n",
      "---------.|..|..|.---------\n",
      "------------.|.------------\n"
     ]
    }
   ],
   "source": [
    "#Here we rake the width and length of the door mat as input from the user and store them in variables n and m.\n",
    "n, m = map(int, input().strip().split())\n",
    "\n",
    "#Here we print the superior part of the door mat. The center() method is used to center the characters.\n",
    "for i in range(1, n-1, 2):\n",
    "    print((i*\".|.\").center(m, \"-\"))\n",
    "\n",
    "#Here we print the WELCOME letter in the center of the door mat. The center() method is used to center the characters.\n",
    "print(\"WELCOME\".center(m, \"-\"))\n",
    "\n",
    "#Here we print the inferior part of the door mat. The center() method is used to center the characters.\n",
    "for i in range(n-2, 0, -2):\n",
    "    print((i*\".|.\").center(m, \"-\"))\n"
   ]
  },
  {
   "cell_type": "markdown",
   "metadata": {},
   "source": [
    "#### 1.3.10: [String Formatting](https://www.hackerrank.com/challenges/python-string-formatting/problem?isFullScreen=true)\n",
    "\n",
    "**Task:**\n",
    "\n",
    "Given an integer, $n$, print the following values for each integer $i$ from $1$ to $n$:\n",
    "\n",
    "- Decimal\n",
    "- Octal\n",
    "- Hexadecimal (capitalized)\n",
    "- Binary\n",
    "\n",
    "> **NOTE:** The four values must be printed on a single line in the order specified above for each $i$ from $1$ to $n$. Each value should be space-padded to match the width of the binary value of $n$ and the values should be separated by a single space.\n",
    "\n",
    "> **ANOTHER NOTE:** In order to know the functioning of the ```hex```, ```oct```, and ```bin``` functions I consulted a DataCamp [tutorial](https://www.datacamp.com/tutorial/python-data-type-conversion) on Data Type conversion."
   ]
  },
  {
   "cell_type": "code",
   "execution_count": 64,
   "metadata": {},
   "outputs": [
    {
     "name": "stdout",
     "output_type": "stream",
     "text": [
      "    1     1     1     1\n",
      "    2     2     2    10\n",
      "    3     3     3    11\n",
      "    4     4     4   100\n",
      "    5     5     5   101\n",
      "    6     6     6   110\n",
      "    7     7     7   111\n",
      "    8    10     8  1000\n",
      "    9    11     9  1001\n",
      "   10    12     A  1010\n",
      "   11    13     B  1011\n",
      "   12    14     C  1100\n",
      "   13    15     D  1101\n",
      "   14    16     E  1110\n",
      "   15    17     F  1111\n",
      "   16    20    10 10000\n",
      "   17    21    11 10001\n",
      "   18    22    12 10010\n",
      "   19    23    13 10011\n",
      "   20    24    14 10100\n",
      "   21    25    15 10101\n",
      "   22    26    16 10110\n",
      "   23    27    17 10111\n",
      "   24    30    18 11000\n",
      "   25    31    19 11001\n",
      "   26    32    1A 11010\n"
     ]
    }
   ],
   "source": [
    "def print_formatted(number):\n",
    "    \"\"\"\n",
    "    Function that prints the decimal, octal, hexadecimal, and binary values of a number.\n",
    "\n",
    "    Args:\n",
    "        number (int): Number to be converted.\n",
    "\n",
    "    Returns:\n",
    "        None\n",
    "    \"\"\"\n",
    "    #Here we calculate the width of the binary value of number and store it in variable format_width.\n",
    "    format_width = len(bin(number)[2:])\n",
    "\n",
    "    #Here we loop through the numbers from 1 to number and print the decimal, octal, hexadecimal, and binary values of each number.\n",
    "    #We use the rjust() method to right justify the values with a width of format_width. Also, we remove the \"0b\", \"0o\", and \"0x\" prefixes from the binary, octal, and hexadecimal values.\n",
    "    #The upper() method is used to capitalize the hexadecimal values and the str() function is used to convert the numbers to strings.\n",
    "    for i in range(1, number+1):\n",
    "        print(str(i).rjust(format_width, \" \"), oct(i)[2:].rjust(format_width, \" \"), hex(i)[2:].upper().rjust(format_width, \" \"), bin(i)[2:].rjust(format_width, \" \"))\n",
    "   \n",
    "#Here we take a number as input from the user and store it in variable n.\n",
    "n = int(input().strip())\n",
    "#Here we call the function print_formatted() to print the decimal, octal, hexadecimal, and binary values of the number formatted as specified.\n",
    "print_formatted(n)\n"
   ]
  },
  {
   "cell_type": "markdown",
   "metadata": {},
   "source": [
    "#### 1.3.11: [Alphabet Rangoli](https://www.hackerrank.com/challenges/alphabet-rangoli/problem?isFullScreen=true)\n",
    "\n",
    "**Task:**\n",
    "\n",
    "You are given an integer, $N$, Your task is to print an alphabet rangoli of size $N$ (Rangoli is a form of Indian folk art based on creation of patterns). The center of the rangoli has the first alphabet letter a, and the boundary has the $N^{\\text{th}}$ alphabet letter in alphabetical order."
   ]
  },
  {
   "cell_type": "code",
   "execution_count": 136,
   "metadata": {},
   "outputs": [
    {
     "name": "stdout",
     "output_type": "stream",
     "text": [
      "------------------j------------------\n",
      "----------------j-i-j----------------\n",
      "--------------j-i-h-i-j--------------\n",
      "------------j-i-h-g-h-i-j------------\n",
      "----------j-i-h-g-f-g-h-i-j----------\n",
      "--------j-i-h-g-f-e-f-g-h-i-j--------\n",
      "------j-i-h-g-f-e-d-e-f-g-h-i-j------\n",
      "----j-i-h-g-f-e-d-c-d-e-f-g-h-i-j----\n",
      "--j-i-h-g-f-e-d-c-b-c-d-e-f-g-h-i-j--\n",
      "j-i-h-g-f-e-d-c-b-a-b-c-d-e-f-g-h-i-j\n",
      "--j-i-h-g-f-e-d-c-b-c-d-e-f-g-h-i-j--\n",
      "----j-i-h-g-f-e-d-c-d-e-f-g-h-i-j----\n",
      "------j-i-h-g-f-e-d-e-f-g-h-i-j------\n",
      "--------j-i-h-g-f-e-f-g-h-i-j--------\n",
      "----------j-i-h-g-f-g-h-i-j----------\n",
      "------------j-i-h-g-h-i-j------------\n",
      "--------------j-i-h-i-j--------------\n",
      "----------------j-i-j----------------\n",
      "------------------j------------------\n"
     ]
    }
   ],
   "source": [
    "#Here we import the string module. This module is used to access the alphabet.\n",
    "import string\n",
    "\n",
    "#Here we define a function print_rangoli() that takes a size as input and prints a rangoli of that size.\n",
    "def print_rangoli(size):\n",
    "    \"\"\"\n",
    "    Function that prints a rangoli of a specified size.\n",
    "\n",
    "    Args:\n",
    "        size (int): Size of the rangoli.\n",
    "\n",
    "    Returns:\n",
    "        None\n",
    "    \"\"\"\n",
    "    #Here we create a list of the letters of the alphabet from a to z and slice it to get a number of letters equal to the size.  \n",
    "    alphabet_list = [letter for letter in string.ascii_lowercase][0:size]\n",
    "    #Here we create a list of the indices to iterate through size-1 to 0 and 0 to size-1. This is done to print the top and bottom parts of the rangoli.\n",
    "    iteration_list = [i for i in range(size-1, 0, -1)]+[i for i in range(0, size)]\n",
    "\n",
    "    #Here we loop through the indices in the iteration_list and print the top and bottom parts of the rangoli.\n",
    "    for i in iteration_list:\n",
    "        #The characters_united variable is used to store the characters united by lines to be printed in each line.\n",
    "        #In the special case where i is equal to size-1, this variable is simply equal to the last letter of the alphabet.\n",
    "        if i == size-1:\n",
    "            characters_united = alphabet_list[i]\n",
    "        #In the other cases, the characters are united forwards and backwards by lines.\n",
    "        else:\n",
    "            characters_united = \"-\".join(alphabet_list[:i:-1])+\"-\"+\"-\".join(alphabet_list[i:])\n",
    "        #Here we print the characters united by lines in each line. The center() method is used to center the characters and the \"-\" character is used to fill the empty spaces.\n",
    "        #The width of the center is 4*(size-1)+1 because the number of characters in each line is 4*(size-1)+1: 2 times the size minus 1 for the characters united by lines and 2 times the size minus 1 for the empty spaces.\n",
    "        print(characters_united.center(4*(size-1)+1, \"-\"))\n",
    "\n",
    "#Here we take the size of the rangoli as input from the user and store it in variable n.\n",
    "n = int(input().strip())\n",
    "\n",
    "#Here we call the function print_rangoli() to print the rangoli of the specified size.\n",
    "print_rangoli(n)\n"
   ]
  },
  {
   "cell_type": "markdown",
   "metadata": {},
   "source": [
    "#### 1.3.12: [Capitalize!](https://www.hackerrank.com/challenges/capitalize/problem?isFullScreen=true)\n",
    "\n",
    "**Task:**\n",
    "\n",
    "You are asked to ensure that the first and last names of people begin with a capital letter in their passports. For example, *alison heck* should be capitalised correctly as *Alison Heck*.\n",
    "\n",
    "> **Note:** To solve this exercise I consulted the Python [docs]https://docs.python.org/3/library/re.html() on the ```re``` package that uses regular expressions as a delimiter when splitting a string. I used this package since Hackerrank considers strings with more than one whitespace between them and that can't be taken into account by the simple ```split()``` Python method. Since this is my first time using Regular Expressions, I searched for examples within the docs and took them as a guide."
   ]
  },
  {
   "cell_type": "code",
   "execution_count": 144,
   "metadata": {},
   "outputs": [
    {
     "name": "stdout",
     "output_type": "stream",
     "text": [
      "['132', ' ', '456', ' ', 'Wq', '  ', 'm', ' ', 'e']\n",
      "132 456 Wq  M E\n"
     ]
    }
   ],
   "source": [
    "#Here we import the re module. This module is used to split the string using a regular expression as a delimiter.\n",
    "import re\n",
    "#Here we define a function solve() that takes a string as input and capitalizes the first letter of each word in the string.\n",
    "def solve(s):\n",
    "    \"\"\"\n",
    "    Function that capitalizes the first letter of each word in a string.\n",
    "\n",
    "    Args:\n",
    "        s (str): String to be modified.\n",
    "\n",
    "    Returns:\n",
    "        new_s (str): Modified string.\n",
    "    \"\"\"\n",
    "    #Here we split the string into names (actually, name and surname) INCLUDING the whitespaces since Hackerrank's test cases include names with more than one whitespace.\n",
    "    #The re.split() method is used to split the string using a regular expression as a delimiter.\n",
    "    #A regular expression is a sequence of characters that define a search pattern. In this case, the search pattern is a whitespace.\n",
    "    #The regular expression is written as \"\\s+\" where \"\\s\" represents a whitespace and \"+\" represents one or more occurrences of the preceding character.\n",
    "    s = re.split(r\"(\\s+)\", s)\n",
    "    #Here we capitalize the first letter of each name and join them with a whitespace.\n",
    "    new_s = \"\".join([name.capitalize() for name in s])\n",
    "\n",
    "    #Here we return the modified string.\n",
    "    return new_s\n",
    "\n",
    "#Here we take a string as input from the user and store it in variable s.\n",
    "s = input()\n",
    "\n",
    "#Here we call the function solve() to capitalize the first letter of each word in the string.\n",
    "result = solve(s)\n",
    "#Here we print the modified string.\n",
    "print(result)\n"
   ]
  },
  {
   "cell_type": "markdown",
   "metadata": {},
   "source": [
    "#### 1.3.13: [The Minion Game](https://www.hackerrank.com/challenges/the-minion-game/problem?isFullScreen=true)\n",
    "\n",
    "Kevin and Stuart want to play the **'The Minion Game'**.\n",
    "\n",
    "**Game Rules:**\n",
    "\n",
    "- Both players are given the same string, $S$.\n",
    "- Both players have to make substrings using the letters of the string $S$.\n",
    "- Stuart has to make words starting with consonants.\n",
    "- Kevin has to make words starting with vowels.\n",
    "- The game ends when both players have made all possible substrings.\n",
    "\n",
    "**Scoring:**\n",
    "\n",
    "A player gets $+1$ point for each occurence of the substring in the string $S$.\n",
    "\n",
    "**Task:**\n",
    "\n",
    "Complete the ```minion_game``` in the editor below.\n",
    "\n",
    "***\n",
    "\n",
    "**NOTE:** My first solution was a \"brute force\" one, where I calculated all substrings and then iterated from them:\n",
    "```python\n",
    "def minion_game(string):\n",
    "    \"\"\"\n",
    "    Function that prints the winner of the Minion game.\n",
    "\n",
    "    Args:\n",
    "        string (str): String to be checked.\n",
    "\n",
    "    Returns:\n",
    "        None\n",
    "    \"\"\"\n",
    "    vowels = [\"A\", \"E\", \"I\", \"O\", \"U\"]\n",
    "\n",
    "    kevin_score = 0\n",
    "    stuart_score = 0\n",
    "\n",
    "    sub_string_list = [string[i:j] for i in range(len(string)) for j in range(i+1, len(string)+1)]\n",
    "\n",
    "    for sub_string in sub_string_list:\n",
    "        if sub_string[0] in vowels:\n",
    "            kevin_score += 1\n",
    "        else:\n",
    "            stuart_score += 1\n",
    "\n",
    "    if kevin_score > stuart_score:\n",
    "        print(\"Kevin\", kevin_score)\n",
    "    elif kevin_score < stuart_score:\n",
    "        print(\"Stuart\", stuart_score)\n",
    "    else:\n",
    "        print(\"Draw\")\n",
    "\n",
    "s = input().strip()\n",
    "minion_game(s)  \n",
    "\n",
    "```\n",
    "\n",
    "Nevertheless this solution only worked for very short strings and always gave a Runtime Error when testing with very long strings. This is why I **checked** the [Discussion](https://www.hackerrank.com/challenges/the-minion-game/forum) section on Hackerrank in order to find out if there was a more efficient way to solve this exercise.\n",
    "\n",
    "> I ended up coding an almost identical version of the code provided by [Abhim123](https://www.hackerrank.com/Abhim123) and all credit should go to this person since I couldn't find a better way to perform this.\n"
   ]
  },
  {
   "cell_type": "code",
   "execution_count": 180,
   "metadata": {},
   "outputs": [
    {
     "name": "stdout",
     "output_type": "stream",
     "text": [
      "Stuart 12\n"
     ]
    }
   ],
   "source": [
    "#Here we define a function minion_game() that takes a string as input and prints the winner of the Minion game.\n",
    "def minion_game(string):\n",
    "    \"\"\"\n",
    "    Function that prints the winner of the Minion game.\n",
    "\n",
    "    Args:\n",
    "        string (str): String to be checked.\n",
    "\n",
    "    Returns:\n",
    "        None\n",
    "    \"\"\"\n",
    "    #Here we make a list with all the vowels.\n",
    "    vowels = [\"A\", \"E\", \"I\", \"O\", \"U\"]\n",
    "\n",
    "    #Here we initialize the scores of Kevin and Stuart to 0.\n",
    "    kevin_score = 0\n",
    "    stuart_score = 0\n",
    "\n",
    "    #Here we loop through the string and check if the character is a vowel or not.\n",
    "    for i in range(len(string)):\n",
    "        #If the character is a vowel, we add the number of substrings that can be formed starting with that vowel to Kevin's score.\n",
    "        if string[i] in vowels:\n",
    "            kevin_score += len(string) - i\n",
    "        #If the character is not a vowel, we add the number of substrings that can be formed starting with that consonant to Stuart's score.\n",
    "        else:\n",
    "            stuart_score += len(string) - i\n",
    "\n",
    "    #Finally, we print the winner of the game and their score. If the scores are equal, we print \"Draw\".\n",
    "    if kevin_score > stuart_score:\n",
    "        print(\"Kevin\", kevin_score)\n",
    "    elif kevin_score < stuart_score:\n",
    "        print(\"Stuart\", stuart_score)\n",
    "    else:\n",
    "        print(\"Draw\")\n",
    "\n",
    "#Here we take a string as input from the user and store it in variable s.\n",
    "s = input().strip()\n",
    "#Here we call the function minion_game() to start the game.\n",
    "minion_game(s)     \n"
   ]
  },
  {
   "cell_type": "markdown",
   "metadata": {},
   "source": [
    "#### 1.3.14: [Merge the Tools!](https://www.hackerrank.com/challenges/merge-the-tools/problem?isFullScreen=true)\n",
    "\n",
    "Consider the following:\n",
    "\n",
    "- A string $s$ of length $n$ where $s = c_{0}c_{1}\\cdots c_{n-1}$.\n",
    "- An integer $k$ where $k$ is a factor of $n$.\n",
    "\n",
    "We can split $s$ into $\\frac{n}{k}$ substrings where each substring $t_{i}$ consists of a contiguous block of $k$ characters in $s$. Then use each $t_{i}$ to create a string $u_{i}$ such that:\n",
    "\n",
    "- The characters in $u_{i}$ are a subsequence of the characters in $t_{i}$.\n",
    "- Any repeat occurrence of a character is removed from the string such that each character in $u_{i}$ occurs exactly once. In other words, if the character at some index $j$ in $t_{i}$ occurs at a previous index $< j$ in $t_{i}$ then do not include the character in string $u_{i}$.\n",
    "\n",
    "**Task:**\n",
    "\n",
    "Given $s$ and $k$ print $\\frac{n}{k}$ lines where each line $i$ denotes string $u_{i}$.\n",
    "\n",
    "> In order to solve this program, I used the OrderedDict class from the collections Python [package](https://docs.python.org/3/library/collections.html#collections.OrderedDict). This is a subclass from the more basic ```dict()``` built-in one but **preserves order** when the dictionary is created. The idea to use this class came from reading a StackOverflow [discussion](https://stackoverflow.com/questions/9841303/removing-duplicate-characters-from-a-string) when I searched for ways to eliminate duplicate characters from a string.\n"
   ]
  },
  {
   "cell_type": "code",
   "execution_count": 198,
   "metadata": {},
   "outputs": [
    {
     "name": "stdout",
     "output_type": "stream",
     "text": [
      "AB\n",
      "CA\n",
      "AD\n"
     ]
    }
   ],
   "source": [
    "#Here we import the textwrap module. This module is used to wrap the string to a specified width.\n",
    "import textwrap\n",
    "#Here we import the OrderedDict() class from the collections module. This function is used to remove the duplicate characters from each substring.\n",
    "from collections import OrderedDict\n",
    "\n",
    "#Here we define a function merge_the_tools() that takes a string and an integer as input and prints the substrings obtained by dividing the string into k equal parts without any duplicate characters.\n",
    "def merge_the_tools(string, k):\n",
    "    \"\"\"\n",
    "    Function that prints the substrings obtained by dividing a string into k equal parts without any duplicate characters.\n",
    "\n",
    "    Args:\n",
    "        string (str): String to be modified.\n",
    "        k (int): Number of equal parts.\n",
    "\n",
    "    Returns:\n",
    "        None\n",
    "    \"\"\"\n",
    "    #Here we create a list of substrings obtained by dividing the string into k equal parts using the textwrap.wrap() method that wraps the string to a specified width.\n",
    "    #The OrderedDict() function is used to remove the duplicate characters from each substring. This function returns an ordered dictionary where the keys are the characters in the substring and the values are None.\n",
    "    #The \"\".join() method is used to join the characters in each substring again.\n",
    "    substring_list = [\"\".join(OrderedDict.fromkeys(substring)) for substring in textwrap.wrap(string, k)]\n",
    "\n",
    "    #Here we loop through the substrings and print them.\n",
    "    for substring in substring_list:\n",
    "        print(substring)\n",
    "\n",
    "#Here we take a string and an integer as input from the user and store them in variables\n",
    "string, k = input().strip(), int(input().strip())\n",
    "merge_the_tools(string, k)\n"
   ]
  },
  {
   "cell_type": "markdown",
   "metadata": {},
   "source": [
    "### Problem 1.4: [Sets](https://www.hackerrank.com/domains/python/py-sets)"
   ]
  },
  {
   "cell_type": "markdown",
   "metadata": {},
   "source": [
    "#### 1.4.1: [Introduction to Sets](https://www.hackerrank.com/challenges/py-introduction-to-sets/problem?isFullScreen=true)\n",
    "\n",
    "A set is an unordered collection of elements without duplicate entries. When printed, iterated or converted into a sequence, its elements will appear in an arbitrary order.\n",
    "\n",
    "**Task:**\n",
    "\n",
    "Now, let's use our knowledge of sets and help Mickey. Ms. Gabriel Williams is a botany professor at District College. One day, she asked her student Mickey to compute the average of all the plants with distinct heights in her greenhouse.\n",
    "\n",
    "Formula used:\n",
    "\n",
    "$$\\text{Average} = \\frac{\\text{Sum of Distinct Heights}}{Total Number of Distinct Heights}$$\n",
    "\n",
    "Complete the average function in the editor below."
   ]
  },
  {
   "cell_type": "code",
   "execution_count": 2,
   "metadata": {},
   "outputs": [
    {
     "name": "stdout",
     "output_type": "stream",
     "text": [
      "169.375\n"
     ]
    }
   ],
   "source": [
    "def average(array):\n",
    "    \"\"\"\n",
    "    Function that calculates the average of the distinct heights in a list.\n",
    "\n",
    "    Args:\n",
    "        array (list): List of heights.\n",
    "\n",
    "    Returns:\n",
    "        average (float): Average of the distinct heights.\n",
    "    \"\"\"\n",
    "    #Here we convert the list to a set to remove the duplicate heights and convert it back to a list.\n",
    "    distinct_heights = list(set(array))\n",
    "    #Here we calculate the average of the distinct heights and store it in variable average.\n",
    "    average = sum(distinct_heights)/len(distinct_heights)\n",
    "\n",
    "    #Here we return the average rounded to 3 decimal places.\n",
    "    return round(average,3)\n",
    "\n",
    "#Here we take the number of heights as input from the user and store it in variable n.\n",
    "n = int(input().strip())\n",
    "#Here we take the heights as input from the user and store them in a list.\n",
    "arr = list(map(int, input().strip().split()))\n",
    "#Here we call the function average() to calculate the average of the distinct heights.\n",
    "result = average(arr)\n",
    "#Here we print the average.\n",
    "print(result)\n"
   ]
  },
  {
   "cell_type": "markdown",
   "metadata": {},
   "source": [
    "#### 1.4.2: [No Idea!](https://www.hackerrank.com/challenges/no-idea/problem?isFullScreen=true)\n",
    "\n",
    "**Task:**\n",
    "\n",
    "There is an array of $n$ integers. There are also $2$ disjoint sets, $A$ and $B$, each containing integers. You like all the integers in set $A$ and dislike all the integers in set $B$. Your initial happiness is $0$. For each $i$ integer in the array, if $i\\in A$, you add $1$ to your happiness. If $i\\in B$, you add $-1$ to your happiness. Otherwise, your happiness does not change. Output your final happiness at the end.\n",
    "\n",
    "\n",
    "**Note:** Since $A$ and $B$ are sets, they have no repeated elements. However, the array might contain duplicate elements."
   ]
  },
  {
   "cell_type": "code",
   "execution_count": 4,
   "metadata": {},
   "outputs": [
    {
     "name": "stdout",
     "output_type": "stream",
     "text": [
      "1\n"
     ]
    }
   ],
   "source": [
    "#Here we define a function happiness_calculator() that takes a list and two sets as input and returns the happiness of a person based on the elements in the two sets.\n",
    "def happiness_calculator(arr, set_a, set_b):\n",
    "    \"\"\"\n",
    "    Function that calculates the happiness of a person based on the elements in two sets.\n",
    "\n",
    "    Args:\n",
    "        arr (list): List of integers.\n",
    "        set_a (set): Set of integers.\n",
    "        set_b (set): Set of integers.\n",
    "\n",
    "    Returns:\n",
    "        happiness (int): Happiness of the person.\n",
    "    \"\"\"\n",
    "    #Here we initialize the happiness to 0.\n",
    "    happiness = 0\n",
    "\n",
    "    #Here we loop through the elements in the list and check if they are present in set_a or set_b.\n",
    "    for element in arr:\n",
    "        #If the element is present in set_a, we increment the happiness by 1.\n",
    "        if element in set_a:\n",
    "            happiness += 1\n",
    "        #If the element is present in set_b, we decrement the happiness by 1.\n",
    "        elif element in set_b:\n",
    "            happiness -= 1\n",
    "        #If the element is not present in either set, we do not change the happiness.\n",
    "        else:\n",
    "            pass\n",
    "    #Here we return the happiness.\n",
    "    return happiness\n",
    "\n",
    "#Here we take the number of elements in the list and the number of elements in the sets as input from the user and store them in variables n and m.\n",
    "n, m = map(int, input().strip().split())\n",
    "#Here we take the elements in the list as input from the user and store them in a list named arr.\n",
    "arr = list(map(int, input().strip().split()))\n",
    "#Here we take the elements in the sets as input from the user and store them in sets named set_a and set_b.\n",
    "set_a = set(map(int, input().strip().split()))\n",
    "set_b = set(map(int, input().strip().split()))\n",
    "\n",
    "#Here we call the function happiness_calculator() to calculate the happiness of the person.\n",
    "happiness = happiness_calculator(arr, set_a, set_b)\n",
    "#Here we print the happiness.\n",
    "print(happiness)\n"
   ]
  },
  {
   "cell_type": "markdown",
   "metadata": {},
   "source": [
    "#### 1.4.3: [Symmetric Difference](https://www.hackerrank.com/challenges/symmetric-difference/problem?isFullScreen=true)\n",
    "\n",
    "**Task:**\n",
    "\n",
    "Given $2$ sets of integers, $M$ and $N$, print their symmetric difference in ascending order. The term symmetric difference indicates those values that exist in either $M$ or $N$ but do not exist in both."
   ]
  },
  {
   "cell_type": "code",
   "execution_count": 5,
   "metadata": {},
   "outputs": [
    {
     "name": "stdout",
     "output_type": "stream",
     "text": [
      "5\n",
      "9\n",
      "11\n",
      "12\n"
     ]
    }
   ],
   "source": [
    "#Here we take the number of elements in the first set as input from the user and store it in the variable m.\n",
    "m = int(input().strip())\n",
    "#Here we take the elements in the first set as input from the user and store them in a set named set_m.\n",
    "set_m = set(map(int, input().strip().split()))\n",
    "#Here we take the number of elements in the second set as input from the user and store it in the variable n.\n",
    "n = int(input().strip())\n",
    "#Here we take the elements in the second set as input from the user and store them in a set named set_n.\n",
    "set_n = set(map(int, input().strip().split()))\n",
    "\n",
    "#Here we calculate the symmetric difference of the two sets and store it in a list named symmetric_difference_list.\n",
    "symmetric_difference_list = list(set_m.symmetric_difference(set_n))\n",
    "#Here we sort the list in ascending order.\n",
    "symmetric_difference_list.sort()\n",
    "\n",
    "#Here we loop through the elements in the list and print them.\n",
    "for element in symmetric_difference_list:\n",
    "    print(element)\n"
   ]
  },
  {
   "cell_type": "markdown",
   "metadata": {},
   "source": [
    "#### 1.4.4: [Set.add()](https://www.hackerrank.com/challenges/py-set-add/problem?isFullScreen=true)\n",
    "\n",
    "**Task:**\n",
    "\n",
    "Apply your knowledge of the ```.add()``` operation to help your friend Rupal.\n",
    "\n",
    "Rupal has a huge collection of country stamps. She decided to count the total number of distinct country stamps in her collection. She asked for your help. You pick the stamps one by one from a stack of  country stamps.\n",
    "\n",
    "Find the total number of distinct country stamps."
   ]
  },
  {
   "cell_type": "code",
   "execution_count": 7,
   "metadata": {},
   "outputs": [
    {
     "name": "stdout",
     "output_type": "stream",
     "text": [
      "5\n"
     ]
    }
   ],
   "source": [
    "#Here we initialize an empty set where we will store the stamps.\n",
    "stamps_set = set([])\n",
    "#Here we take the number of stamps as input from the user and store it in variable n.\n",
    "n = int(input().strip())\n",
    "\n",
    "#Here we loop through the number of stamps and take the country of each stamp as input from the user and store it in the set stamps_set.\n",
    "for i in range(n):\n",
    "    #Here we use the add() method to add the country to the set.\n",
    "    stamps_set.add(input().strip())\n",
    "\n",
    "#Here we print the number of distinct countries in the set.\n",
    "print(len(stamps_set))\n"
   ]
  },
  {
   "cell_type": "markdown",
   "metadata": {},
   "source": [
    "#### 1.4.5: [Set.discard(), .remove() & .pop()](https://www.hackerrank.com/challenges/py-set-discard-remove-pop/problem?isFullScreen=true)\n",
    "\n",
    "**Task:**\n",
    "\n",
    "You have a non-empty set $s$, and you have to execute $N$ commands given in $N$ lines. The commands will be pop, remove and discard.\n",
    "\n",
    "**Note:** Convert the elements of set $s$ to integers while you are assigning them. To ensure the proper input of the set, we have added the first two lines of code to the editor."
   ]
  },
  {
   "cell_type": "code",
   "execution_count": 10,
   "metadata": {},
   "outputs": [
    {
     "name": "stdout",
     "output_type": "stream",
     "text": [
      "4\n"
     ]
    }
   ],
   "source": [
    "#Here we take the number of elements in the set as input from the user and store it in variable n.\n",
    "n = int(input().strip())\n",
    "#Here we take the elements in the set as input from the user and store them in a set named s.\n",
    "s = set(map(int, input().strip().split()))\n",
    "#Here we take the number of commands as input from the user and store it in variable N.\n",
    "N = int(input().strip())\n",
    "\n",
    "#Here we loop through the number of commands and take the command and its arguments as input from the user.\n",
    "for i in range(N):\n",
    "    #The strip() and split() methods are used to remove the whitespaces and split the input.\n",
    "    command = input().strip().split()\n",
    "    #If the command is pop, we pop a random element from the set.\n",
    "    if command[0] == 'pop':\n",
    "        s.pop()\n",
    "    #If the command is remove, we remove the specified element from the set.\n",
    "    elif command[0] == 'remove':\n",
    "        s.remove(int(command[1]))\n",
    "    #If the command is discard, we discard the specified element from the set.    \n",
    "    elif command[0] == 'discard':\n",
    "        s.discard(int(command[1]))\n",
    "\n",
    "#Here we print the sum of the elements in the set.\n",
    "print(sum(s))\n"
   ]
  },
  {
   "cell_type": "markdown",
   "metadata": {},
   "source": [
    "#### 1.4.6: [Set.union() Operation](https://www.hackerrank.com/challenges/py-set-union/problem?isFullScreen=true)\n",
    "\n",
    "**Task:**\n",
    "\n",
    "The students of District College have subscriptions to English and French newspapers. Some students have subscribed only to English, some have subscribed to only French and some have subscribed to both newspapers.\n",
    "\n",
    "You are given two sets of student roll numbers. One set has subscribed to the English newspaper, and the other set is subscribed to the French newspaper. The same student could be in both sets. Your task is to find the total number of students who have subscribed to at least one newspaper."
   ]
  },
  {
   "cell_type": "code",
   "execution_count": 11,
   "metadata": {},
   "outputs": [
    {
     "name": "stdout",
     "output_type": "stream",
     "text": [
      "13\n"
     ]
    }
   ],
   "source": [
    "#Here we take the number of elements in the first set as input from the user and store it in the variable n_eng.\n",
    "n_eng = int(input().strip())\n",
    "#Here we take the elements in the first set as input from the user and store them in a set named set_eng.\n",
    "set_eng = set(map(int, input().strip().split()))\n",
    "#Here we take the number of elements in the second set as input from the user and store it in the variable n_french.\n",
    "n_french = int(input().strip())\n",
    "#Here we take the elements in the second set as input from the user and store them in a set named set_french.\n",
    "set_french = set(map(int, input().strip().split()))\n",
    "\n",
    "#Here we print the number of students who have subscribed to at least one newspaper.\n",
    "print(len(set_eng.union(set_french)))\n"
   ]
  },
  {
   "cell_type": "markdown",
   "metadata": {},
   "source": [
    "#### 1.4.7: [Set.intersection() Operation](https://www.hackerrank.com/challenges/py-set-intersection-operation/problem?isFullScreen=true)\n",
    "\n",
    "**Task:**\n",
    "\n",
    "The students of District College have subscriptions to English and French newspapers. Some students have subscribed only to English, some have subscribed only to French, and some have subscribed to both newspapers.\n",
    "\n",
    "\n",
    "You are given two sets of student roll numbers. One set has subscribed to the English newspaper, one set has subscribed to the French newspaper. Your task is to find the total number of students who have subscribed to both newspapers."
   ]
  },
  {
   "cell_type": "code",
   "execution_count": 12,
   "metadata": {},
   "outputs": [
    {
     "name": "stdout",
     "output_type": "stream",
     "text": [
      "5\n"
     ]
    }
   ],
   "source": [
    "#Here we take the number of elements in the first set as input from the user and store it in the variable n_eng.\n",
    "n_eng = int(input().strip())\n",
    "#Here we take the elements in the first set as input from the user and store them in a set named set_eng.\n",
    "set_eng = set(map(int, input().strip().split()))\n",
    "#Here we take the number of elements in the second set as input from the user and store it in the variable n_french.\n",
    "n_french = int(input().strip())\n",
    "#Here we take the elements in the second set as input from the user and store them in a set named set_french.\n",
    "set_french = set(map(int, input().strip().split()))\n",
    "\n",
    "#Here we print the number of students who have subscribed to both newspapers.\n",
    "print(len(set_eng.intersection(set_french)))\n"
   ]
  },
  {
   "cell_type": "markdown",
   "metadata": {},
   "source": [
    "#### 1.4.8: [Set.difference() Operation](https://www.hackerrank.com/challenges/py-set-difference-operation/problem?isFullScreen=true)\n",
    "\n",
    "**Task:**\n",
    "\n",
    "Students of District College have a subscription to English and French newspapers. Some students have subscribed to only the English newspaper, some have subscribed to only the French newspaper, and some have subscribed to both newspapers.\n",
    "\n",
    "\n",
    "You are given two sets of student roll numbers. One set has subscribed to the English newspaper, and one set has subscribed to the French newspaper. Your task is to find the total number of students who have subscribed to only English newspapers."
   ]
  },
  {
   "cell_type": "code",
   "execution_count": 13,
   "metadata": {},
   "outputs": [
    {
     "name": "stdout",
     "output_type": "stream",
     "text": [
      "4\n"
     ]
    }
   ],
   "source": [
    "#Here we take the number of elements in the first set as input from the user and store it in the variable n_eng.\n",
    "n_eng = int(input().strip())\n",
    "#Here we take the elements in the first set as input from the user and store them in a set named set_eng.\n",
    "set_eng = set(map(int, input().strip().split()))\n",
    "#Here we take the number of elements in the second set as input from the user and store it in the variable n_french.\n",
    "n_french = int(input().strip())\n",
    "#Here we take the elements in the second set as input from the user and store them in a set named set_french.\n",
    "set_french = set(map(int, input().strip().split()))\n",
    "\n",
    "#Here we print the number of students who have subscribed to only the English newspaper.\n",
    "print(len(set_eng.difference(set_french)))\n"
   ]
  },
  {
   "cell_type": "markdown",
   "metadata": {},
   "source": [
    "#### 1.4.9: [Set.symmetric_difference() Operation](https://www.hackerrank.com/challenges/py-set-symmetric-difference-operation/problem?isFullScreen=true)\n",
    "\n",
    "**Task:**\n",
    "\n",
    "Students of District College have subscriptions to English and French newspapers. Some students have subscribed to English only, some have subscribed to French only, and some have subscribed to both newspapers.\n",
    "\n",
    "\n",
    "You are given two sets of student roll numbers. One set has subscribed to the English newspaper, and one set has subscribed to the French newspaper. Your task is to find the total number of students who have subscribed to either the English or the French newspaper but not both."
   ]
  },
  {
   "cell_type": "code",
   "execution_count": 14,
   "metadata": {},
   "outputs": [
    {
     "name": "stdout",
     "output_type": "stream",
     "text": [
      "8\n"
     ]
    }
   ],
   "source": [
    "#Here we take the number of elements in the first set as input from the user and store it in the variable n_eng.\n",
    "n_eng = int(input().strip())\n",
    "#Here we take the elements in the first set as input from the user and store them in a set named set_eng.\n",
    "set_eng = set(map(int, input().strip().split()))\n",
    "#Here we take the number of elements in the second set as input from the user and store it in the variable n_french.\n",
    "n_french = int(input().strip())\n",
    "#Here we take the elements in the second set as input from the user and store them in a set named set_french.\n",
    "set_french = set(map(int, input().strip().split()))\n",
    "\n",
    "#Here we print the number of students who have subscribed to either the English or the French newspaper but not both.\n",
    "print(len(set_eng.symmetric_difference(set_french)))\n"
   ]
  },
  {
   "cell_type": "markdown",
   "metadata": {},
   "source": [
    "#### 1.4.10: [Set Mutations](https://www.hackerrank.com/challenges/py-set-mutations/problem?isFullScreen=true)\n",
    "\n",
    "**Task:**\n",
    "\n",
    "You are given a set $A$ and $N$ number of other sets. These $N$ number of sets have to perform some specific mutation operations on set $A$.\n",
    "\n",
    "\n",
    "Your task is to execute those operations and print the sum of elements from set $A$.\n"
   ]
  },
  {
   "cell_type": "code",
   "execution_count": 16,
   "metadata": {},
   "outputs": [
    {
     "name": "stdout",
     "output_type": "stream",
     "text": [
      "38\n"
     ]
    }
   ],
   "source": [
    "#Here we take the number of elements in the set A as input from the user and store it in the variable n_a.\n",
    "n_a = int(input().strip())\n",
    "#Here we take the elements in the set A as input from the user and store them in a set named set_a.\n",
    "set_a = set(map(int, input().strip().split()))\n",
    "#Here we take the number of other sets as input from the user and store it in the variable n_other_sets.\n",
    "n_other_sets = int(input().strip())\n",
    "\n",
    "#Here we loop through the number of other sets and take the command and its arguments as input from the user.\n",
    "for i in range(n_other_sets):\n",
    "    #The strip() and split() methods are used to remove the whitespaces and split the input to get the command and the number of elements in the other set.\n",
    "    command = input().strip().split()\n",
    "    #Here we take the elements in the other set as input from the user and store them in a set named other_set.\n",
    "    other_set = set(map(int, input().strip().split()))\n",
    "\n",
    "    #If the command is intersection_update, we update the set A with the intersection of the set A and the other set.\n",
    "    if command[0] == \"intersection_update\":\n",
    "        set_a.intersection_update(other_set)\n",
    "    \n",
    "    #If the command is update, we update the set A with the union of the set A and the other set.\n",
    "    elif command[0] == \"update\":\n",
    "        set_a.update(other_set)\n",
    "\n",
    "    #If the command is symmetric_difference_update, we update the set A with the symmetric difference of the set A and the other set.\n",
    "    elif command[0] == \"symmetric_difference_update\":\n",
    "        set_a.symmetric_difference_update(other_set)\n",
    "\n",
    "    #If the command is difference_update, we update the set A with the difference of the set A and the other set.\n",
    "    elif command[0] == \"difference_update\":\n",
    "        set_a.difference_update(other_set)\n",
    "\n",
    "#Here we print the sum of the elements in the set.\n",
    "print(sum(set_a))\n"
   ]
  },
  {
   "cell_type": "markdown",
   "metadata": {},
   "source": [
    "#### 1.4.11: [The Captain's Room](https://www.hackerrank.com/challenges/py-the-captains-room/problem?isFullScreen=true)\n",
    "\n",
    "**Task:**\n",
    "\n",
    "Mr. Anant Asankhya is the manager at the INFINITE hotel. The hotel has an infinite amount of rooms. One fine day, a finite number of tourists come to stay at the hotel.\n",
    "\n",
    "\n",
    "The tourists consist of:\n",
    "- A Captain.\n",
    "- An unknown group of families consisting of  members per group where $K\\neq 1$.\n",
    "\n",
    "\n",
    "The Captain was given a separate room, and the rest were given one room per group. Mr. Anant has an unordered list of randomly arranged room entries. The list consists of the room numbers for all of the tourists. The room numbers will appear $K$ times per group except for the Captain's room.\n",
    "\n",
    "\n",
    "Mr. Anant needs you to help him find the Captain's room number.\n",
    "The total number of tourists or the total number of groups of families is not known to you. You only know the value of $K$ and the room number list.\n"
   ]
  },
  {
   "cell_type": "code",
   "execution_count": 19,
   "metadata": {},
   "outputs": [
    {
     "name": "stdout",
     "output_type": "stream",
     "text": [
      "8\n"
     ]
    }
   ],
   "source": [
    "#Here we take K the number of members per group as input from the user and store it in variable k.\n",
    "k = int(input().strip())\n",
    "#Here we take a list of unordered room numbers as input from the user and store it in variable room_list.\n",
    "room_list = list(map(int, input().strip().split()))\n",
    "\n",
    "#Here we create a set of the room numbers.\n",
    "room_set = set(room_list)\n",
    "\n",
    "#Here we calculate the sum of the room numbers in the set multiplied by k since each room number has been added k times.\n",
    "#Then, we subtract the sum of the room numbers in the list to get the sum of the room numbers that appear only once.\n",
    "#Finally, we divide the result by k-1 to get the room number that appears only once.\n",
    "room_number = (sum(room_set)*k - sum(room_list))/(k-1)\n",
    "\n",
    "#Here we print the room number that appears only once.\n",
    "print(int(room_number))\n"
   ]
  },
  {
   "cell_type": "markdown",
   "metadata": {},
   "source": [
    "#### 1.4.12: [Check Subset](https://www.hackerrank.com/challenges/py-check-subset/problem?isFullScreen=true)\n",
    "\n",
    "**Task:**\n",
    "\n",
    "You are given two sets, $A$ and $B$. Your job is to find whether set $A$ is a subset of set $B$.\n",
    "\n",
    "- If set $A$ is subset of set $B$, print ```True```.\n",
    "- If set $A$ is not a subset of set $B$, print ```False```."
   ]
  },
  {
   "cell_type": "code",
   "execution_count": 21,
   "metadata": {},
   "outputs": [
    {
     "name": "stdout",
     "output_type": "stream",
     "text": [
      "True\n",
      "False\n",
      "False\n"
     ]
    }
   ],
   "source": [
    "#Here we take the number of test cases as input from the user and store it in variable number_test_cases.\n",
    "number_test_cases = int(input().strip())\n",
    "\n",
    "#Here we loop through the number of test cases and take the number of elements in the set A and B and the elements in the set A and B as input from the user.\n",
    "for i in range(number_test_cases):\n",
    "    number_elements_set_a = int(input().strip())\n",
    "    set_a = set(map(int, input().strip().split()))\n",
    "    number_elements_set_b = int(input().strip())\n",
    "    set_b = set(map(int, input().strip().split()))\n",
    "\n",
    "    #Here we check if set A is a subset of set B.\n",
    "    print(set_a.issubset(set_b))\n"
   ]
  },
  {
   "cell_type": "markdown",
   "metadata": {},
   "source": [
    "#### 1.4.13: [Check Strict Superset](https://www.hackerrank.com/challenges/py-check-strict-superset/problem?isFullScreen=true)\n",
    "\n",
    "**Task:**\n",
    "\n",
    "You are given a set $A$ and $n$ other sets. Your job is to find whether set $A$ is a strict superset of each of the $N$ sets.\n",
    "\n",
    "A strict superset has at least one element that does not exist in its subset."
   ]
  },
  {
   "cell_type": "code",
   "execution_count": 23,
   "metadata": {},
   "outputs": [
    {
     "name": "stdout",
     "output_type": "stream",
     "text": [
      "False\n"
     ]
    }
   ],
   "source": [
    "#Here we take the elements in the set A as input from the user and store them in a set named set_a.\n",
    "set_a = set(map(int, input().strip().split()))\n",
    "#Here we take the number of other sets as input from the user and store it in the variable n_other_sets.\n",
    "n_other_sets = int(input().strip())\n",
    "#Here we initialize the is_super_set variable to True.\n",
    "is_super_set = True\n",
    "\n",
    "#Here we loop through the number of other sets and take the elements in the other set as input from the user.\n",
    "for i in range(n_other_sets):\n",
    "    #Here we take the elements in the other set as input from the user and store them in a set named other_set.\n",
    "    other_set = set(map(int, input().strip().split()))\n",
    "\n",
    "    #Here we check if set A is a strict superset of all the sets.\n",
    "    if set_a.issuperset(other_set):\n",
    "        is_super_set = True\n",
    "    else:\n",
    "        is_super_set = False\n",
    "        break\n",
    "\n",
    "#Here we print the result.\n",
    "print(is_super_set)\n"
   ]
  },
  {
   "cell_type": "markdown",
   "metadata": {},
   "source": [
    "### Problem 1.5: [Collections](https://www.hackerrank.com/domains/python/py-collections)"
   ]
  },
  {
   "cell_type": "markdown",
   "metadata": {},
   "source": [
    "#### 1.5.1: [collections.Counter()](https://www.hackerrank.com/challenges/collections-counter/problem?isFullScreen=true)\n",
    "\n",
    "**Task:**\n",
    "\n",
    "Raghu is a shoe shop owner. His shop has $X$ number of shoes. He has a list containing the size of each shoe he has in his shop. There are $N$ number of customers who are willing to pay $x_{i}$ amount of money only if they get the shoe of their desired size.\n",
    "\n",
    "\n",
    "Your task is to compute how much money Raghu earned."
   ]
  },
  {
   "cell_type": "code",
   "execution_count": 1,
   "metadata": {},
   "outputs": [
    {
     "name": "stdout",
     "output_type": "stream",
     "text": [
      "200\n"
     ]
    }
   ],
   "source": [
    "#Here we import the Counter() class from the collections module. This class is used to count the number of occurrences of each element in a list.\n",
    "from collections import Counter\n",
    "\n",
    "#Here we take the number of shoes as input from the user and store it in variable x.\n",
    "x = int(input().strip())\n",
    "\n",
    "#Here we take the sizes of the shoes as input from the user and store them in a list named shoe_size_list.\n",
    "shoe_size_list = list(map(int, input().strip().split()))\n",
    "#Here we create a Counter object from the list of shoe sizes.\n",
    "shoe_size_counter = Counter(shoe_size_list)\n",
    "\n",
    "#Here we take the number of customers as input from the user and store it in variable n.\n",
    "n = int(input().strip())\n",
    "\n",
    "#Here we initialize the money_earned variable to 0.\n",
    "money_earned = 0\n",
    "\n",
    "#Here we loop through the number of customers and take the size and price of the shoe as input from the user.\n",
    "for i in range(n):\n",
    "    #Here we take the size and price of the shoe as input from the user and store them in variables size and price.\n",
    "    size, price = map(int, input().strip().split())\n",
    "\n",
    "    #Here we check if the number of shoes of that size is different than 0.\n",
    "    if shoe_size_counter[size] != 0:\n",
    "        #Here we subtract 1 from the number of shoes of that size.\n",
    "        shoe_size_counter[size] -= 1\n",
    "        #Here we add the price of the shoe to the money_earned.\n",
    "        money_earned += price\n",
    "    #If the number of shoes of that size is 0, we do not change the money_earned.\n",
    "    else:\n",
    "        pass\n",
    "\n",
    "#Here we print the money earned.\n",
    "print(money_earned)\n"
   ]
  },
  {
   "cell_type": "markdown",
   "metadata": {},
   "source": [
    "#### 1.5.2: [DefaultDict Tutorial](https://www.hackerrank.com/challenges/defaultdict-tutorial/problem?isFullScreen=true)\n",
    "\n",
    "The ```defaultdict``` tool is a container in the collections class of Python. It's similar to the usual dictionary (dict) container, but the only difference is that a ```defaultdict``` will have a default value if that key has not been set yet. If you didn't use a ```defaultdict``` you'd have to check to see if that key exists, and if it doesn't, set it to what you want.\n",
    "\n",
    "**Task:**\n",
    "\n",
    "In this challenge, you will be given $2$ integers, $n$ and $m$. There are $n$ words, which might repeat, in word group $A$. There are $m$ words belonging to word group $B$. For each $m$  words, check whether the word has appeared in group $A$ or not. Print the indices of each occurrence of $m$ in group $A$. If it does not appear, print $-1$."
   ]
  },
  {
   "cell_type": "code",
   "execution_count": 3,
   "metadata": {},
   "outputs": [
    {
     "name": "stdout",
     "output_type": "stream",
     "text": [
      "1 2 4\n",
      "3 5\n"
     ]
    }
   ],
   "source": [
    "#Here we import the defaultdict() class from the collections module. This class is used to create a dictionary with default values.\n",
    "from collections import defaultdict\n",
    "\n",
    "#Here we take the integers n and m as input from the user and store them in variables n and m.\n",
    "n, m = map(int, input().strip().split())\n",
    "#Here we initialize the defaultdict to store the indices of the letters in group A.\n",
    "default_dict_a = defaultdict(list)\n",
    "\n",
    "for i in range(n):\n",
    "    #Here we add the index of the input letter from group A to the defaultdict.\n",
    "    default_dict_a[input().strip()].append(i+1)\n",
    "\n",
    "for j in range(m):\n",
    "    #Here we take the input letter from group B and store it in variable b.\n",
    "    b = input().strip()\n",
    "\n",
    "    #Here we check if the letter is present in group A.\n",
    "    if b in default_dict_a.keys():\n",
    "        #Here we print all the indices of the letter in group A.\n",
    "        #The * operator is used to unpack the list of indices.\n",
    "        print(*default_dict_a[b])\n",
    "    #If the letter is not present in group A, we print -1.\n",
    "    else:\n",
    "        print(-1)\n"
   ]
  },
  {
   "cell_type": "markdown",
   "metadata": {},
   "source": [
    "#### 1.5.3: [Collections.namedtuple()](https://www.hackerrank.com/challenges/py-collections-namedtuple/problem?isFullScreen=true)\n",
    "\n",
    "Basically, ```namedtuples``` are easy to create, lightweight object types.\n",
    "They turn tuples into convenient containers for simple tasks.\n",
    "With ```namedtuples```, you don’t have to use integer indices for accessing members of a tuple.\n",
    "\n",
    "**Task:**\n",
    "\n",
    "Dr. John Wesley has a spreadsheet containing a list of student's *ID's*, *marks*, *class* and *name*. Your task is to help Dr. Wesley calculate the average marks of the students.\n",
    "\n",
    "**NOTE:** \n",
    "1. Columns can be in any order. IDs, marks, class and name can be written in any order in the spreadsheet.\n",
    "2. Column names are ID, MARKS, CLASS and NAME. (The spelling and case type of these names won't change.)"
   ]
  },
  {
   "cell_type": "code",
   "execution_count": 4,
   "metadata": {},
   "outputs": [
    {
     "name": "stdout",
     "output_type": "stream",
     "text": [
      "81.0\n"
     ]
    }
   ],
   "source": [
    "#Here we import the namedtuple() class from the collections module. This class is used to create a tuple with named fields.\n",
    "from collections import namedtuple\n",
    "\n",
    "#Here we take the number of students as input from the user and store it in variable n.\n",
    "n = int(input().strip())\n",
    "#Here we take the names of the columns as input from the user and we create a named tuple with the names of the columns.\n",
    "Student = namedtuple(\"Student\", input().strip().split())\n",
    "\n",
    "#Here we initialize the count variable to 0.\n",
    "count = 0\n",
    "\n",
    "#Here we loop through the number of students and take the values of the columns as input from the user.\n",
    "for i in range(n):\n",
    "    values = input().strip().split()\n",
    "    #Here we create a Student object with the values of the columns.\n",
    "    #The * operator is used to unpack the list of values.\n",
    "    student = Student(*values)\n",
    "    #Here we add the mark of the student to the count.\n",
    "    count += int(student.MARKS)\n",
    "\n",
    "#Here we calculate the average of the marks.\n",
    "print(round(count/n, 2))\n"
   ]
  },
  {
   "cell_type": "markdown",
   "metadata": {},
   "source": [
    "#### 1.5.4: [Collections.OrderedDict()](https://www.hackerrank.com/challenges/py-collections-ordereddict/problem?isFullScreen=true)\n",
    "\n",
    "An ```OrderedDict``` is a dictionary that remembers the order of the keys that were inserted first. If a new entry overwrites an existing entry, the original insertion position is left unchanged.\n",
    "\n",
    "**Task:**\n",
    "\n",
    "You are the manager of a supermarket. You have a list of $N$ items together with their prices that consumers bought on a particular day.\n",
    "\n",
    "Your task is to print each ```item_name``` and ```net_price``` in order of its first occurrence.\n",
    "\n",
    "- ```item_name```: Name of the item.\n",
    "- ```net_price```: Quantity of the item sold multiplied by the price of each item."
   ]
  },
  {
   "cell_type": "code",
   "execution_count": 8,
   "metadata": {},
   "outputs": [
    {
     "name": "stdout",
     "output_type": "stream",
     "text": [
      "BANANA FRIES 12\n",
      "POTATO CHIPS 60\n",
      "APPLE JUICE 20\n",
      "CANDY 20\n"
     ]
    }
   ],
   "source": [
    "#Here we import the OrderedDict() class from the collections module. This class is used to create a dictionary with ordered keys.\n",
    "from collections import OrderedDict\n",
    "\n",
    "#Here we take the number of items as input from the user and store it in variable n.\n",
    "n = int(input().strip())\n",
    "#Here we initialize the ordered dictionary of items.\n",
    "items = OrderedDict()\n",
    "\n",
    "#Here we loop through the number of items and take the name and price of each item as input from the user.\n",
    "for i in range(n):\n",
    "    item = input().strip().split()\n",
    "    #Since the price is the last element in the list, we convert it to an integer and store it in variable item_price.\n",
    "    item_price = int(item[-1])\n",
    "    #Since the name can have more than one word, we join the words in the list and store them in variable item_name.\n",
    "    item_name = \" \".join(item[:-1])\n",
    "\n",
    "    #Here we check if the item is already in the dictionary.\n",
    "    if item_name in items.keys():\n",
    "        #If the item is already in the dictionary, we add the price to the existing price.\n",
    "        items[item_name] += item_price\n",
    "    else:\n",
    "        #If the item is not in the dictionary, we add the item to the dictionary.\n",
    "        items[item_name] = item_price\n",
    "\n",
    "#Finally, we loop through the items in the dictionary and print them.\n",
    "for item in items.keys():\n",
    "    print(item, items[item])\n"
   ]
  },
  {
   "cell_type": "markdown",
   "metadata": {},
   "source": [
    "#### 1.5.5: [Word Order](https://www.hackerrank.com/challenges/word-order/problem?isFullScreen=true)\n",
    "\n",
    "**Task:**\n",
    "\n",
    "You are given $n$ words. Some words may repeat. For each word, output its number of occurrences. The output order should correspond with the input order of appearance of the word. \n",
    "\n",
    "**Note:** Each input line ends with a \"\\n\" character."
   ]
  },
  {
   "cell_type": "code",
   "execution_count": 1,
   "metadata": {},
   "outputs": [
    {
     "name": "stdout",
     "output_type": "stream",
     "text": [
      "3\n",
      "2 1 1 "
     ]
    }
   ],
   "source": [
    "#Here we import the OrderedDict() class from the collections module. This class is used to create a dictionary with ordered keys.\n",
    "from collections import OrderedDict\n",
    "\n",
    "#Here we take the number of words as input from the user and store it in variable n.\n",
    "n = int(input().strip())\n",
    "#Here we initialize the ordered dictionary of words.\n",
    "words = OrderedDict()\n",
    "\n",
    "#Here we loop through the number of words and take each word as input from the user.\n",
    "for i in range(n):\n",
    "    word = input().strip()\n",
    "    #Here we check if the word is already in the dictionary.\n",
    "    if word in words.keys():\n",
    "        #If the word is already in the dictionary, we add 1 to the number of occurrences of the word.\n",
    "        words[word] += 1\n",
    "    else:\n",
    "        #If the word is not in the dictionary, we add the word to the dictionary.\n",
    "        words[word] = 1\n",
    "\n",
    "#Finally, we print the number of distinct words.\n",
    "print(len(words.keys()))\n",
    "#Also, we print the number of occurrences of each word in order of their first occurrence.\n",
    "for word in words.keys():\n",
    "    print(words[word], end=\" \")\n"
   ]
  },
  {
   "cell_type": "markdown",
   "metadata": {},
   "source": [
    "#### 1.5.6: [Collections.deque()](https://www.hackerrank.com/challenges/py-collections-deque/problem?isFullScreen=true)\n",
    "\n",
    "A deque is a double-ended queue. It can be used to add or remove elements from both ends. Deques support thread safe, memory efficient appends and pops from either side of the deque with approximately the same $O(1)$ performance in either direction. \n",
    "\n",
    "**Task:**\n",
    "\n",
    "Perform append, pop, popleft and appendleft methods on an empty deque $d$."
   ]
  },
  {
   "cell_type": "code",
   "execution_count": 2,
   "metadata": {},
   "outputs": [
    {
     "name": "stdout",
     "output_type": "stream",
     "text": [
      "1 2\n"
     ]
    }
   ],
   "source": [
    "#Here we import the deque() class from the collections module. This class is used to create a double-ended queue.\n",
    "from collections import deque\n",
    "\n",
    "#Here we initialize the deque.\n",
    "d = deque()\n",
    "#Here we take the number of commands as input from the user and store it in variable n.\n",
    "n = int(input().strip())\n",
    "\n",
    "#Here we loop through the number of commands and take the command and its arguments as input from the user.\n",
    "for i in range(n):\n",
    "    #The strip() and split() methods are used to remove the whitespaces and split the input.\n",
    "    command = input().strip().split()\n",
    "    #If the command is append, we append the specified element to the deque.\n",
    "    if command[0] == 'append':\n",
    "        d.append(command[1])\n",
    "    #If the command is pop, we pop an element from the deque.\n",
    "    elif command[0] == 'pop':\n",
    "        d.pop()\n",
    "    #If the command is popleft, we pop an element from the left of the deque.\n",
    "    elif command[0] == 'popleft':\n",
    "        d.popleft()\n",
    "    #If the command is appendleft, we append the specified element to the left of the deque.\n",
    "    elif command[0] == 'appendleft':\n",
    "        d.appendleft(command[1])\n",
    "\n",
    "#Finally, we print the elements in the deque.\n",
    "print(*d)\n"
   ]
  },
  {
   "cell_type": "markdown",
   "metadata": {},
   "source": [
    "#### 1.5.7: [Company Logo](https://www.hackerrank.com/challenges/most-commons/problem?isFullScreen=true)\n",
    "\n",
    "\n",
    "**Task:**\n",
    "\n",
    "A newly opened multinational brand has decided to base their company logo on the three most common characters in the company name. They are now trying out various combinations of company names and logos based on this condition. \n",
    "\n",
    "Given a string $s$, which is the company name in lowercase letters, your task is to find the top three most common characters in the string.\n",
    "\n",
    "- Print the three most common characters along with their occurrence count.\n",
    "- Sort in descending order of occurrence count.\n",
    "- If the occurrence count is the same, sort the characters in alphabetical order."
   ]
  },
  {
   "cell_type": "code",
   "execution_count": 30,
   "metadata": {},
   "outputs": [
    {
     "name": "stdout",
     "output_type": "stream",
     "text": [
      "b 3\n",
      "a 2\n",
      "c 2\n"
     ]
    }
   ],
   "source": [
    "#Here we import the Counter() class from the collections module. This class is used to count the number of occurrences of each element in a list.\n",
    "from collections import Counter\n",
    "\n",
    "#Now, we define an auxiliary function that acts as a key for the sorted() function.\n",
    "#This function takes a tuple as input and returns the negative of the second element of the tuple and the first element of the tuple.\n",
    "#The purpose of this function is to sort a list of tuples in reverse order of the second element of each tuple (in this case, the number of occurrences of each word) and on alphabetical order of the first element of each tuple (in this case, the word).\n",
    "def sorter(elem):\n",
    "    \"\"\"\n",
    "    Function that sorts a list of tuples in reverse order of the second element of each tuple and on alphabetical order of the first element of each tuple.\n",
    "\n",
    "    Args:\n",
    "        elem (tuple): Tuple to be sorted.\n",
    "    \n",
    "    Returns:\n",
    "        tuple: Sorted tuple.\n",
    "    \"\"\"\n",
    "    #Here we return the second element of the tuple multiplied by -1 to sort in reverse order and the first element of the tuple.\n",
    "    return (elem[1]*-1, elem[0])\n",
    "\n",
    "\n",
    "#Here we take a string as an input from the user and store it in variable s.\n",
    "s = input().strip()\n",
    "\n",
    "#Here we create a Counter object from the string. This object is used to count the number of occurrences of each character in the string.\n",
    "#The Counter() function returns a dictionary where the keys are the characters in the string and the values are the number of occurrences of each character.\n",
    "s_counter = Counter(s)\n",
    "\n",
    "#Next, we sort the dictionary in reverse order of the number of occurrences of each character and on alphabetical order of the characters.\n",
    "sorted_counter = sorted(s_counter.items(), key=sorter)\n",
    "\n",
    "#Finally, we print the 3 most common characters in the string.\n",
    "for i in range(3):\n",
    "    print(sorted_counter[i][0], sorted_counter[i][1])\n"
   ]
  },
  {
   "cell_type": "markdown",
   "metadata": {},
   "source": [
    "#### 1.5.8: [Piling Up!](https://www.hackerrank.com/challenges/piling-up/problem?isFullScreen=true)\n",
    "\n",
    "\n",
    "**Task:**\n",
    "\n",
    "There is a horizontal row of  cubes. The length of each cube is given. You need to create a new vertical pile of cubes. The new pile should follow these directions: if $cube[i]$ is on top of $cube[j]$ then $sideLength[j] \\geq sideLength[i]$.\n",
    "\n",
    "\n",
    "When stacking the cubes, you can only pick up either the leftmost or the rightmost cube each time. Print ```Yes``` if it is possible to stack the cubes. Otherwise, print ```No```.\n",
    "\n",
    "> **Note**: In order to solve this exercise I checked the [Discussions](https://www.hackerrank.com/challenges/piling-up/forum) section of the problem since I couldn't find an element from the Collections module that could help me solve it. In particular, I took the solution by [markosandres45](https://www.hackerrank.com/markosandres45) as a guideline and the credit for the main idea should go to him/her. Nevertheless I implemented a new logic where I initialized a ```current_block_size``` variable in order to check which cube length was greater and make the code more readable."
   ]
  },
  {
   "cell_type": "code",
   "execution_count": 32,
   "metadata": {},
   "outputs": [
    {
     "name": "stdout",
     "output_type": "stream",
     "text": [
      "Yes\n",
      "No\n"
     ]
    }
   ],
   "source": [
    "#Here we import the deque() class from the collections module. This class is used to create a double-ended queue to store the cube lengths.\n",
    "from collections import deque\n",
    "\n",
    "#Here we take the number of test cases as input from the user and store it in variable t.\n",
    "t = int(input().strip())\n",
    "\n",
    "#Here we loop through the number of test cases and take the number of cubes and the lengths of the cubes as input from the user.\n",
    "for i in range(t):\n",
    "    #Here we take as an input the number of cubes from the user and store it in variable n.\n",
    "    n = int(input().strip())\n",
    "    #Here we take the lengths of the cubes as input from the user and store them in a deque named cube_deque.\n",
    "    cube_deque = deque(map(int, input().strip().split()))\n",
    "\n",
    "    #Here we initialize the current block size to the maximum of the first and last elements in the deque.\n",
    "    #This is done because the first and last elements in the deque should be the base blocks of the tower.\n",
    "    current_block_size = max(cube_deque[0], cube_deque[-1])\n",
    "\n",
    "    #Here we loop through the elements in the deque.\n",
    "    for i in range(len(cube_deque)):\n",
    "        #Here we check if the first or last element in the deque is greater than the current block size.\n",
    "        #If this is the case, the tower cannot be built since the current block size should be greater than the first and last elements in the deque.\n",
    "        if cube_deque[0] > current_block_size or cube_deque[-1] > current_block_size:\n",
    "            print(\"No\")\n",
    "            break\n",
    "        else:\n",
    "            #If the first or last element in the deque is not greater than the current block size, we check which one is greater.\n",
    "            if cube_deque[-1] > cube_deque[0]:\n",
    "                #If the last element in the deque is greater than the first element in the deque, we pop the last element from the deque and store it in variable current_block_size.\n",
    "                current_block_size = cube_deque.pop()\n",
    "            else:\n",
    "                #If the first element in the deque is greater than the last element in the deque, we pop the first element from the deque and store it in variable current_block_size.\n",
    "                current_block_size = cube_deque.popleft()\n",
    "    \n",
    "    #Here we check if the deque is empty. If it is empty, the tower can be and was built.\n",
    "    if len(cube_deque) == 0:\n",
    "        print(\"Yes\")\n",
    "    "
   ]
  },
  {
   "cell_type": "markdown",
   "metadata": {},
   "source": [
    "### Problem 1.6: [Date and Time](https://www.hackerrank.com/domains/python/py-date-time)"
   ]
  },
  {
   "cell_type": "markdown",
   "metadata": {},
   "source": [
    "#### 1.6.1: [Calendar Module](https://www.hackerrank.com/challenges/calendar-module/problem?isFullScreen=true)\n",
    "\n",
    "The calendar module allows you to output calendars and provides additional useful functions for them.\n",
    "\n",
    "**Task:**\n",
    "\n",
    "You are given a date. Your task is to find what the day is on that date"
   ]
  },
  {
   "cell_type": "code",
   "execution_count": 42,
   "metadata": {},
   "outputs": [
    {
     "name": "stdout",
     "output_type": "stream",
     "text": [
      "WEDNESDAY\n"
     ]
    }
   ],
   "source": [
    "#Here we import the calendar module. This module is used to calculate the day of the week of a specified date.\n",
    "import calendar\n",
    "\n",
    "#Here we create a dictionary with the days of the week.\n",
    "days_of_the_week = {0: \"MONDAY\", 1: \"TUESDAY\", 2: \"WEDNESDAY\", 3: \"THURSDAY\", 4: \"FRIDAY\", 5: \"SATURDAY\", 6: \"SUNDAY\"}\n",
    "\n",
    "#Here we take the month, day and year as input from the user and store them in variables month, day and year.\n",
    "month, day, year = map(int, input().strip().split())\n",
    "\n",
    "#Here we calculate the day of the week of the specified date and store it in variable day_of_the_week.\n",
    "day_of_the_week = calendar.weekday(year, month, day)\n",
    "\n",
    "#Here we print the day of the week of the specified date.\n",
    "print(days_of_the_week[day_of_the_week])\n"
   ]
  },
  {
   "cell_type": "markdown",
   "metadata": {},
   "source": [
    "#### 1.6.2: [Time Delta](https://www.hackerrank.com/challenges/python-time-delta/problem?isFullScreen=true)\n",
    "\n",
    "When users post an update etc., other users in their network are able to view this new post on their news feed. Users can also see exactly when the post was published, i.e, how many hours, minutes or seconds ago.\n",
    "\n",
    "Since sometimes posts are published and viewed in different time zones, this can be confusing. You are given two timestamps of one such post that a user can see on his newsfeed in the following format:\n",
    "\n",
    "```Day dd Mon yyyy hh:mm:ss +xxxx```\n",
    "\n",
    "Here +xxxx represents the time zone. Your task is to print the absolute difference (in seconds) between them.\n",
    "\n",
    "**Task:**\n",
    "\n",
    "Print the absolute difference $(t_{1}-t_{2})$ in seconds.\n",
    "\n",
    ">**NOTE:** In order to perform this exercise I referred to the [datetime docs](https://docs.python.org/3/library/datetime.html#strftime-and-strptime-format-codes) specifically to find a way to convert a timestamp string to a more manipulable object. I also consulted the diverse format codes that exist in order to convert a timestamp to a datetime object."
   ]
  },
  {
   "cell_type": "code",
   "execution_count": 49,
   "metadata": {},
   "outputs": [
    {
     "name": "stdout",
     "output_type": "stream",
     "text": [
      "25200\n",
      "88200\n"
     ]
    }
   ],
   "source": [
    "#Here we import the datetime module. This module is used to create datetime objects and perform operations on them.\n",
    "import datetime\n",
    "\n",
    "def time_delta(t1, t2):\n",
    "    \"\"\"\n",
    "    Function that calculates the absolute difference between two timestamps.\n",
    "\n",
    "    Args:\n",
    "        t1 (str): Timestamp 1.\n",
    "        t2 (str): Timestamp 2.\n",
    "\n",
    "    Returns:\n",
    "        int: Absolute difference between the two timestamps.\n",
    "    \"\"\"\n",
    "    #Here we convert the timestamps to datetime objects.\n",
    "    #The strptime() method is used to convert a string to a datetime object.\n",
    "    #The %a format code is used to convert the abbreviated weekday name to a datetime object.\n",
    "    #The %d format code is used to convert the day of the month to a datetime object.\n",
    "    #The %b format code is used to convert the abbreviated month name to a datetime object.\n",
    "    #The %Y format code is used to convert the year to a datetime object.\n",
    "    #The %H format code is used to convert the hour to a datetime object.\n",
    "    #The %M format code is used to convert the minute to a datetime object.\n",
    "    #The %S format code is used to convert the second to a datetime object.\n",
    "    #The %z format code is used to convert the UTC offset to a datetime object.\n",
    "    t1 = datetime.datetime.strptime(t1, \"%a %d %b %Y %H:%M:%S %z\")\n",
    "    t2 = datetime.datetime.strptime(t2, \"%a %d %b %Y %H:%M:%S %z\")\n",
    "\n",
    "    #Here we calculate the difference between the two timestamps. This is given in the form of a timedelta object.\n",
    "    difference = t1-t2\n",
    "\n",
    "    #Here we return the absolute difference in seconds. The total_seconds() method is used to convert the difference to seconds.\n",
    "    return abs(int(difference.total_seconds()))\n",
    "\n",
    "#Here we take the number of test cases as input from the user and store it in variable t.\n",
    "t = int(input().strip())\n",
    "\n",
    "#Here we loop through the number of test cases and take the two timestamps as input from the user.\n",
    "for i in range(t):\n",
    "    t1 = input().strip()\n",
    "    t2 = input().strip()\n",
    "\n",
    "    #Here we call the function time_delta() to calculate the absolute difference between the two timestamps.\n",
    "    result = time_delta(t1, t2)\n",
    "    #Here we print the result.\n",
    "    print(result)\n"
   ]
  },
  {
   "cell_type": "markdown",
   "metadata": {},
   "source": [
    "### Problem 1.7: [Exceptions](https://www.hackerrank.com/challenges/exceptions)\n",
    "\n",
    "Errors detected during execution are called exceptions.\n",
    "\n",
    "The statements ```try``` and ```except``` can be used to handle selected exceptions. A ```try``` statement may have more than one ```except``` clause to specify handlers for different exceptions.\n",
    "\n",
    "**Task:**\n",
    "\n",
    "You are given two values $a$ and $b$. Perform integer division and print $a/b$."
   ]
  },
  {
   "cell_type": "code",
   "execution_count": 51,
   "metadata": {},
   "outputs": [
    {
     "name": "stdout",
     "output_type": "stream",
     "text": [
      "Error Code: integer division or modulo by zero\n",
      "Error Code: invalid literal for int() with base 10: '$'\n",
      "3\n"
     ]
    }
   ],
   "source": [
    "#Here we take the number of test cases as input from the user and store it in variable t.\n",
    "t = int(input().strip())\n",
    "\n",
    "#Here we loop through the number of test cases and take the two strings as input from the user.\n",
    "for i in range(t):\n",
    "    #Here we take the values of a and b as input from the user and store them in variables a and b.\n",
    "    a, b = input().strip().split()\n",
    "    #Here we try to convert the strings to integers and print the result.\n",
    "    try:\n",
    "        print(int(a)//int(b))\n",
    "    #Here we handle the exception when the denominator is 0.\n",
    "    except ZeroDivisionError as e:\n",
    "        #Here we print the error message if the denominator is 0.\n",
    "        print(\"Error Code:\", e)\n",
    "    #Here we handle the exception when the numerator or denominator cannot be converted to an integer.\n",
    "    except ValueError as e:\n",
    "        #Here we print the error message if the numerator or denominator cannot be converted to an integer.\n",
    "        print(\"Error Code:\", e)\n"
   ]
  },
  {
   "cell_type": "markdown",
   "metadata": {},
   "source": [
    "### Problem 1.8: [Built Ins](https://www.hackerrank.com/domains/python/py-built-ins)"
   ]
  },
  {
   "cell_type": "markdown",
   "metadata": {},
   "source": [
    "#### 1.8.1: [Zipped!](https://www.hackerrank.com/challenges/zipped/problem?isFullScreen=true)\n",
    "\n",
    "The ```zip([iterable, ...])``` function returns a list of tuples. The i-th tuple contains the i-th element from each of the argument sequences or iterables. If the argument sequences are of unequal lengths, then the returned list is truncated to the length of the shortest argument sequence.\n",
    "\n",
    "**Task:**\n",
    "\n",
    "The National University conducts an examination of $N$ students in $X$ subjects. Your task is to compute the average scores of each student."
   ]
  },
  {
   "cell_type": "code",
   "execution_count": 54,
   "metadata": {},
   "outputs": [
    {
     "name": "stdout",
     "output_type": "stream",
     "text": [
      "90.0\n",
      "91.0\n",
      "82.0\n",
      "90.0\n",
      "85.5\n"
     ]
    }
   ],
   "source": [
    "#Here we take the number of students n and the number of subjects x as input from the user and store them in variables n and x.\n",
    "n, x = map(int, input().strip().split())\n",
    "\n",
    "#Here we initialize a marks list to store all the marks by subject.\n",
    "total_marks_list = []\n",
    "\n",
    "#Here we loop through the number of subjects and take the marks of each student in each subject as input from the user.\n",
    "for i in range(x):\n",
    "    #Here we take the marks of each student in each subject as input from the user and store them in a list named marks_list.\n",
    "    marks_list = list(map(float, input().strip().split()))\n",
    "    #Here we append the marks of each student in each subject to the total_marks_list.\n",
    "    total_marks_list.append(marks_list)\n",
    "\n",
    "#Here we zip the marks of each student in each subject to get the marks of each student.\n",
    "marks_by_student = zip(*total_marks_list)\n",
    "\n",
    "#Here we obtain the average marks of each student and store them in a list named average_marks_list.\n",
    "average_marks_list = [sum(marks)/len(marks) for marks in marks_by_student]\n",
    "\n",
    "#Here we print the average marks of each student.\n",
    "print(*average_marks_list, sep=\"\\n\")\n"
   ]
  },
  {
   "cell_type": "markdown",
   "metadata": {},
   "source": [
    "#### 1.8.2: [Athlete Sort](https://www.hackerrank.com/challenges/python-sort-sort/problem)\n",
    "\n",
    "**Task:**\n",
    "\n",
    "You are given a spreadsheet that contains a list of $N$ athletes and their details (such as age, height, weight and so on). You are required to sort the data based on the K-th attribute and print the final resulting table.\n",
    "\n",
    "Note that $K$ is indexed from $0$ to $M-1$, where $M$ is the number of attributes.\n",
    "\n",
    "**Note:** If two attributes are the same for different rows, for example, if two atheletes are of the same age, print the row that appeared first in the input.\n",
    "\n",
    "> **NOTE:** In order to solve this exercise I consulted the Python [docs](https://docs.python.org/3/howto/sorting.html) on the ```sorted``` function. Specifically the section with an example of how to sort a tuple using its indices as keys using the ```operator.itemgetter()``` function."
   ]
  },
  {
   "cell_type": "code",
   "execution_count": 59,
   "metadata": {},
   "outputs": [
    {
     "name": "stdout",
     "output_type": "stream",
     "text": [
      "7 1 0\n",
      "10 2 5\n",
      "6 5 9\n",
      "9 9 9\n",
      "1 23 12\n"
     ]
    }
   ],
   "source": [
    "#Here we import the itemgetter() function from the operator module. This function is used to sort a list of lists by a specific element of the list.\n",
    "from operator import itemgetter\n",
    "\n",
    "#Here we take the number of athletes and the number of attributes as input from the user and store them in variables n and m.\n",
    "n, m = map(int, input().strip().split())\n",
    "\n",
    "#Here we initialize a list to store the attributes of each athlete.\n",
    "athlete_list = []\n",
    "\n",
    "#Here we loop through the number of athletes and take the attributes of each athlete as input from the user.\n",
    "for i in range(n):\n",
    "    #Here we take the attributes of each athlete as input from the user and store them in a list named attributes_list.\n",
    "    attributes_list = list(map(int, input().strip().split()))\n",
    "    #Here we append the attributes of each athlete to the athlete_list.\n",
    "    athlete_list.append(attributes_list)\n",
    "\n",
    "#Here we take the index of the attribute to sort the athletes by as input from the user and store it in variable k.\n",
    "k = int(input().strip())\n",
    "\n",
    "#Here we create the sorted list of athletes by the kth attribute.\n",
    "sorted_athlete_list = sorted(athlete_list, key=itemgetter(k))\n",
    "\n",
    "#Here we loop through the sorted list of athletes and print the sorted attributes of each athlete.\n",
    "for athlete in sorted_athlete_list:\n",
    "        print(*athlete)\n"
   ]
  },
  {
   "cell_type": "markdown",
   "metadata": {},
   "source": [
    "#### 1.8.3: [ginortS](https://www.hackerrank.com/challenges/ginorts/problem?isFullScreen=true)\n",
    "\n",
    "**Task:**\n",
    "\n",
    "You are given a string $S$. $S$ contains alphanumeric charaters only. Your task is to sort the string $S$ in the following manner:\n",
    "\n",
    "- All sorted lowercase letters are ahead of uppercase letters.\n",
    "- All sorted uppercase letters are ahead of digits.\n",
    "- All sorted odd digits are ahead of sorted even digits."
   ]
  },
  {
   "cell_type": "code",
   "execution_count": 60,
   "metadata": {},
   "outputs": [
    {
     "name": "stdout",
     "output_type": "stream",
     "text": [
      "ginortS1324\n"
     ]
    }
   ],
   "source": [
    "#Now, we define an auxiliary function that acts as a key for the sorted() function.\n",
    "#This function takes a string as input and returns a tuple of bools that indicate if the string is a lowercase letter, an uppercase letter, an even digit or an odd digit.\n",
    "#The purpose of this function is to sort a string in the following order: lowercase letters, uppercase letters, odd digits and even digits.\n",
    "def sorter(string):\n",
    "    \"\"\"\n",
    "    Function that sorts a string in the following order: lowercase letters, uppercase letters, odd digits and even digits.\n",
    "\n",
    "    Args:\n",
    "        elem (str): String to be sorted.\n",
    "    \n",
    "    Returns:\n",
    "        tuple: Sorting tuple.\n",
    "    \"\"\"\n",
    "    #Here we return a tuple of bools that indicate if the string is a lowercase letter, an uppercase letter, an even digit or an odd digit.\n",
    "    #The order of the elements in the tuple is the order in which the string should be sorted.\n",
    "    #The last element in the tuple is the string itself. This is done to sort the strings that have the same characteristics in alphabetical order.\n",
    "    return (string.isdigit(), string.isdigit() and int(string)%2==0, string.isupper(), string.islower(), string)\n",
    "\n",
    "#Here we take the string s as input from the user and store it in variable s.\n",
    "s = input().strip()\n",
    "\n",
    "#Here we sort the string. The key parameter is used to specify the function that will be used to sort the string.\n",
    "sorted_s = sorted(s, key=sorter)\n",
    "#Here we print the sorted string.\n",
    "print(*sorted_s, sep=\"\")\n"
   ]
  },
  {
   "cell_type": "markdown",
   "metadata": {},
   "source": [
    "### Problem 1.9: [Python Functionals](https://www.hackerrank.com/challenges/map-and-lambda-expression)\n",
    "\n",
    "**Task:**\n",
    "\n",
    "Let's learn some new Python concepts! You have to generate a list of the first $N$ fibonacci numbers, $0$ being the first number. Then, apply the map function and a lambda expression to cube each fibonacci number and print the list."
   ]
  },
  {
   "cell_type": "code",
   "execution_count": 61,
   "metadata": {},
   "outputs": [
    {
     "name": "stdout",
     "output_type": "stream",
     "text": [
      "[0, 1, 1, 8, 27]\n"
     ]
    }
   ],
   "source": [
    "#Here we take the number of fibonacci numbers to print as input from the user and store it in variable n.\n",
    "n = int(input().strip())\n",
    "\n",
    "#Here we define a fibonacci function that returns a list of the first n fibonacci numbers.\n",
    "def fibonacci(n):\n",
    "    \"\"\"\n",
    "    Function that returns a list of the first n fibonacci numbers.\n",
    "\n",
    "    Args:\n",
    "        n (int): Number of fibonacci numbers to print.\n",
    "    \n",
    "    Returns:\n",
    "        list: List of the first n fibonacci numbers.\n",
    "    \"\"\"\n",
    "    #Here we initialize a list to store the fibonacci numbers.\n",
    "    fibonacci_list = []\n",
    "\n",
    "    #Here we loop through the number of fibonacci numbers to save.\n",
    "    for i in range(n):\n",
    "\n",
    "        if i == 0 or i==1:\n",
    "            #Here we append the first two fibonacci numbers to the list.\n",
    "            fibonacci_list.append(i)\n",
    "        else:\n",
    "            #Here we calculate the next fibonacci number.\n",
    "            fibonacci_list.append(fibonacci_list[i-1] + fibonacci_list[i-2])\n",
    "\n",
    "    #Here we return the list of fibonacci numbers.\n",
    "    return fibonacci_list\n",
    "\n",
    "#Here we call the fibonacci function to get the list of the first n fibonacci numbers.\n",
    "fibonacci_list = fibonacci(n)\n",
    "\n",
    "#Here we print the list of the first cubed n fibonacci numbers \n",
    "#Here we use a lambda function to define in-line the cubic function and the map function in order to apply it in all the list.\n",
    "print(list(map(lambda x: x**3, fibonacci_list)))\n"
   ]
  },
  {
   "cell_type": "markdown",
   "metadata": {},
   "source": [
    "### Problem 1.10: [Regex and Parsing challenges](https://www.hackerrank.com/domains/python/py-regex)"
   ]
  },
  {
   "cell_type": "markdown",
   "metadata": {},
   "source": [
    "#### 1.10.1: [Detect Floating Point Number](https://www.hackerrank.com/challenges/introduction-to-regex/problem?isFullScreen=true)\n",
    "\n",
    "**Task:**\n",
    "\n",
    "You are given a string $S$. Your task is to verify that $S$ is a floating point number. In this task, a valid float number must satisfy all of the following requirements:\n",
    "\n",
    "-  Number can start with +, - or . symbol.\n",
    "- Number must contain at least 1 decimal value.\n",
    "- Number must have exactly one . symbol.\n",
    "- Number must not give any exceptions when converted using ```int(N)```.\n",
    "\n",
    "> **NOTE:** In order to solve this exercise and the ones ahead, since this is my first time working with Regular Expressions, I consulted several sources and searched for the relevant Regular Expressions to search for a specific pattern. For this particular exercise, I consulted two tutorials for Regular Expressions: one given by [Hackerrank](https://www.hackerrank.com/challenges/introduction-to-regex/tutorial) and the other given by [Datacamp](https://www.datacamp.com/tutorial/python-regular-expression-tutorial)."
   ]
  },
  {
   "cell_type": "code",
   "execution_count": 18,
   "metadata": {},
   "outputs": [
    {
     "name": "stdout",
     "output_type": "stream",
     "text": [
      "False\n"
     ]
    }
   ],
   "source": [
    "#Here we import the re module. This module is used to work with regular expressions.\n",
    "import re\n",
    "\n",
    "#Here we take the number of test cases as input from the user and store it in variable t.\n",
    "t = int(input().strip())\n",
    "\n",
    "#Here we loop through the number of test cases and take a string as input from the user.\n",
    "for i in range(t):\n",
    "    #Here we use the search() method to check if the string is a valid floating point number.\n",
    "    #The regular expression is composed of the following parts:\n",
    "    #^: Matches the beginning of the string.\n",
    "    #[\\+\\-]?: Matches 0 or 1 occurrence of + or -.\n",
    "    #[\\d]*: Matches 0 or more occurrences of a digit.\n",
    "    #\\.: Matches a dot.\n",
    "    #[\\d]+: Matches 1 or more occurrences of a digit.\n",
    "    #$: Matches the end of the string.\n",
    "    print(bool(re.search(r'^([\\+\\-]?[\\d]*)\\.([\\d]+)$', input().strip())))\n"
   ]
  },
  {
   "cell_type": "markdown",
   "metadata": {},
   "source": [
    "#### 1.10.2: [Re.split()](https://www.hackerrank.com/challenges/re-split/problem?isFullScreen=true)\n",
    "\n",
    "**Task:**\n",
    "\n",
    "You are given a string $s$ consisting only of digits ```0-9```, commas ```,```, and dots ```.```. Your task is to complete the ```regex_pattern``` defined below, which will be used to ```re.split()``` all of the ```,``` and ```.``` symbols in $s$. It’s guaranteed that every comma and every dot in $s$ is preceeded and followed by a digit."
   ]
  },
  {
   "cell_type": "code",
   "execution_count": 19,
   "metadata": {},
   "outputs": [
    {
     "name": "stdout",
     "output_type": "stream",
     "text": [
      "100\n",
      "000\n",
      "000\n",
      "000\n"
     ]
    }
   ],
   "source": [
    "#Here we import the re module. This module is used to work with regular expressions.\n",
    "import re\n",
    "#Here we create the regex pattern in order to split the string.\n",
    "#The regex pattern: [\\,\\.] matches a comma or a dot.\n",
    "regex_pattern = r\"[\\,\\.]\"\n",
    "#Here we split the string using the regex pattern and print each element in a new line.\n",
    "print(\"\\n\".join(re.split(regex_pattern, input())))\n"
   ]
  },
  {
   "cell_type": "markdown",
   "metadata": {},
   "source": [
    "#### 1.10.3: [Group(), Groups() & Groupdict()](https://www.hackerrank.com/challenges/re-group-groups/problem?isFullScreen=true)\n",
    "\n",
    "**Task:**\n",
    "\n",
    "You are given a string $S$. Your task is to find the first occurrence of an alphanumeric character in $S$ (read from left to right) that has consecutive repetitions.\n",
    "\n",
    ">**NOTE:** In order to solve this exercise I consulted the Regex docs in order to learn about [backreferences](https://www.regular-expressions.info/backref.html) since I couldn't find out how to search for 1 or more occurrences of a same character. I learned this is achieved with the Regex ```\\1+```."
   ]
  },
  {
   "cell_type": "code",
   "execution_count": 1,
   "metadata": {},
   "outputs": [
    {
     "name": "stdout",
     "output_type": "stream",
     "text": [
      "1\n"
     ]
    }
   ],
   "source": [
    "# Here we import the re module. This module is used to work with regular expressions.\n",
    "import re\n",
    "\n",
    "#Here we use the re.search() method to check for the first occurrence of a repeated alphanumeric character in the string.\n",
    "#The regular expression is composed of the following parts:\n",
    "#([a-zA-Z0-9]): Matches a alphanumeric character and stores it in a group.\n",
    "#\\1+: Matches 1 or more occurrences of the first group.\n",
    "regex_query= re.search(r\"([a-zA-Z0-9])\\1+\", input().strip())\n",
    "\n",
    "#Here we print the first group of the regex query. If there is no match, we print -1.\n",
    "if regex_query:\n",
    "    print(regex_query.groups()[0])\n",
    "else:\n",
    "    print(-1)\n"
   ]
  },
  {
   "cell_type": "markdown",
   "metadata": {},
   "source": [
    "#### 1.10.4: [Re.findall() & Re.finditer()](https://www.hackerrank.com/challenges/re-findall-re-finditer/problem?isFullScreen=true)\n",
    "\n",
    "**Task:**\n",
    "\n",
    "You are given a string $S$. It consists of alphanumeric characters, spaces and symbols(+,-). Your task is to find all the substrings of $S$ that contains $2$ or more vowels. Also, these substrings must lie in between $2$ consonants and should contain vowels only.\n",
    "\n",
    "**Note:** Vowels are defined as: AEIOU and aeiou. Consonants are defined as: QWRTYPSDFGHJKLZXCVBNM and qwrtypsdfghjklzxcvbnm.\n",
    "\n",
    ">**NOTE:** In order to solve this exercise I consulted the Regex docs in order to learn about [positive and negative lookbehinds/lookaheads](https://www.regular-expressions.info/lookaround.html) since I couldn't find out how to search for patterns between two characters. I learned this is achieved with the Regex ```?<=``` and ```?=```."
   ]
  },
  {
   "cell_type": "code",
   "execution_count": 3,
   "metadata": {},
   "outputs": [
    {
     "name": "stdout",
     "output_type": "stream",
     "text": [
      "ee\n",
      "Ioo\n",
      "Oeo\n",
      "eeeee\n"
     ]
    }
   ],
   "source": [
    "#Here we import the re module. This module is used to work with regular expressions.\n",
    "import re\n",
    "\n",
    "#Here we use the re.findall() method to find all the substrings that have two or more consecutive vowels and are surrounded by consonants.\n",
    "#The regular expression is composed of the following parts:\n",
    "#(?<=[^AEIOUaeiou]): Matches any character that is not a vowel and stores it in a group. The ?<= is a positive lookbehind assertion. This means that the match must be preceded by the specified pattern.\n",
    "#([AEIOUaeiou]{2,}): Matches 2 or more occurrences of a vowel and stores them in a group.\n",
    "#(?=[^AEIOUaeiou]): Matches any character that is not a vowel and stores it in a group. The ?= is a positive lookahead assertion. This means that the match must be followed by the specified pattern.\n",
    "substring_list = re.findall(r\"(?<=[^AEIOUaeiou])([AEIOUaeiou]{2,})(?=[^AEIOUaeiou])\", input().strip())\n",
    "\n",
    "#Here we print the substrings that have two or more consecutive vowels and are surrounded by consonants.\n",
    "if substring_list:\n",
    "    print(*substring_list, sep=\"\\n\")\n",
    "#If there are no substrings that have two or more consecutive vowels and are surrounded by consonants, we print -1.\n",
    "else:\n",
    "    print(-1)\n"
   ]
  },
  {
   "cell_type": "markdown",
   "metadata": {},
   "source": [
    "#### 1.10.5: [Re.start() & Re.end()](https://www.hackerrank.com/challenges/re-start-re-end/problem?isFullScreen=true)\n",
    "\n",
    "**Task:**\n",
    "\n",
    "You are given a string $S$. Your task is to find the indices of the start and end of string $k$ in $S$.\n",
    "\n",
    ">**NOTE:** In order to solve this exercise I had to look at the [Discussions](https://www.hackerrank.com/challenges/re-start-re-end/forum) section of the problem since I couldn't find out why the match.end() method didn't give me the desired index. In particular I recreated a very similar code to the one presented by [nagidrop](https://www.hackerrank.com/nagidrop) and all credit should go to him/her since I couldn't find a more original way to solve this."
   ]
  },
  {
   "cell_type": "code",
   "execution_count": 16,
   "metadata": {},
   "outputs": [
    {
     "name": "stdout",
     "output_type": "stream",
     "text": [
      "(-1, -1)\n"
     ]
    }
   ],
   "source": [
    "#Here we import the re module. This module is used to work with regular expressions.\n",
    "import re\n",
    "\n",
    "#Here we take as an input the string s and the substring k from the user and store them in variables s and k.\n",
    "s = input().strip()\n",
    "k = input().strip()\n",
    "\n",
    "#Here we check if there is a substring k within the string s. We use the re.search() method to check for the first occurrence of the substring k in the string s.\n",
    "if re.search(r\"(?={})\".format(k), s):\n",
    "    #If there is a substring k within the string s, we use the re.finditer() method to find all the occurrences of the substring k in the string s.\n",
    "    matches = re.finditer(r\"(?={})\".format(k), s)\n",
    "    for match in matches:\n",
    "        #Here we print the start and end indices of each occurrence of the substring k in the string s. We correct the end index by adding the length of the substring k - 1. This is done because the match.end() method returns the index of the last character of the match.\n",
    "        print((match.start(), match.end()+len(k)-1))\n",
    "#If there are no matches, we print (-1, -1).\n",
    "else:\n",
    "    print((-1, -1))\n"
   ]
  }
 ],
 "metadata": {
  "kernelspec": {
   "display_name": "adm",
   "language": "python",
   "name": "python3"
  },
  "language_info": {
   "codemirror_mode": {
    "name": "ipython",
    "version": 3
   },
   "file_extension": ".py",
   "mimetype": "text/x-python",
   "name": "python",
   "nbconvert_exporter": "python",
   "pygments_lexer": "ipython3",
   "version": "3.11.5"
  },
  "orig_nbformat": 4
 },
 "nbformat": 4,
 "nbformat_minor": 2
}
