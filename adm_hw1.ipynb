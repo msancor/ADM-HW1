{
 "cells": [
  {
   "cell_type": "markdown",
   "metadata": {},
   "source": [
    "# Algorithmic Methods for Data Mining: Homework 1\n",
    "\n",
    "**Author:** Miguel Angel Sanchez Cortes\n",
    "\n",
    "*MSc. in Data Science, Sapienza University of Rome*"
   ]
  },
  {
   "cell_type": "markdown",
   "metadata": {},
   "source": [
    "## Problem 1\n",
    "\n",
    "The goal of the first assignment focuses on building up our skills on Python. The assignment was done electronically using the [HACKERRANK](https://www.hackerrank.com) online service. The Python challenges that were completed were the following:\n",
    "\n",
    "1. [Introduction](https://www.hackerrank.com/domains/python/py-introduction) (all – total: 7 - max points: 75)\n",
    "2. [Data types](https://www.hackerrank.com/domains/python/py-basic-data-types) (all – total: 6 - max points: 60)\n",
    "3. [Strings](https://www.hackerrank.com/domains/python/py-strings) (all – total: 14 - max points: 220)\n",
    "4. [Sets](https://www.hackerrank.com/domains/python/py-sets) (all – total: 13 - max points: 170)\n",
    "5. [Collections](https://www.hackerrank.com/domains/python/py-collections) (all – total: 8 - max points: 220)\n",
    "6. [Date and Time](https://www.hackerrank.com/domains/python/py-date-time) (all – total: 2 - max points: 40)\n",
    "7. [Exceptions](https://www.hackerrank.com/challenges/exceptions) (only one  - max points: 10)\n",
    "8. Built-ins (only 3: [zipped](https://www.hackerrank.com/challenges/zipped), [python-sort-sort](https://www.hackerrank.com/challenges/python-sort-sort), and [ginorts](https://www.hackerrank.com/challenges/ginorts) - max points: 80)\n",
    "9. [Python Functionals](https://www.hackerrank.com/challenges/map-and-lambda-expression) (only 1 - max points: 20)\n",
    "10. [Regex and Parsing challenges](https://www.hackerrank.com/domains/python/py-regex) (all – total: 17 - max points: 560)\n",
    "11. [XML](https://www.hackerrank.com/domains/python/xml) (all – total: 2 - max points: 40)\n",
    "12. [Closures and Decorations](https://www.hackerrank.com/domains/python/closures-and-decorators) (all – total: 2 - max points: 60)\n",
    "13. [Numpy](https://www.hackerrank.com/domains/python/numpy) (all – total: 15 - max points: 300)"
   ]
  },
  {
   "cell_type": "markdown",
   "metadata": {},
   "source": [
    "### Problem 1.1: [Introduction](https://www.hackerrank.com/domains/python/py-introduction)"
   ]
  },
  {
   "cell_type": "markdown",
   "metadata": {},
   "source": [
    "#### 1.1.1: [Say \"Hello, World!\" With Python](https://www.hackerrank.com/challenges/py-hello-world)\n",
    "\n",
    "**Task:**\n",
    "\n",
    "Here is a sample line of code that can be executed in Python:\n",
    "\n",
    "```python\n",
    "print(\"Hello, World!\")\n",
    "```\n",
    "\n",
    "The above code will print \"Hello, World!\" on your screen. Try it yourself in the editor below!"
   ]
  },
  {
   "cell_type": "code",
   "execution_count": 3,
   "metadata": {},
   "outputs": [
    {
     "name": "stdout",
     "output_type": "stream",
     "text": [
      "Hello, World!\n"
     ]
    }
   ],
   "source": [
    "#The print function is used to print the output of \"Hello, World!\".\n",
    "print(\"Hello, World!\")"
   ]
  },
  {
   "cell_type": "markdown",
   "metadata": {},
   "source": [
    "#### 1.1.2: [Python If-Else](https://www.hackerrank.com/challenges/py-if-else/problem?isFullScreen=true)\n",
    "\n",
    "**Task:**\n",
    "\n",
    "Given an integer, $n$, perform the following conditional actions:\n",
    "\n",
    "- If $n$ is odd, print \"Weird\"\n",
    "- If $n$ is even and in the inclusive range of 2 to 5, print \"Not Weird\"\n",
    "- If $n$ is even and in the inclusive range of 6 to 20, print \"Weird\"\n",
    "- If $n$ is even and greater than 20, print \"Not Weird\""
   ]
  },
  {
   "cell_type": "code",
   "execution_count": 6,
   "metadata": {},
   "outputs": [
    {
     "name": "stdout",
     "output_type": "stream",
     "text": [
      "Not Weird\n"
     ]
    }
   ],
   "source": [
    "#Here, the input function is used to take the input from the user. \n",
    "#The strip() method is used to remove the whitespaces from the input.\n",
    "n = int(input().strip())\n",
    "\n",
    "#In this if-else conditional statement, we check if the number is even or odd.\n",
    "if n % 2 == 0:\n",
    "    #If the number is even, we check if the number is between 2 and 5, 6 and 20, or greater than 20.\n",
    "    #Based on the condition, we print the output.\n",
    "    if n>=2 and n<=5:\n",
    "        print(\"Not Weird\")\n",
    "    elif n>=6 and n<=20:\n",
    "        print(\"Weird\")\n",
    "    elif n>20:\n",
    "        print(\"Not Weird\")\n",
    "else:\n",
    "    print(\"Weird\")"
   ]
  },
  {
   "cell_type": "markdown",
   "metadata": {},
   "source": [
    "#### 1.1.3: [Arithmetic Operators](https://www.hackerrank.com/challenges/python-arithmetic-operators/problem?isFullScreen=true)\n",
    "\n",
    "**Task:**\n",
    "\n",
    "Given two integers, $a$ and $b$. Add code to print three lines where:\n",
    "\n",
    "- The first line contains the sum of the two numbers.\n",
    "- The second line contains the difference of the two numbers (first - second).\n",
    "- The third line contains the product of the two numbers."
   ]
  },
  {
   "cell_type": "code",
   "execution_count": 11,
   "metadata": {},
   "outputs": [
    {
     "name": "stdout",
     "output_type": "stream",
     "text": [
      "8\n",
      "-2\n",
      "15\n"
     ]
    }
   ],
   "source": [
    "#Here, we take two inputs from the user and store them in variables a and b.\n",
    "a = int(input().strip())\n",
    "b = int(input().strip())\n",
    "\n",
    "#We print the sum, difference, and product of the two numbers.\n",
    "print(a+b)\n",
    "print(a-b)\n",
    "print(a*b)"
   ]
  },
  {
   "cell_type": "markdown",
   "metadata": {},
   "source": [
    "#### 1.1.4: [Python: Division](https://www.hackerrank.com/challenges/python-division/problem?isFullScreen=true)\n",
    "\n",
    "**Task:**\n",
    "\n",
    "Given two integers, $a$ and $b$. Add logic to print two lines. The first line should contain the result of integer division, $a//b$. The second line should contain the result of float division, $a/b$.\n",
    "\n",
    "No rounding or formatting is necessary."
   ]
  },
  {
   "cell_type": "code",
   "execution_count": 13,
   "metadata": {},
   "outputs": [
    {
     "name": "stdout",
     "output_type": "stream",
     "text": [
      "0\n",
      "0.6\n"
     ]
    }
   ],
   "source": [
    "#Here, we take two inputs from the user and store them in variables a and b.\n",
    "a = int(input().strip())\n",
    "b = int(input().strip())\n",
    "\n",
    "#Here we print the integer division and float division of the two numbers.\n",
    "print(a//b)\n",
    "print(a/b)"
   ]
  },
  {
   "cell_type": "markdown",
   "metadata": {},
   "source": [
    "#### 1.1.5: [Loops](https://www.hackerrank.com/challenges/python-loops/problem?isFullScreen=true)\n",
    "\n",
    "**Task:**\n",
    "\n",
    "Given an integer $n$, for all non-negative integers $i<n$, print $i^2$."
   ]
  },
  {
   "cell_type": "code",
   "execution_count": 14,
   "metadata": {},
   "outputs": [
    {
     "name": "stdout",
     "output_type": "stream",
     "text": [
      "0\n",
      "1\n",
      "4\n"
     ]
    }
   ],
   "source": [
    "#Here, we take an input from the user and store it in variable n.\n",
    "n = int(input().strip())\n",
    "\n",
    "#Here, we loop through the numbers from 0 to n-1 and print the square of each number.\n",
    "for i in range(n):\n",
    "    print(i**2)"
   ]
  },
  {
   "cell_type": "markdown",
   "metadata": {},
   "source": [
    "#### 1.1.6: [Write a Function](https://www.hackerrank.com/challenges/write-a-function/problem?isFullScreen=true)\n",
    "\n",
    "An extra day is added to the calendar almost every four years as February 29, and the day is called a leap day. It corrects the calendar for the fact that our planet takes approximately 365.25 days to orbit the sun. A leap year contains a leap day.\n",
    "In the Gregorian calendar, three conditions are used to identify leap years:\n",
    "\n",
    "- The year can be evenly divided by 4, is a leap year, unless:\n",
    "\n",
    "  * The year can be evenly divided by 100, it is NOT a leap year, unless:\n",
    "\n",
    "    * The year is also evenly divisible by 400. Then it is a leap year.\n",
    "    \n",
    "This means that in the Gregorian calendar, the years 2000 and 2400 are leap years, while 1800, 1900, 2100, 2200, 2300 and 2500 are NOT leap years\n",
    "\n",
    "**Task:**\n",
    "\n",
    "Given a year, determine whether it is a leap year. If it is a leap year, return the Boolean True, otherwise return False.\n",
    "\n",
    "\n",
    "The code stub provided reads from STDIN and passes arguments to an *is_leap* function. It was only necessary to complete the *is_leap* function."
   ]
  },
  {
   "cell_type": "code",
   "execution_count": 15,
   "metadata": {},
   "outputs": [
    {
     "name": "stdout",
     "output_type": "stream",
     "text": [
      "False\n"
     ]
    }
   ],
   "source": [
    "#Here we define a function is_leap() that takes a year as input and returns True if the year is a leap year, and False if it is not.\n",
    "def is_leap(year):\n",
    "    \"\"\"\n",
    "    Prints if a year is a leap year or not.\n",
    "\n",
    "    Args:\n",
    "        year (int): Year to be checked.\n",
    "\n",
    "    Returns:\n",
    "        leap (bool): True if the year is a leap year, False if it is not.\n",
    "    \"\"\"\n",
    "    #Here we initialize the variable leap to False.\n",
    "    leap = False\n",
    "\n",
    "    #Here we check if the year is divisible by 4, 100, and 400.\n",
    "    if year%4 == 0:\n",
    "        if year%100 == 0:\n",
    "            if year%400 == 0:\n",
    "                leap = True\n",
    "            else:\n",
    "                pass\n",
    "        else:\n",
    "            leap = True\n",
    "    else:\n",
    "        pass\n",
    "    \n",
    "    #Here we return the value of leap.\n",
    "    return leap\n",
    "\n",
    "#Finally, we take an input from the user and store it in variable year.\n",
    "year = int(input().strip())\n",
    "#Here, we call the function is_leap() and print the output.\n",
    "print(is_leap(year))"
   ]
  },
  {
   "cell_type": "markdown",
   "metadata": {},
   "source": [
    "#### 1.1.7: [Print Function](https://www.hackerrank.com/challenges/python-print/problem?isFullScreen=true)\n",
    "\n",
    "**Task:**\n",
    "\n",
    "Given an integer $n$, without using any string methods, try to print the following: $123 \\cdots n$.\n",
    "\n",
    "Note that \"$\\cdots$\" represents the consecutive values in between.\n",
    "\n",
    ">**NOTE:** To solve this exercise, I consulted the possible arguments that could be used for the \"print()\" function. In particular, I consulted this [tutorial](https://www.datacamp.com/tutorial/python-print-function) where the functionality of the \"*end*\" argument is explained. Citing from the source:\n",
    "> * \"*end*: It is a string appended after the last value, defaults to a newline. It allows the programmer to define a custom ending character for each print call other than the default newline or \\n.\""
   ]
  },
  {
   "cell_type": "code",
   "execution_count": 24,
   "metadata": {},
   "outputs": [
    {
     "name": "stdout",
     "output_type": "stream",
     "text": [
      "1234"
     ]
    }
   ],
   "source": [
    "#Here, we take an input from the user and store it in variable n.\n",
    "n = int(input().strip())\n",
    "\n",
    "#Here we loop through the numbers from 1 to n and print them. The end=\"\" argument is used to print the numbers in the same line.\n",
    "for i in range(1,n+1):\n",
    "    print(i, end=\"\")"
   ]
  },
  {
   "cell_type": "markdown",
   "metadata": {},
   "source": [
    "### Problem 1.2: [Data Types](https://www.hackerrank.com/domains/python/py-basic-data-types)"
   ]
  },
  {
   "cell_type": "markdown",
   "metadata": {},
   "source": [
    "#### 1.2.1: [List Comprehensions](https://www.hackerrank.com/challenges/list-comprehensions/problem?isFullScreen=true)\n",
    "\n",
    "**Task:**\n",
    "\n",
    "You are given three integers $x$, $y$ and $z$ representing the dimensions of a cuboid along with an integer $n$. Print a list of all possible coordinates given by $(i, j, k)$ on a 3D grid where the sum of $i+j+k$ is not equal to $n$. Here, $0 \\leq i \\leq x$; $0 \\leq j \\leq y$; $0 \\leq k \\leq z$. \n",
    "\n",
    "Please use list comprehensions rather than multiple loops, as a learning exercise."
   ]
  },
  {
   "cell_type": "code",
   "execution_count": 27,
   "metadata": {},
   "outputs": [],
   "source": [
    "#Here we take as inputs the dimensions of the cuboid and the number n.\n",
    "x = int(input().strip())\n",
    "y = int(input().strip())\n",
    "z = int(input().strip())\n",
    "n = int(input().strip())\n",
    "\n",
    "#Using list comprehension, we create a list of all possible coordinates of the cuboid such that the sum of the coordinates is not equal to n.\n",
    "possible_coordinates = [[i, j, k] for i in range(x+1) for j in range(y+1) for k in range(z+1) if (i+j+k)!=n]\n",
    "\n",
    "#Here we print the list of possible coordinates.\n",
    "print(possible_coordinates)"
   ]
  },
  {
   "cell_type": "markdown",
   "metadata": {},
   "source": [
    "#### 1.2.2: [Find the Runner-Up Score!](https://www.hackerrank.com/challenges/find-second-maximum-number-in-a-list/problem?isFullScreen=true)\n",
    "\n",
    "**Task:**\n",
    "\n",
    "Given the participants' score sheet for your University Sports Day, you are required to find the runner-up score. You are given  scores. Store them in a list and find the score of the runner-up."
   ]
  },
  {
   "cell_type": "code",
   "execution_count": 44,
   "metadata": {},
   "outputs": [
    {
     "name": "stdout",
     "output_type": "stream",
     "text": [
      "1\n"
     ]
    }
   ],
   "source": [
    "#Here we take the number of elements in the list as input from the user and store it in variable n.\n",
    "n = int(input())\n",
    "#For the array, we take the elements as input from the user and store them in a list. \n",
    "#The map() function is used to convert the input to integers and the strip() and split() methods are used to remove the whitespaces and split the input in order to store it in a list.\n",
    "arr = list(map(int, input().strip().split()))\n",
    "\n",
    "#Here we sort the list in descending order (from largest to smallest).\n",
    "arr.sort(reverse=True)\n",
    "\n",
    "#Here we loop through every element in the list and check if it is not equal to the first element in the list (which is the largest element).\n",
    "#If the element is not equal to the first element, we print it and break the loop since that is the second largest element.\n",
    "for element in arr:\n",
    "    if element!=arr[0]:\n",
    "        print(element)\n",
    "        break"
   ]
  },
  {
   "cell_type": "markdown",
   "metadata": {},
   "source": [
    "#### 1.2.3: [Nested Lists](https://www.hackerrank.com/challenges/nested-list/problem?isFullScreen=true)\n",
    "**Task:**\n",
    "\n",
    "Given the names and grades for each student in a class of $N$ students, store them in a nested list and print the name(s) of any student(s) having the second lowest grade.\n",
    "\n",
    "**Note:** If there are multiple students with the second lowest grade, order their names alphabetically and print each name on a new line. Also, the first input line contains an integer, $N$, the number of students. The $2N$ subsequent lines describe each student over $2$ lines:\n",
    "\n",
    "- The first line contains a student's name. \n",
    "- The second line contains their grade."
   ]
  },
  {
   "cell_type": "code",
   "execution_count": 50,
   "metadata": {},
   "outputs": [
    {
     "name": "stdout",
     "output_type": "stream",
     "text": [
      "Iker\n",
      "Juan\n"
     ]
    }
   ],
   "source": [
    "#Here we create an empty list to store the names and scores of the students.\n",
    "students = []\n",
    "#Here we take the number of students as input from the user and store it in variable n.\n",
    "n = int(input().strip())\n",
    "#Here we loop through the number of students and take the name and score of each student as input from the user.\n",
    "for student in range(n):\n",
    "        name = input().strip()\n",
    "        score = float(input().strip())\n",
    "        #Here we append the name and score of each student to the list students.\n",
    "        students.append([name, score])\n",
    "\n",
    "#Here we create a list of all the scores of the students. We use the set() function to remove the duplicate scores and the list() function to convert the set to a list.\n",
    "grades_list = list(set([score for name, score in students]))\n",
    "#Here we sort the list of scores in ascending order (from smallest to largest).\n",
    "grades_list.sort()\n",
    "\n",
    "#Here we find the second lowest grade (it will simply be the second element of the grades_list) and store it in variable second_lowest_grade.\n",
    "second_lowest_grade = grades_list[1]\n",
    "\n",
    "#Here we create a list of all the students whose score is equal to the second lowest grade using list comprehension.\n",
    "second_lowest_students = [name for name, score in students if score == second_lowest_grade]\n",
    "#Here we sort the list of students in alphabetical order.\n",
    "second_lowest_students.sort()\n",
    "\n",
    "#Finally, we loop through the list of students whose score is equal to the second lowest grade and print the name of each student.\n",
    "for name in second_lowest_students:\n",
    "        print(name)"
   ]
  },
  {
   "cell_type": "markdown",
   "metadata": {},
   "source": [
    "#### 1.2.4: [Find the Percentage](https://www.hackerrank.com/challenges/finding-the-percentage/problem?isFullScreen=true)\n",
    "**Task:**\n",
    "\n",
    "Given the provided code stub that reads in a dictionary containing key/value pairs of name:[marks] for a list of students. Print the average of the marks array for the student name provided, showing 2 places after the decimal.\n",
    "\n",
    "For the input, the first line contains the integer $n$, the number of students' records. The next $n$ lines contain the names and marks obtained by a student, each value separated by a space. The final line contains query_name, the name of a student to query.\n",
    "\n",
    "> **NOTE:** The code stub that reads the input and puts it in a dictionary was provided by Hackerrank and not developed by me. Nevertheless, there were a few modifications explained in the comments.\n",
    "\n",
    "> **ANOTHER NOTE:** In order to find out how to print the mean showing 2 places after the decimal, I consulted the [Python docs](https://docs.python.org/3/tutorial/floatingpoint.html)."
   ]
  },
  {
   "cell_type": "code",
   "execution_count": 57,
   "metadata": {},
   "outputs": [
    {
     "name": "stdout",
     "output_type": "stream",
     "text": [
      "26.50\n"
     ]
    }
   ],
   "source": [
    "#Here we import the mean() function from the statistics module.\n",
    "from statistics import mean\n",
    "\n",
    "#Here we take the number of students as input from the user and store it in variable n.\n",
    "n = int(input().strip())\n",
    "#Here we create an empty dictionary to store the name and scores of the students.\n",
    "student_marks = {}\n",
    "\n",
    "#Here we loop through the number of students and take the name and score of each student as input from the user.\n",
    "for students in range(n):\n",
    "    #The split() method is used to split the input in order to store the name and scores in separate variables. \n",
    "    # The *line argument is used to store the rest of the input in the variable line.\n",
    "    name, *line = input().split()\n",
    "    #Here we convert the scores from strings to floats and store them in a list.\n",
    "    scores = list(map(float, line))\n",
    "    #Finally, we store the name and scores of each student in the dictionary student_marks.\n",
    "    student_marks[name] = scores\n",
    "\n",
    "#Here we take the name of the student whose average score is to be calculated as input from the user and store it in variable query_name.\n",
    "query_name = input().strip()\n",
    "\n",
    "#Here we print the average score of the student whose name is query_name. \n",
    "#The format() function is used to round the average score to 2 decimal places.\n",
    "print(format(mean(student_marks[query_name]), '.2f'))"
   ]
  },
  {
   "cell_type": "markdown",
   "metadata": {},
   "source": [
    "#### 1.2.5: [Lists](https://www.hackerrank.com/challenges/python-lists/problem?isFullScreen=true)\n",
    "**Task:**\n",
    "\n",
    "Consider a list (list = []). You can perform the following commands:\n",
    "\n",
    "\n",
    "- insert i e: Insert integer $e$ at position $i$.\n",
    "- print: Print the list.\n",
    "- remove e: Delete the first occurrence of integer $e$.\n",
    "- append e: Insert integer $e$ at the end of the list.\n",
    "- sort: Sort the list.\n",
    "- pop: Pop the last element from the list.\n",
    "- reverse: Reverse the list.\n",
    "\n",
    "\n",
    "Initialize your list and read in the value of $n$ followed by $n$ lines of commands where each command will be of the $7$ types listed above. Iterate through each command in order and perform the corresponding operation on your list.\n",
    "\n",
    "> **NOTE:** In order to find out the functioning of all the list methods, I consulted the [Python docs](https://docs.python.org/3/tutorial/datastructures.html)."
   ]
  },
  {
   "cell_type": "code",
   "execution_count": 60,
   "metadata": {},
   "outputs": [
    {
     "name": "stdout",
     "output_type": "stream",
     "text": [
      "[6, 5, 10]\n",
      "[1, 5, 9, 10]\n",
      "[9, 5, 1]\n"
     ]
    }
   ],
   "source": [
    "#Here we initialize the list.\n",
    "list = []\n",
    "#Here we take the number of commands as input from the user and store it in variable n.\n",
    "n = int(input().strip())\n",
    "\n",
    "#Here we loop through the number of commands and take the command and its arguments as input from the user.\n",
    "for i in range(n):\n",
    "    #The strip() and split() methods are used to remove the whitespaces and split the input.\n",
    "    command = input().strip().split()\n",
    "    #If the command is insert, we insert the specified element at the specified index.\n",
    "    if command[0] == 'insert':\n",
    "        list.insert(int(command[1]), int(command[2]))\n",
    "    #If the command is print, we print the list.\n",
    "    elif command[0] == 'print':\n",
    "        print(list)\n",
    "    #If the command is remove, we remove the specified element from the list.\n",
    "    elif command[0] == 'remove':\n",
    "        list.remove(int(command[1]))\n",
    "    #If the command is append, we append the specified element to the list.\n",
    "    elif command[0] == 'append':\n",
    "        list.append(int(command[1]))\n",
    "    #If the command is sort, we sort the list.\n",
    "    elif command[0] == 'sort':\n",
    "        list.sort()\n",
    "    #If the command is pop, we pop the last element from the list.\n",
    "    elif command[0] == 'pop':\n",
    "        list.pop()\n",
    "    #If the command is reverse, we reverse the list.\n",
    "    elif command[0] == 'reverse':\n",
    "        list.reverse()"
   ]
  },
  {
   "cell_type": "markdown",
   "metadata": {},
   "source": [
    "#### 1.2.6: [Tuples](https://www.hackerrank.com/challenges/python-tuples/problem?isFullScreen=true)\n",
    "**Task:**\n",
    "\n",
    "Given an integer, $n$, and $n$ space-separated integers as input, create a tuple, $t$, of those $n$ integers. Then compute and print the result of $hash(t)$."
   ]
  },
  {
   "cell_type": "code",
   "execution_count": 61,
   "metadata": {},
   "outputs": [
    {
     "name": "stdout",
     "output_type": "stream",
     "text": [
      "529344067295497451\n"
     ]
    }
   ],
   "source": [
    "#Here we take the number of integers as input from the user and store it in variable n.\n",
    "n = int(input().strip())\n",
    "\n",
    "#Here we take the integers as input from the user and store them in a list.\n",
    "integer_list = map(int, input().strip().split())\n",
    "#Here we convert the list to a tuple.\n",
    "integer_tuple = tuple(integer_list)\n",
    "\n",
    "#Here we print the hash of the tuple.\n",
    "print(hash(integer_tuple))"
   ]
  },
  {
   "cell_type": "markdown",
   "metadata": {},
   "source": [
    "### Problem 1.3: [Strings](https://www.hackerrank.com/domains/python/py-strings)"
   ]
  },
  {
   "cell_type": "markdown",
   "metadata": {},
   "source": [
    "#### 1.3.1: [sWAP cASE](https://www.hackerrank.com/challenges/swap-case/problem?isFullScreen=true)\n",
    "**Task:**\n",
    "\n",
    "You are given a string and your task is to swap cases. In other words, convert all lowercase letters to uppercase letters and vice versa.\n",
    "\n",
    "> **NOTE:** In order to find out the functioning of the $swapcase()$ method, I consulted the [Python docs](https://docs.python.org/3/library/stdtypes.html#string-methods)."
   ]
  },
  {
   "cell_type": "code",
   "execution_count": 67,
   "metadata": {},
   "outputs": [
    {
     "name": "stdout",
     "output_type": "stream",
     "text": [
      "hOLA\n"
     ]
    }
   ],
   "source": [
    "#Here we define a function swap_case() that takes a string as input and returns the string with swapped cases.\n",
    "def swap_case(old_string):\n",
    "    \"\"\"\n",
    "    Swaps the cases of the characters in a string.\n",
    "\n",
    "    Args:\n",
    "        s (str): String to be modified.\n",
    "    \n",
    "    Returns:\n",
    "        s (str): String with swapped cases.\n",
    "    \"\"\"\n",
    "    #Here we swap the cases of the characters in the string using the swapcase() method.\n",
    "    new_string = old_string.swapcase()\n",
    "\n",
    "    return new_string\n",
    "\n",
    "#Here we take a string as input from the user and store it in variable input_string.\n",
    "input_string = input().strip()\n",
    "\n",
    "#Here we call the function swap_case() and print the output.\n",
    "result = swap_case(input_string)\n",
    "print(result)"
   ]
  },
  {
   "cell_type": "markdown",
   "metadata": {},
   "source": [
    "#### 1.3.2: [String Split and Join](https://www.hackerrank.com/challenges/python-string-split-and-join/problem?isFullScreen=true)\n",
    "\n",
    "In Python, a string can be split on a delimiter.\n",
    "\n",
    "**Example:**\n",
    "\n",
    "```python\n",
    "a = \"this is a string\"\n",
    "a = a.split(\" \") # a is converted to a list of strings.\n",
    "print(a)\n",
    "```\n",
    "returns ```['this', 'is', 'a', 'string']```\n",
    "\n",
    "Joining a string is simple:\n",
    "\n",
    "```python\n",
    "a = \"-\".join(a)\n",
    "print(a)\n",
    "```\n",
    "\n",
    "returns ``` this-is-a-string```\n",
    "\n",
    "\n",
    "**Task:**\n",
    "\n",
    "You are given a string. Split the string on a \" \" (space) delimiter and join using a - hyphen\n",
    "\n"
   ]
  },
  {
   "cell_type": "code",
   "execution_count": 4,
   "metadata": {},
   "outputs": [
    {
     "name": "stdout",
     "output_type": "stream",
     "text": [
      "this-is-a-string\n"
     ]
    }
   ],
   "source": [
    "#Here we create a function that splits a string with spaces in it and joins it with a hyphen.\n",
    "def split_and_join(line):\n",
    "    \"\"\"\n",
    "    Function that splits a string and re-unites it with a - hyphen.\n",
    "\n",
    "    Args:\n",
    "        line (str): String to be modified.\n",
    "    \n",
    "    Returns:\n",
    "        new_line (str): String re-united with hyphens.\n",
    "    \"\"\"\n",
    "    #Here we split the string using \" \" as a delimiter.\n",
    "    line = line.split(\" \")\n",
    "    #Here we re-join it with hyphens.\n",
    "    new_line = \"-\".join(line)\n",
    "    #Here we return the new string.\n",
    "    return new_line\n",
    "\n",
    "#Here we take the string to modify as an input from the user\n",
    "line = input().strip()\n",
    "#Here we apply the split_and_join() function\n",
    "result = split_and_join(line)\n",
    "#Here we print the result\n",
    "print(result)"
   ]
  },
  {
   "cell_type": "markdown",
   "metadata": {},
   "source": [
    "#### 1.3.3: [What's Your Name?](https://www.hackerrank.com/challenges/whats-your-name/problem?isFullScreen=true)\n",
    "\n",
    "**Task:**\n",
    "\n",
    "You are given the firstname and lastname of a person on two different lines. Your task is to read them and print the following:\n",
    "\n",
    "> ``` Hello firstname lastname! You just delved into python.```"
   ]
  },
  {
   "cell_type": "code",
   "execution_count": 5,
   "metadata": {},
   "outputs": [
    {
     "name": "stdout",
     "output_type": "stream",
     "text": [
      "Hello Miguel Sanchez! You just delved into python.\n"
     ]
    }
   ],
   "source": [
    "#Here we create a function that prints the full name of a person within a personalized string\n",
    "def print_full_name(first, last):\n",
    "    \"\"\"\n",
    "    Function that prints the name and last name of a person along with a greeting.\n",
    "\n",
    "    Args:\n",
    "        first (str): First name of the person.\n",
    "        last (str): Last name of the person.\n",
    "    \n",
    "    Returns:\n",
    "        None\n",
    "    \"\"\"\n",
    "    #Here we use the f\"\"\" to add variables and print them as strings in order to print the personalized greeting.\n",
    "    print(f\"Hello {first} {last}! You just delved into python.\")\n",
    "\n",
    "#Here we take the first name as an input\n",
    "first_name = input().strip()\n",
    "#Here we take the last name as an input\n",
    "last_name = input().strip()\n",
    "#Here we call the function\n",
    "print_full_name(first_name, last_name)"
   ]
  },
  {
   "cell_type": "markdown",
   "metadata": {},
   "source": [
    "#### 1.3.4: [Mutations](https://www.hackerrank.com/challenges/python-mutations/problem?isFullScreen=true)\n",
    "\n",
    "We have seen that lists are mutable (they can be changed), and tuples are immutable (they cannot be changed).\n",
    "\n",
    "Let's try to understand this with an example.\n",
    "You are given an immutable string, and you want to make changes to it. How would you approach this?\n",
    "\n",
    "- One solution is to convert the string to a list and then change the value.\n",
    "\n",
    "    ``` python\n",
    "    string = \"abracadabra\"\n",
    "    l = list(string)\n",
    "    l[5] = 'k'\n",
    "    string = ''.join(l)\n",
    "    print(string)\n",
    "    ```\n",
    "\n",
    "    returns ```abrackdabra```\n",
    "\n",
    "- Another approach is to slice the string and join it back.\n",
    "\n",
    "    ``` python\n",
    "    string = string[:5] + \"k\" + string[6:]\n",
    "    print(string)\n",
    "    ```\n",
    "\n",
    "    returns ```abrackdabra```\n",
    "\n",
    "\n",
    "**Task:**\n",
    "\n",
    "Read a given string, change the character at a given index and then print the modified string."
   ]
  },
  {
   "cell_type": "code",
   "execution_count": 6,
   "metadata": {},
   "outputs": [
    {
     "name": "stdout",
     "output_type": "stream",
     "text": [
      "abrackdabra\n"
     ]
    }
   ],
   "source": [
    "def mutate_string(string, position, character):\n",
    "    \"\"\"\n",
    "    Function that adds a character at a specified position in a string.\n",
    "\n",
    "    Args:\n",
    "        string (str): String to be modified.\n",
    "        position (int): Position at which the character is to be added.\n",
    "        character (str): Character to be added.\n",
    "    \n",
    "    Returns:\n",
    "        new_string (str): Modified string.\n",
    "    \"\"\"\n",
    "    #Here we add the character at the specified position in the string.\n",
    "    new_string = string[:position] + character + string[position+1:]\n",
    "    #Here we return the modified string.\n",
    "    return new_string\n",
    "\n",
    "#Here we take a string as input from the user and store it in variable string.\n",
    "string = input().strip()\n",
    "#Here we take the index at which the character is to be added as input from the user and store it in variable index.\n",
    "#In the same way, we take the character to be added as input from the user and store it in variable character.\n",
    "index, character = input().strip().split()\n",
    "\n",
    "#Here we call the function mutate_string() to add the character at the specified position in the string.    \n",
    "new_string = mutate_string(string, int(index), character)\n",
    "#Here we print the modified string.\n",
    "print(new_string)"
   ]
  },
  {
   "cell_type": "markdown",
   "metadata": {},
   "source": [
    "#### 1.3.5: [Find a String](https://www.hackerrank.com/challenges/find-a-string/problem?isFullScreen=true)\n",
    "\n",
    "**Task:**\n",
    "\n",
    "In this challenge, the user enters a string and a substring. You have to print the number of times that the substring occurs in the given string. String traversal will take place from left to right, not from right to left.\n",
    "\n",
    "**NOTE:** String letters are case-sensitive."
   ]
  },
  {
   "cell_type": "code",
   "execution_count": 38,
   "metadata": {},
   "outputs": [
    {
     "name": "stdout",
     "output_type": "stream",
     "text": [
      "2\n"
     ]
    }
   ],
   "source": [
    "def count_substring(string, sub_string):\n",
    "    \"\"\"\n",
    "    Function that counts the number of times a substring appears in a string.\n",
    "\n",
    "    Args:\n",
    "        string (str): String to be checked.\n",
    "        sub_string (str): Substring to be checked.\n",
    "    \n",
    "    Returns:\n",
    "        count (int): Number of times the substring appears in the string.\n",
    "    \"\"\"\n",
    "    #Here we initialize the count to 0.\n",
    "    count = 0\n",
    "    #Here we define the limit index, which is the maximum index of the string where the substring can be present.\n",
    "    #We calculate it by subtracting the length of the substring from the length of the string and adding 1 because the range() function is exclusive of the last index.\n",
    "    limit_index = len(string) - len(sub_string) + 1\n",
    "    #Here we loop through the string from 0 to the limit index in chunks of the length of the substring and check if the substring is present.\n",
    "    #If it is present, we increment the count by 1.\n",
    "    for i in range(limit_index):\n",
    "        if string[i:i+len(sub_string)] == sub_string:\n",
    "            count += 1\n",
    "    \n",
    "    #Here we return the count.\n",
    "    return count\n",
    "\n",
    "#Here we take a string as input from the user and store it in variable string.\n",
    "string = input().strip()\n",
    "#Here we take a substring as input from the user and store it in variable sub_string.\n",
    "sub_string = input().strip()\n",
    "\n",
    "#Here we call the function count_substring() to count the number of times the substring appears in the string.\n",
    "count = count_substring(string, sub_string)\n",
    "#Here we print the count.\n",
    "print(count)"
   ]
  },
  {
   "cell_type": "markdown",
   "metadata": {},
   "source": [
    "#### 1.3.6: [String Validators](https://www.hackerrank.com/challenges/string-validators/problem?isFullScreen=true)\n",
    "\n",
    "Python has built-in string validation methods for basic data. It can check if a string is composed of alphabetical characters, alphanumeric characters, digits, etc.\n",
    "\n",
    "- [str.isalnum()](https://docs.python.org/2/library/stdtypes.html#str.isalnum): This method checks if all the characters of a string are alphanumeric (a-z, A-Z and 0-9).\n",
    "\n",
    "    ```python\n",
    "    print('ab123'.isalnum())\n",
    "    True\n",
    "\n",
    "    print('ab123#'.isalnum())\n",
    "    False\n",
    "    ```\n",
    "- [str.isalpha()](https://docs.python.org/2/library/stdtypes.html#str.isalpha): This method checks if all the characters of a string are alphabetical (a-z and A-Z).\n",
    "\n",
    "    ```python\n",
    "    print('abcD'.isalpha())\n",
    "    True\n",
    "\n",
    "    print('abcd1'.isalpha())\n",
    "    False\n",
    "    ```\n",
    "- [str.isdigit()](https://docs.python.org/2/library/stdtypes.html#str.isdigit): This method checks if all the characters of a string are digits (0-9).\n",
    "\n",
    "    ```python\n",
    "    print('1234'.isdigit())\n",
    "    True\n",
    "\n",
    "    print('123edsd'.isdigit())\n",
    "    False\n",
    "    ```\n",
    "\n",
    "- [str.islower()](https://docs.python.org/2/library/stdtypes.html#str.islower): This method checks if all the characters of a string are lowercase characters (a-z).\n",
    "\n",
    "    ```python\n",
    "    print('abcd123#'.islower())\n",
    "    True\n",
    "\n",
    "    print('Abcd123#'.islower())\n",
    "    False\n",
    "    ```\n",
    "- [str.isupper()](https://docs.python.org/2/library/stdtypes.html#str.isupper): This method checks if all the characters of a string are uppercase characters (A-Z).\n",
    "\n",
    "    ```python\n",
    "    print('ABCD123#'.isupper())\n",
    "    True\n",
    "\n",
    "    print('Abcd123#'.isupper())\n",
    "    False\n",
    "    ```\n",
    "**Task:**\n",
    "\n",
    "You're given a string $S$. Your task is to find out if the string $S$ contains: alphanumeric characters, alphabetical characters, digits, lowercase and uppercase characters.\n",
    "\n",
    "> **NOTE:** I consulted the Python [docs](https://docs.python.org/3/library/functions.html#any) to find the built-in ```any()``` function. This function returns ```True``` if any element of an iterable is True."
   ]
  },
  {
   "cell_type": "code",
   "execution_count": 1,
   "metadata": {},
   "outputs": [
    {
     "name": "stdout",
     "output_type": "stream",
     "text": [
      "True\n",
      "True\n",
      "True\n",
      "True\n",
      "True\n"
     ]
    }
   ],
   "source": [
    "#Here we take a string as input from the user and store it in variable s.\n",
    "s = input().strip()\n",
    "\n",
    "#Here we create a list of booleans that check if the string contains alphanumeric characters, alphabetical characters, digits, lowercase characters, and uppercase characters.\n",
    "#We use the any() function to check if any of the characters in the string satisfy the condition.\n",
    "list = [any(character.isalnum() for character in s), any(character.isalpha() for character in s), any(character.isdigit() for character in s), any(character.islower() for character in s), any(character.isupper() for character in s)]\n",
    "\n",
    "#Here we loop through the list and print each element.\n",
    "for element in list:\n",
    "    print(element)"
   ]
  },
  {
   "cell_type": "markdown",
   "metadata": {},
   "source": [
    "#### 1.3.7: [Text Alignment](https://www.hackerrank.com/challenges/text-alignment/problem)\n",
    "\n",
    "In Python, a string of text can be aligned left, right and center.\n",
    "\n",
    "- ```.ljust(width)```: This method returns a left aligned string of length width.\n",
    "\n",
    "    ```python\n",
    "    width = 20\n",
    "    print 'HackerRank'.ljust(width,'-')\n",
    "    ```\n",
    "    prints ```HackerRank----------```\n",
    "\n",
    "- ```.center(width)```: This method returns a centered string of length width.\n",
    "\n",
    "    ```python\n",
    "    width = 20\n",
    "    print 'HackerRank'.center(width,'-')\n",
    "    ```\n",
    "    prints ```-----HackerRank-----```\n",
    "\n",
    "- ```.rjust(width)```: This method returns a right aligned string of length width.\n",
    "\n",
    "    ```python\n",
    "    width = 20\n",
    "    print 'HackerRank'.rjust(width,'-')\n",
    "    ```\n",
    "    prints ```----------HackerRank```\n",
    "\n",
    "**Task:**\n",
    "\n",
    "You are given a partial code that is used for generating the HackerRank Logo of variable thickness:\n",
    "\n",
    "```python\n",
    "#Replace all ______ with rjust, ljust or center. \n",
    "\n",
    "thickness = int(input()) #This must be an odd number\n",
    "c = 'H'\n",
    "\n",
    "#Top Cone\n",
    "for i in range(thickness):\n",
    "    print((c*i).______(thickness-1)+c+(c*i).______(thickness-1))\n",
    "\n",
    "#Top Pillars\n",
    "for i in range(thickness+1):\n",
    "    print((c*thickness).______(thickness*2)+(c*thickness).______(thickness*6))\n",
    "\n",
    "#Middle Belt\n",
    "for i in range((thickness+1)//2):\n",
    "    print((c*thickness*5).______(thickness*6))    \n",
    "\n",
    "#Bottom Pillars\n",
    "for i in range(thickness+1):\n",
    "    print((c*thickness).______(thickness*2)+(c*thickness).______(thickness*6))    \n",
    "\n",
    "#Bottom Cone\n",
    "for i in range(thickness):\n",
    "    print(((c*(thickness-i-1)).______(thickness)+c+(c*(thickness-i-1)).______(thickness)).______(thickness*6))\n",
    "```\n",
    "\n",
    "Your task is to replace the blank (______) with rjust, ljust or center."
   ]
  },
  {
   "cell_type": "code",
   "execution_count": 15,
   "metadata": {},
   "outputs": [
    {
     "name": "stdout",
     "output_type": "stream",
     "text": [
      "    H    \n",
      "   HHH   \n",
      "  HHHHH  \n",
      " HHHHHHH \n",
      "HHHHHHHHH\n",
      "  HHHHH               HHHHH             \n",
      "  HHHHH               HHHHH             \n",
      "  HHHHH               HHHHH             \n",
      "  HHHHH               HHHHH             \n",
      "  HHHHH               HHHHH             \n",
      "  HHHHH               HHHHH             \n",
      "  HHHHHHHHHHHHHHHHHHHHHHHHH   \n",
      "  HHHHHHHHHHHHHHHHHHHHHHHHH   \n",
      "  HHHHHHHHHHHHHHHHHHHHHHHHH   \n",
      "  HHHHH               HHHHH             \n",
      "  HHHHH               HHHHH             \n",
      "  HHHHH               HHHHH             \n",
      "  HHHHH               HHHHH             \n",
      "  HHHHH               HHHHH             \n",
      "  HHHHH               HHHHH             \n",
      "                    HHHHHHHHH \n",
      "                     HHHHHHH  \n",
      "                      HHHHH   \n",
      "                       HHH    \n",
      "                        H     \n"
     ]
    }
   ],
   "source": [
    "#Here we take as input the thickness of the logo as an odd number from the user and store it in variable thickness.\n",
    "thickness = int(input())\n",
    "#Here we define the character to be used to print the logo.\n",
    "c = 'H'\n",
    "\n",
    "#Here we print the top cone. The rjust() and ljust() methods are used to right and left justify the string.\n",
    "for i in range(thickness):\n",
    "    print((c*i).rjust(thickness-1)+c+(c*i).ljust(thickness-1))\n",
    "\n",
    "#Here we print the top pillars. The center() method is used to center the characters.\n",
    "for i in range(thickness+1):\n",
    "    print((c*thickness).center(thickness*2)+(c*thickness).center(thickness*6))\n",
    "\n",
    "#Here we print the middle belt. The center() method is used to center the characters.\n",
    "for i in range((thickness+1)//2):\n",
    "    print((c*thickness*5).center(thickness*6))\n",
    "\n",
    "#Here we print the bottom pillars. The center() method is used to center the characters as in the previous case.\n",
    "for i in range(thickness+1):\n",
    "    print((c*thickness).center(thickness*2)+(c*thickness).center(thickness*6))\n",
    "\n",
    "#Here we print the bottom cone. The rjust() and ljust() methods are used to right and left justify the string as in the previous case.\n",
    "for i in range(thickness):\n",
    "    print(((c*(thickness-i-1)).rjust(thickness)+c+(c*(thickness-i-1)).ljust(thickness)).rjust(thickness*6))"
   ]
  },
  {
   "cell_type": "markdown",
   "metadata": {},
   "source": [
    "#### 1.3.8: [Text Wrap](https://www.hackerrank.com/challenges/text-wrap/problem?isFullScreen=true)\n",
    "\n",
    "**Task:**\n",
    "\n",
    "You are given a string $S$ and width $w$. Your task is to wrap the string into a paragraph of width $w$.\n",
    "\n",
    "> **NOTE:** The code provided suggest us to use the Python ```textwrap``` package. Within this package, I found the ```wrap(s,w)``` method that converts a string $s$ into a list where each element is a part of the string with maximum width $w$. Also, the $.join()$ method, that joins a string with another wrapped string."
   ]
  },
  {
   "cell_type": "code",
   "execution_count": null,
   "metadata": {},
   "outputs": [],
   "source": [
    "#Here we import the textwrap module. This module is used to wrap the string to a specified width.\n",
    "import textwrap\n",
    "\n",
    "#Here we define a function wrap() that takes a string and a maximum width as input and returns the wrapped string.\n",
    "def wrap(string, max_width):\n",
    "    \"\"\"\n",
    "    Function that wraps a string to a specified width.\n",
    "\n",
    "    Args:\n",
    "        string (str): String to be wrapped.\n",
    "        max_width (int): Maximum width of the string.\n",
    "    \n",
    "    Returns:\n",
    "        wrapped_string (str): Wrapped string.\n",
    "    \"\"\"\n",
    "    #Here we use the wrap() method to wrap the string to the specified width. The wrap() method returns a list of strings with each string having a maximum width of max_width.\n",
    "    #The join() method is used to join the strings in the list with a newline character.\n",
    "    wrapped_string = \"\\n\".join(textwrap.wrap(string, max_width))\n",
    "\n",
    "    #Here we return the wrapped string.\n",
    "    return wrapped_string\n",
    "\n",
    "#Here we take a string and a maximum width as input from the user and store them in variables string and max_width.\n",
    "string, max_width = input().strip(), int(input().strip())\n",
    "\n",
    "#Here we call the function wrap() to wrap the string to the specified width.\n",
    "result = wrap(string, max_width)\n",
    "#Here we print the wrapped string.\n",
    "print(result)"
   ]
  },
  {
   "cell_type": "markdown",
   "metadata": {},
   "source": [
    "#### 1.3.9: [Door Mat](https://www.hackerrank.com/challenges/designer-door-mat/problem?isFullScreen=true)\n",
    "\n",
    "Mr. Vincent works in a door mat manufacturing company. One day, he designed a new door mat with the following specifications:\n",
    "\n",
    "- Mat size must be $N \\times M$. ($N$ is an odd natural number, and $M$ is $3$ times $N$.)\n",
    "- The design should have 'WELCOME' written in the center.\n",
    "- The design pattern should only use ```|```, ```.``` and ```-``` characters.\n",
    "\n",
    "**Task:**\n",
    "\n",
    "Output the design pattern."
   ]
  },
  {
   "cell_type": "code",
   "execution_count": 38,
   "metadata": {},
   "outputs": [
    {
     "name": "stdout",
     "output_type": "stream",
     "text": [
      "------------.|.------------\n",
      "---------.|..|..|.---------\n",
      "------.|..|..|..|..|.------\n",
      "---.|..|..|..|..|..|..|.---\n",
      "----------WELCOME----------\n",
      "---.|..|..|..|..|..|..|.---\n",
      "------.|..|..|..|..|.------\n",
      "---------.|..|..|.---------\n",
      "------------.|.------------\n"
     ]
    }
   ],
   "source": [
    "#Here we rake the width and length of the door mat as input from the user and store them in variables n and m.\n",
    "n, m = map(int, input().strip().split())\n",
    "\n",
    "#Here we print the superior part of the door mat. The center() method is used to center the characters.\n",
    "for i in range(1, n-1, 2):\n",
    "    print((i*\".|.\").center(m, \"-\"))\n",
    "\n",
    "#Here we print the WELCOME letter in the center of the door mat. The center() method is used to center the characters.\n",
    "print(\"WELCOME\".center(m, \"-\"))\n",
    "\n",
    "#Here we print the inferior part of the door mat. The center() method is used to center the characters.\n",
    "for i in range(n-2, 0, -2):\n",
    "    print((i*\".|.\").center(m, \"-\"))"
   ]
  },
  {
   "cell_type": "markdown",
   "metadata": {},
   "source": [
    "#### 1.3.10: [String Formatting](https://www.hackerrank.com/challenges/python-string-formatting/problem?isFullScreen=true)\n",
    "\n",
    "**Task:**\n",
    "\n",
    "Given an integer, $n$, print the following values for each integer $i$ from $1$ to $n$:\n",
    "\n",
    "- Decimal\n",
    "- Octal\n",
    "- Hexadecimal (capitalized)\n",
    "- Binary\n",
    "\n",
    "> **NOTE:** The four values must be printed on a single line in the order specified above for each $i$ from $1$ to $n$. Each value should be space-padded to match the width of the binary value of $n$ and the values should be separated by a single space.\n",
    "\n",
    "> **ANOTHER NOTE:** In order to know the functioning of the ```hex```, ```oct```, and ```bin``` functions I consulted a DataCamp [tutorial](https://www.datacamp.com/tutorial/python-data-type-conversion) on Data Type conversion."
   ]
  },
  {
   "cell_type": "code",
   "execution_count": 64,
   "metadata": {},
   "outputs": [
    {
     "name": "stdout",
     "output_type": "stream",
     "text": [
      "    1     1     1     1\n",
      "    2     2     2    10\n",
      "    3     3     3    11\n",
      "    4     4     4   100\n",
      "    5     5     5   101\n",
      "    6     6     6   110\n",
      "    7     7     7   111\n",
      "    8    10     8  1000\n",
      "    9    11     9  1001\n",
      "   10    12     A  1010\n",
      "   11    13     B  1011\n",
      "   12    14     C  1100\n",
      "   13    15     D  1101\n",
      "   14    16     E  1110\n",
      "   15    17     F  1111\n",
      "   16    20    10 10000\n",
      "   17    21    11 10001\n",
      "   18    22    12 10010\n",
      "   19    23    13 10011\n",
      "   20    24    14 10100\n",
      "   21    25    15 10101\n",
      "   22    26    16 10110\n",
      "   23    27    17 10111\n",
      "   24    30    18 11000\n",
      "   25    31    19 11001\n",
      "   26    32    1A 11010\n"
     ]
    }
   ],
   "source": [
    "def print_formatted(number):\n",
    "    \"\"\"\n",
    "    Function that prints the decimal, octal, hexadecimal, and binary values of a number.\n",
    "\n",
    "    Args:\n",
    "        number (int): Number to be converted.\n",
    "\n",
    "    Returns:\n",
    "        None\n",
    "    \"\"\"\n",
    "    #Here we calculate the width of the binary value of number and store it in variable format_width.\n",
    "    format_width = len(bin(number)[2:])\n",
    "\n",
    "    #Here we loop through the numbers from 1 to number and print the decimal, octal, hexadecimal, and binary values of each number.\n",
    "    #We use the rjust() method to right justify the values with a width of format_width. Also, we remove the \"0b\", \"0o\", and \"0x\" prefixes from the binary, octal, and hexadecimal values.\n",
    "    #The upper() method is used to capitalize the hexadecimal values and the str() function is used to convert the numbers to strings.\n",
    "    for i in range(1, number+1):\n",
    "        print(str(i).rjust(format_width, \" \"), oct(i)[2:].rjust(format_width, \" \"), hex(i)[2:].upper().rjust(format_width, \" \"), bin(i)[2:].rjust(format_width, \" \"))\n",
    "   \n",
    "#Here we take a number as input from the user and store it in variable n.\n",
    "n = int(input().strip())\n",
    "#Here we call the function print_formatted() to print the decimal, octal, hexadecimal, and binary values of the number formatted as specified.\n",
    "print_formatted(n)"
   ]
  },
  {
   "cell_type": "markdown",
   "metadata": {},
   "source": [
    "#### 1.3.11: [Alphabet Rangoli](https://www.hackerrank.com/challenges/alphabet-rangoli/problem?isFullScreen=true)\n",
    "\n",
    "**Task:**\n",
    "\n",
    "You are given an integer, $N$, Your task is to print an alphabet rangoli of size $N$ (Rangoli is a form of Indian folk art based on creation of patterns). The center of the rangoli has the first alphabet letter a, and the boundary has the $N^{\\text{th}}$ alphabet letter in alphabetical order."
   ]
  },
  {
   "cell_type": "code",
   "execution_count": 136,
   "metadata": {},
   "outputs": [
    {
     "name": "stdout",
     "output_type": "stream",
     "text": [
      "------------------j------------------\n",
      "----------------j-i-j----------------\n",
      "--------------j-i-h-i-j--------------\n",
      "------------j-i-h-g-h-i-j------------\n",
      "----------j-i-h-g-f-g-h-i-j----------\n",
      "--------j-i-h-g-f-e-f-g-h-i-j--------\n",
      "------j-i-h-g-f-e-d-e-f-g-h-i-j------\n",
      "----j-i-h-g-f-e-d-c-d-e-f-g-h-i-j----\n",
      "--j-i-h-g-f-e-d-c-b-c-d-e-f-g-h-i-j--\n",
      "j-i-h-g-f-e-d-c-b-a-b-c-d-e-f-g-h-i-j\n",
      "--j-i-h-g-f-e-d-c-b-c-d-e-f-g-h-i-j--\n",
      "----j-i-h-g-f-e-d-c-d-e-f-g-h-i-j----\n",
      "------j-i-h-g-f-e-d-e-f-g-h-i-j------\n",
      "--------j-i-h-g-f-e-f-g-h-i-j--------\n",
      "----------j-i-h-g-f-g-h-i-j----------\n",
      "------------j-i-h-g-h-i-j------------\n",
      "--------------j-i-h-i-j--------------\n",
      "----------------j-i-j----------------\n",
      "------------------j------------------\n"
     ]
    }
   ],
   "source": [
    "#Here we import the string module. This module is used to access the alphabet.\n",
    "import string\n",
    "\n",
    "#Here we define a function print_rangoli() that takes a size as input and prints a rangoli of that size.\n",
    "def print_rangoli(size):\n",
    "    \"\"\"\n",
    "    Function that prints a rangoli of a specified size.\n",
    "\n",
    "    Args:\n",
    "        size (int): Size of the rangoli.\n",
    "\n",
    "    Returns:\n",
    "        None\n",
    "    \"\"\"\n",
    "    #Here we create a list of the letters of the alphabet from a to z and slice it to get a number of letters equal to the size.  \n",
    "    alphabet_list = [letter for letter in string.ascii_lowercase][0:size]\n",
    "    #Here we create a list of the indices to iterate through size-1 to 0 and 0 to size-1. This is done to print the top and bottom parts of the rangoli.\n",
    "    iteration_list = [i for i in range(size-1, 0, -1)]+[i for i in range(0, size)]\n",
    "\n",
    "    #Here we loop through the indices in the iteration_list and print the top and bottom parts of the rangoli.\n",
    "    for i in iteration_list:\n",
    "        #The characters_united variable is used to store the characters united by lines to be printed in each line.\n",
    "        #In the special case where i is equal to size-1, this variable is simply equal to the last letter of the alphabet.\n",
    "        if i == size-1:\n",
    "            characters_united = alphabet_list[i]\n",
    "        #In the other cases, the characters are united forwards and backwards by lines.\n",
    "        else:\n",
    "            characters_united = \"-\".join(alphabet_list[:i:-1])+\"-\"+\"-\".join(alphabet_list[i:])\n",
    "        #Here we print the characters united by lines in each line. The center() method is used to center the characters and the \"-\" character is used to fill the empty spaces.\n",
    "        #The width of the center is 4*(size-1)+1 because the number of characters in each line is 4*(size-1)+1: 2 times the size minus 1 for the characters united by lines and 2 times the size minus 1 for the empty spaces.\n",
    "        print(characters_united.center(4*(size-1)+1, \"-\"))\n",
    "\n",
    "#Here we take the size of the rangoli as input from the user and store it in variable n.\n",
    "n = int(input().strip())\n",
    "\n",
    "#Here we call the function print_rangoli() to print the rangoli of the specified size.\n",
    "print_rangoli(n)"
   ]
  },
  {
   "cell_type": "markdown",
   "metadata": {},
   "source": [
    "#### 1.3.12: [Capitalize!](https://www.hackerrank.com/challenges/capitalize/problem?isFullScreen=true)\n",
    "\n",
    "**Task:**\n",
    "\n",
    "You are asked to ensure that the first and last names of people begin with a capital letter in their passports. For example, *alison heck* should be capitalised correctly as *Alison Heck*.\n",
    "\n",
    "> **Note:** To solve this exercise I consulted the Python [docs]https://docs.python.org/3/library/re.html() on the ```re``` package that uses regular expressions as a delimiter when splitting a string. I used this package since Hackerrank considers strings with more than one whitespace between them and that can't be taken into account by the simple ```split()``` Python method."
   ]
  },
  {
   "cell_type": "code",
   "execution_count": 144,
   "metadata": {},
   "outputs": [
    {
     "name": "stdout",
     "output_type": "stream",
     "text": [
      "['132', ' ', '456', ' ', 'Wq', '  ', 'm', ' ', 'e']\n",
      "132 456 Wq  M E\n"
     ]
    }
   ],
   "source": [
    "import re\n",
    "#Here we define a function solve() that takes a string as input and capitalizes the first letter of each word in the string.\n",
    "def solve(s):\n",
    "    \"\"\"\n",
    "    Function that capitalizes the first letter of each word in a string.\n",
    "\n",
    "    Args:\n",
    "        s (str): String to be modified.\n",
    "\n",
    "    Returns:\n",
    "        new_s (str): Modified string.\n",
    "    \"\"\"\n",
    "    #Here we split the string into names (actually, name and surname) INCLUDING the whitespaces since Hackerrank's test cases include names with more than one whitespace.\n",
    "    #The re.split() method is used to split the string using a regular expression as a delimiter.\n",
    "    #A regular expression is a sequence of characters that define a search pattern. In this case, the search pattern is a whitespace.\n",
    "    #The regular expression is written as \"\\s+\" where \"\\s\" represents a whitespace and \"+\" represents one or more occurrences of the preceding character.\n",
    "    s = re.split(r\"(\\s+)\", s)\n",
    "    #Here we capitalize the first letter of each name and join them with a whitespace.\n",
    "    new_s = \"\".join([name.capitalize() for name in s])\n",
    "\n",
    "    #Here we return the modified string.\n",
    "    return new_s\n",
    "\n",
    "#Here we take a string as input from the user and store it in variable s.\n",
    "s = input()\n",
    "\n",
    "#Here we call the function solve() to capitalize the first letter of each word in the string.\n",
    "result = solve(s)\n",
    "#Here we print the modified string.\n",
    "print(result)"
   ]
  },
  {
   "cell_type": "markdown",
   "metadata": {},
   "source": [
    "#### 1.3.13: [The Minion Game](https://www.hackerrank.com/challenges/the-minion-game/problem?isFullScreen=true)\n",
    "\n",
    "Kevin and Stuart want to play the **'The Minion Game'**.\n",
    "\n",
    "**Game Rules:**\n",
    "\n",
    "- Both players are given the same string, $S$.\n",
    "- Both players have to make substrings using the letters of the string $S$.\n",
    "- Stuart has to make words starting with consonants.\n",
    "- Kevin has to make words starting with vowels.\n",
    "- The game ends when both players have made all possible substrings.\n",
    "\n",
    "**Scoring:**\n",
    "\n",
    "A player gets $+1$ point for each occurence of the substring in the string $S$.\n",
    "\n",
    "**Task:**\n",
    "\n",
    "Complete the ```minion_game``` in the editor below.\n",
    "\n",
    "***\n",
    "\n",
    "**NOTE:** My first solution was a \"brute force\" one, where I calculated all substrings and then iterated from them:\n",
    "```python\n",
    "def minion_game(string):\n",
    "    \"\"\"\n",
    "    Function that prints the winner of the Minion game.\n",
    "\n",
    "    Args:\n",
    "        string (str): String to be checked.\n",
    "\n",
    "    Returns:\n",
    "        None\n",
    "    \"\"\"\n",
    "    vowels = [\"A\", \"E\", \"I\", \"O\", \"U\"]\n",
    "\n",
    "    kevin_score = 0\n",
    "    stuart_score = 0\n",
    "\n",
    "    sub_string_list = [string[i:j] for i in range(len(string)) for j in range(i+1, len(string)+1)]\n",
    "\n",
    "    for sub_string in sub_string_list:\n",
    "        if sub_string[0] in vowels:\n",
    "            kevin_score += 1\n",
    "        else:\n",
    "            stuart_score += 1\n",
    "\n",
    "    if kevin_score > stuart_score:\n",
    "        print(\"Kevin\", kevin_score)\n",
    "    elif kevin_score < stuart_score:\n",
    "        print(\"Stuart\", stuart_score)\n",
    "    else:\n",
    "        print(\"Draw\")\n",
    "\n",
    "s = input().strip()\n",
    "minion_game(s)  \n",
    "\n",
    "```\n",
    "\n",
    "Nevertheless this solution only worked for very short strings and always gave a Runtime Error when testing with very long strings. This is why I **checked** the Discussion section on Hackerrank in order to find out if there was a more efficient way to solve this exercise.\n",
    "\n",
    "> I ended up coding an almost identical version of the code provided by [Abhim123](Abhim123) and all credit should go to this person since I couldn't find a better way to perform this.\n"
   ]
  },
  {
   "cell_type": "code",
   "execution_count": 180,
   "metadata": {},
   "outputs": [
    {
     "name": "stdout",
     "output_type": "stream",
     "text": [
      "Stuart 12\n"
     ]
    }
   ],
   "source": [
    "#Here we define a function minion_game() that takes a string as input and prints the winner of the Minion game.\n",
    "def minion_game(string):\n",
    "    \"\"\"\n",
    "    Function that prints the winner of the Minion game.\n",
    "\n",
    "    Args:\n",
    "        string (str): String to be checked.\n",
    "\n",
    "    Returns:\n",
    "        None\n",
    "    \"\"\"\n",
    "    #Here we make a list with all the vowels.\n",
    "    vowels = [\"A\", \"E\", \"I\", \"O\", \"U\"]\n",
    "\n",
    "    #Here we initialize the scores of Kevin and Stuart to 0.\n",
    "    kevin_score = 0\n",
    "    stuart_score = 0\n",
    "\n",
    "    #Here we loop through the string and check if the character is a vowel or not.\n",
    "    for i in range(len(string)):\n",
    "        #If the character is a vowel, we add the number of substrings that can be formed starting with that vowel to Kevin's score.\n",
    "        if string[i] in vowels:\n",
    "            kevin_score += len(string) - i\n",
    "        #If the character is not a vowel, we add the number of substrings that can be formed starting with that consonant to Stuart's score.\n",
    "        else:\n",
    "            stuart_score += len(string) - i\n",
    "\n",
    "    #Finally, we print the winner of the game and their score. If the scores are equal, we print \"Draw\".\n",
    "    if kevin_score > stuart_score:\n",
    "        print(\"Kevin\", kevin_score)\n",
    "    elif kevin_score < stuart_score:\n",
    "        print(\"Stuart\", stuart_score)\n",
    "    else:\n",
    "        print(\"Draw\")\n",
    "\n",
    "#Here we take a string as input from the user and store it in variable s.\n",
    "s = input().strip()\n",
    "#Here we call the function minion_game() to start the game.\n",
    "minion_game(s)     "
   ]
  },
  {
   "cell_type": "markdown",
   "metadata": {},
   "source": [
    "#### 1.3.14: [Merge the Tools!](https://www.hackerrank.com/challenges/merge-the-tools/problem?isFullScreen=true)\n",
    "\n",
    "Consider the following:\n",
    "\n",
    "- A string $s$ of length $n$ where $s = c_{0}c_{1}\\cdots c_{n-1}$.\n",
    "- An integer $k$ where $k$ is a factor of $n$.\n",
    "\n",
    "We can split $s$ into $\\frac{n}{k}$ substrings where each substring $t_{i}$ consists of a contiguous block of $k$ characters in $s$. Then use each $t_{i}$ to create a string $u_{i}$ such that:\n",
    "\n",
    "- The characters in $u_{i}$ are a subsequence of the characters in $t_{i}$.\n",
    "- Any repeat occurrence of a character is removed from the string such that each character in $u_{i}$ occurs exactly once. In other words, if the character at some index $j$ in $t_{i}$ occurs at a previous index $< j$ in $t_{i}$ then do not include the character in string $u_{i}$.\n",
    "\n",
    "**Task:**\n",
    "\n",
    "Given $s$ and $k$ print $\\frac{n}{k}$ lines where each line $i$ denotes string $u_{i}$.\n",
    "\n",
    "> In order to solve this program, I used the OrderedDict class from the collections Python [package](https://docs.python.org/3/library/collections.html#collections.OrderedDict). This is a subclass from the more basic ```dict()``` built-in one but **preserves order** when the dictionary is created. The idea to use this class came from reading a StackOverflow [discussion](https://stackoverflow.com/questions/9841303/removing-duplicate-characters-from-a-string) when I searched for ways to eliminate duplicate characters from a string.\n"
   ]
  },
  {
   "cell_type": "code",
   "execution_count": 198,
   "metadata": {},
   "outputs": [
    {
     "name": "stdout",
     "output_type": "stream",
     "text": [
      "AB\n",
      "CA\n",
      "AD\n"
     ]
    }
   ],
   "source": [
    "#Here we import the textwrap module. This module is used to wrap the string to a specified width.\n",
    "import textwrap\n",
    "#Here we import the OrderedDict() class from the collections module. This function is used to remove the duplicate characters from each substring.\n",
    "from collections import OrderedDict\n",
    "\n",
    "#Here we define a function merge_the_tools() that takes a string and an integer as input and prints the substrings obtained by dividing the string into k equal parts without any duplicate characters.\n",
    "def merge_the_tools(string, k):\n",
    "    \"\"\"\n",
    "    Function that prints the substrings obtained by dividing a string into k equal parts without any duplicate characters.\n",
    "\n",
    "    Args:\n",
    "        string (str): String to be modified.\n",
    "        k (int): Number of equal parts.\n",
    "\n",
    "    Returns:\n",
    "        None\n",
    "    \"\"\"\n",
    "    #Here we create a list of substrings obtained by dividing the string into k equal parts using the textwrap.wrap() method that wraps the string to a specified width.\n",
    "    #The OrderedDict() function is used to remove the duplicate characters from each substring. This function returns an ordered dictionary where the keys are the characters in the substring and the values are None.\n",
    "    #The \"\".join() method is used to join the characters in each substring again.\n",
    "    substring_list = [\"\".join(OrderedDict.fromkeys(substring)) for substring in textwrap.wrap(string, k)]\n",
    "\n",
    "    #Here we loop through the substrings and print them.\n",
    "    for substring in substring_list:\n",
    "        print(substring)\n",
    "\n",
    "#Here we take a string and an integer as input from the user and store them in variables\n",
    "string, k = input().strip(), int(input().strip())\n",
    "merge_the_tools(string, k)\n"
   ]
  }
 ],
 "metadata": {
  "kernelspec": {
   "display_name": "adm",
   "language": "python",
   "name": "python3"
  },
  "language_info": {
   "codemirror_mode": {
    "name": "ipython",
    "version": 3
   },
   "file_extension": ".py",
   "mimetype": "text/x-python",
   "name": "python",
   "nbconvert_exporter": "python",
   "pygments_lexer": "ipython3",
   "version": "3.11.5"
  },
  "orig_nbformat": 4
 },
 "nbformat": 4,
 "nbformat_minor": 2
}
